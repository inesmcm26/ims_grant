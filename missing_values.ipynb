{
 "cells": [
  {
   "cell_type": "code",
   "execution_count": 81,
   "metadata": {},
   "outputs": [],
   "source": [
    "import numpy as np\n",
    "import pandas as pd\n",
    "from sklearn.impute import KNNImputer\n",
    "from scipy.spatial.distance import euclidean\n",
    "\n",
    "from mode_imputer import KNNImputerMode"
   ]
  },
  {
   "cell_type": "code",
   "execution_count": 82,
   "metadata": {},
   "outputs": [
    {
     "name": "stdout",
     "output_type": "stream",
     "text": [
      "The dataset contains 6394 rows and 217 features.\n"
     ]
    }
   ],
   "source": [
    "data = pd.read_csv('./Financial Well-Being Survey Data/NFWBS_PUF_2016_data.csv')\n",
    "\n",
    "print(f'The dataset contains {data.shape[0]} rows and {data.shape[1]} features.')"
   ]
  },
  {
   "attachments": {},
   "cell_type": "markdown",
   "metadata": {},
   "source": [
    "# Data cleaning"
   ]
  },
  {
   "cell_type": "code",
   "execution_count": 83,
   "metadata": {},
   "outputs": [],
   "source": [
    "data.set_index('PUF_ID', inplace=True)"
   ]
  },
  {
   "attachments": {},
   "cell_type": "markdown",
   "metadata": {},
   "source": [
    "## Dropping irrelevant features\n",
    "\n",
    "We can remove features that were used to feature engineering\n",
    "\n",
    "Engineered features: \n",
    "- FWBScore: created from FWB questions\n",
    "- FSscore: created from FS questions\n",
    "- LMscore: created from FINKKNOWL questions + FKcorrect\n",
    "- KHscore: created from KHKNOWL questions + KHcorrect\n",
    "- ON1correct: OBJNUMERACY1\n",
    "- ON2correct: OBJNUMERACY2"
   ]
  },
  {
   "cell_type": "code",
   "execution_count": 84,
   "metadata": {},
   "outputs": [
    {
     "data": {
      "text/plain": [
       "['FWBscore']"
      ]
     },
     "execution_count": 84,
     "metadata": {},
     "output_type": "execute_result"
    }
   ],
   "source": [
    "FWB_cols = list(filter(lambda x: 'FWB' in x, data.columns.values))\n",
    "FWB_drop = FWB_cols[1:]\n",
    "data.drop(FWB_drop, axis = 1, inplace = True)\n",
    "\n",
    "list(filter(lambda x: 'FWB' in x, data.columns.values))"
   ]
  },
  {
   "cell_type": "code",
   "execution_count": 85,
   "metadata": {},
   "outputs": [
    {
     "data": {
      "text/plain": [
       "['FSscore']"
      ]
     },
     "execution_count": 85,
     "metadata": {},
     "output_type": "execute_result"
    }
   ],
   "source": [
    "FS_cols = list(filter(lambda x: 'FS' in x, data.columns.values))\n",
    "FS_cols = FS_cols[1:]\n",
    "data.drop(FS_cols, axis = 1, inplace = True)\n",
    "\n",
    "list(filter(lambda x: 'FS' in x, data.columns.values))"
   ]
  },
  {
   "cell_type": "code",
   "execution_count": 86,
   "metadata": {},
   "outputs": [
    {
     "data": {
      "text/plain": [
       "[]"
      ]
     },
     "execution_count": 86,
     "metadata": {},
     "output_type": "execute_result"
    }
   ],
   "source": [
    "LM_cols = list(filter(lambda x: 'FINKNOWL' in x, data.columns.values))\n",
    "\n",
    "data.drop(LM_cols, axis = 1, inplace = True)\n",
    "\n",
    "list(filter(lambda x: 'FINKNOWL' in x, data.columns.values))"
   ]
  },
  {
   "cell_type": "code",
   "execution_count": 87,
   "metadata": {},
   "outputs": [],
   "source": [
    "FKcorrect_cols = ['FK1correct', 'FK2correct', 'FK3correct']\n",
    "\n",
    "data.drop(FKcorrect_cols, axis = 1, inplace = True)"
   ]
  },
  {
   "cell_type": "code",
   "execution_count": 88,
   "metadata": {},
   "outputs": [
    {
     "data": {
      "text/plain": [
       "[]"
      ]
     },
     "execution_count": 88,
     "metadata": {},
     "output_type": "execute_result"
    }
   ],
   "source": [
    "KH_cols = list(filter(lambda x: 'KHKNOWL' in x, data.columns.values))\n",
    "\n",
    "data.drop(KH_cols, axis = 1, inplace = True)\n",
    "\n",
    "list(filter(lambda x: 'KHKNOWL' in x, data.columns.values))"
   ]
  },
  {
   "cell_type": "code",
   "execution_count": 89,
   "metadata": {},
   "outputs": [],
   "source": [
    "KHcorrect_cols = ['KH1correct', 'KH2correct', 'KH3correct', 'KH4correct', 'KH5correct', 'KH6correct', 'KH7correct', 'KH8correct', 'KH9correct']\n",
    "\n",
    "data.drop(KHcorrect_cols, axis = 1, inplace = True)"
   ]
  },
  {
   "cell_type": "code",
   "execution_count": 90,
   "metadata": {},
   "outputs": [
    {
     "data": {
      "text/plain": [
       "[]"
      ]
     },
     "execution_count": 90,
     "metadata": {},
     "output_type": "execute_result"
    }
   ],
   "source": [
    "OBJNUMcols = list(filter(lambda x: 'OBJNUMERACY' in x, data.columns.values))\n",
    "\n",
    "data.drop(OBJNUMcols, axis = 1, inplace = True)\n",
    "\n",
    "list(filter(lambda x: 'OBJNUMERACY' in x, data.columns.values))"
   ]
  },
  {
   "cell_type": "code",
   "execution_count": 91,
   "metadata": {},
   "outputs": [
    {
     "data": {
      "text/html": [
       "<div>\n",
       "<style scoped>\n",
       "    .dataframe tbody tr th:only-of-type {\n",
       "        vertical-align: middle;\n",
       "    }\n",
       "\n",
       "    .dataframe tbody tr th {\n",
       "        vertical-align: top;\n",
       "    }\n",
       "\n",
       "    .dataframe thead th {\n",
       "        text-align: right;\n",
       "    }\n",
       "</style>\n",
       "<table border=\"1\" class=\"dataframe\">\n",
       "  <thead>\n",
       "    <tr style=\"text-align: right;\">\n",
       "      <th></th>\n",
       "      <th>sample</th>\n",
       "      <th>fpl</th>\n",
       "      <th>SWB_1</th>\n",
       "      <th>SWB_2</th>\n",
       "      <th>SWB_3</th>\n",
       "      <th>FWBscore</th>\n",
       "      <th>FSscore</th>\n",
       "      <th>SUBKNOWL1</th>\n",
       "      <th>ACT1_1</th>\n",
       "      <th>ACT1_2</th>\n",
       "      <th>...</th>\n",
       "      <th>PPMSACAT</th>\n",
       "      <th>PPREG4</th>\n",
       "      <th>PPREG9</th>\n",
       "      <th>PPT01</th>\n",
       "      <th>PPT25</th>\n",
       "      <th>PPT612</th>\n",
       "      <th>PPT1317</th>\n",
       "      <th>PPT18OV</th>\n",
       "      <th>PCTLT200FPL</th>\n",
       "      <th>finalwt</th>\n",
       "    </tr>\n",
       "    <tr>\n",
       "      <th>PUF_ID</th>\n",
       "      <th></th>\n",
       "      <th></th>\n",
       "      <th></th>\n",
       "      <th></th>\n",
       "      <th></th>\n",
       "      <th></th>\n",
       "      <th></th>\n",
       "      <th></th>\n",
       "      <th></th>\n",
       "      <th></th>\n",
       "      <th></th>\n",
       "      <th></th>\n",
       "      <th></th>\n",
       "      <th></th>\n",
       "      <th></th>\n",
       "      <th></th>\n",
       "      <th></th>\n",
       "      <th></th>\n",
       "      <th></th>\n",
       "      <th></th>\n",
       "      <th></th>\n",
       "    </tr>\n",
       "  </thead>\n",
       "  <tbody>\n",
       "    <tr>\n",
       "      <th>10350</th>\n",
       "      <td>2</td>\n",
       "      <td>3</td>\n",
       "      <td>5</td>\n",
       "      <td>5</td>\n",
       "      <td>6</td>\n",
       "      <td>55</td>\n",
       "      <td>44</td>\n",
       "      <td>5</td>\n",
       "      <td>4</td>\n",
       "      <td>3</td>\n",
       "      <td>...</td>\n",
       "      <td>1</td>\n",
       "      <td>4</td>\n",
       "      <td>8</td>\n",
       "      <td>0</td>\n",
       "      <td>0</td>\n",
       "      <td>0</td>\n",
       "      <td>0</td>\n",
       "      <td>1</td>\n",
       "      <td>0</td>\n",
       "      <td>0.367292</td>\n",
       "    </tr>\n",
       "    <tr>\n",
       "      <th>7740</th>\n",
       "      <td>1</td>\n",
       "      <td>3</td>\n",
       "      <td>6</td>\n",
       "      <td>6</td>\n",
       "      <td>6</td>\n",
       "      <td>51</td>\n",
       "      <td>43</td>\n",
       "      <td>5</td>\n",
       "      <td>4</td>\n",
       "      <td>3</td>\n",
       "      <td>...</td>\n",
       "      <td>1</td>\n",
       "      <td>2</td>\n",
       "      <td>3</td>\n",
       "      <td>0</td>\n",
       "      <td>0</td>\n",
       "      <td>0</td>\n",
       "      <td>0</td>\n",
       "      <td>2</td>\n",
       "      <td>0</td>\n",
       "      <td>1.327561</td>\n",
       "    </tr>\n",
       "    <tr>\n",
       "      <th>13699</th>\n",
       "      <td>1</td>\n",
       "      <td>3</td>\n",
       "      <td>4</td>\n",
       "      <td>3</td>\n",
       "      <td>4</td>\n",
       "      <td>49</td>\n",
       "      <td>42</td>\n",
       "      <td>5</td>\n",
       "      <td>3</td>\n",
       "      <td>3</td>\n",
       "      <td>...</td>\n",
       "      <td>1</td>\n",
       "      <td>4</td>\n",
       "      <td>9</td>\n",
       "      <td>0</td>\n",
       "      <td>0</td>\n",
       "      <td>0</td>\n",
       "      <td>1</td>\n",
       "      <td>2</td>\n",
       "      <td>1</td>\n",
       "      <td>0.835156</td>\n",
       "    </tr>\n",
       "    <tr>\n",
       "      <th>7267</th>\n",
       "      <td>1</td>\n",
       "      <td>3</td>\n",
       "      <td>6</td>\n",
       "      <td>6</td>\n",
       "      <td>6</td>\n",
       "      <td>49</td>\n",
       "      <td>42</td>\n",
       "      <td>-1</td>\n",
       "      <td>-1</td>\n",
       "      <td>-1</td>\n",
       "      <td>...</td>\n",
       "      <td>1</td>\n",
       "      <td>3</td>\n",
       "      <td>7</td>\n",
       "      <td>0</td>\n",
       "      <td>0</td>\n",
       "      <td>0</td>\n",
       "      <td>0</td>\n",
       "      <td>1</td>\n",
       "      <td>0</td>\n",
       "      <td>1.410871</td>\n",
       "    </tr>\n",
       "    <tr>\n",
       "      <th>7375</th>\n",
       "      <td>1</td>\n",
       "      <td>3</td>\n",
       "      <td>4</td>\n",
       "      <td>4</td>\n",
       "      <td>4</td>\n",
       "      <td>49</td>\n",
       "      <td>42</td>\n",
       "      <td>4</td>\n",
       "      <td>3</td>\n",
       "      <td>3</td>\n",
       "      <td>...</td>\n",
       "      <td>1</td>\n",
       "      <td>2</td>\n",
       "      <td>4</td>\n",
       "      <td>0</td>\n",
       "      <td>0</td>\n",
       "      <td>1</td>\n",
       "      <td>0</td>\n",
       "      <td>4</td>\n",
       "      <td>1</td>\n",
       "      <td>4.260668</td>\n",
       "    </tr>\n",
       "  </tbody>\n",
       "</table>\n",
       "<p>5 rows × 171 columns</p>\n",
       "</div>"
      ],
      "text/plain": [
       "        sample  fpl  SWB_1  SWB_2  SWB_3  FWBscore  FSscore  SUBKNOWL1  \\\n",
       "PUF_ID                                                                   \n",
       "10350        2    3      5      5      6        55       44          5   \n",
       "7740         1    3      6      6      6        51       43          5   \n",
       "13699        1    3      4      3      4        49       42          5   \n",
       "7267         1    3      6      6      6        49       42         -1   \n",
       "7375         1    3      4      4      4        49       42          4   \n",
       "\n",
       "        ACT1_1  ACT1_2  ...  PPMSACAT  PPREG4  PPREG9  PPT01  PPT25  PPT612  \\\n",
       "PUF_ID                  ...                                                   \n",
       "10350        4       3  ...         1       4       8      0      0       0   \n",
       "7740         4       3  ...         1       2       3      0      0       0   \n",
       "13699        3       3  ...         1       4       9      0      0       0   \n",
       "7267        -1      -1  ...         1       3       7      0      0       0   \n",
       "7375         3       3  ...         1       2       4      0      0       1   \n",
       "\n",
       "        PPT1317  PPT18OV  PCTLT200FPL   finalwt  \n",
       "PUF_ID                                           \n",
       "10350         0        1            0  0.367292  \n",
       "7740          0        2            0  1.327561  \n",
       "13699         1        2            1  0.835156  \n",
       "7267          0        1            0  1.410871  \n",
       "7375          0        4            1  4.260668  \n",
       "\n",
       "[5 rows x 171 columns]"
      ]
     },
     "execution_count": 91,
     "metadata": {},
     "output_type": "execute_result"
    }
   ],
   "source": [
    "data.head()"
   ]
  },
  {
   "attachments": {},
   "cell_type": "markdown",
   "metadata": {},
   "source": [
    "## Missing values"
   ]
  },
  {
   "attachments": {},
   "cell_type": "markdown",
   "metadata": {},
   "source": [
    "__-5: County not known__\n",
    "\n",
    "\n",
    "Use PPREG9, PPINCIMP and PPEDUC to impute PCTLT200FPL\n",
    "PPEDUC: ordinal\n",
    "<br>\n",
    "PPINCIMP: ordinal\n",
    "<br>\n",
    "PPREG9: categorical\n",
    "\n",
    "distance to find nearest neighbors: euclidean for PPINC, PPEDUC  + one hot for PPREG9"
   ]
  },
  {
   "cell_type": "code",
   "execution_count": 92,
   "metadata": {},
   "outputs": [],
   "source": [
    "# replace by missing values\n",
    "data = data.replace(-5, np.nan)"
   ]
  },
  {
   "cell_type": "code",
   "execution_count": 93,
   "metadata": {},
   "outputs": [
    {
     "name": "stdout",
     "output_type": "stream",
     "text": [
      "nr of rows with missing value: 395\n"
     ]
    }
   ],
   "source": [
    "nrows = data[data['PCTLT200FPL'].isna()].shape[0]\n",
    "print(f'nr of rows with missing value: {nrows}')"
   ]
  },
  {
   "cell_type": "code",
   "execution_count": 94,
   "metadata": {},
   "outputs": [],
   "source": [
    "def distance(X, Y, missing_values = np.nan):\n",
    "    \n",
    "    X[np.isnan(X)] = 0\n",
    "    Y[np.isnan(Y)] = 0\n",
    "\n",
    "    eucl_dist = euclidean(X[[0, 1]], Y[[0, 1]])\n",
    "\n",
    "    return eucl_dist + (X[2] != Y[2])"
   ]
  },
  {
   "cell_type": "code",
   "execution_count": 95,
   "metadata": {},
   "outputs": [],
   "source": [
    "imputer = KNNImputerMode(n_neighbors = 5, metric = distance)\n",
    "\n",
    "cols = ['PPEDUC', 'PPINCIMP', 'PPREG9', 'PCTLT200FPL']\n",
    "\n",
    "new_data = imputer.fit_transform(data[cols])\n",
    "\n",
    "new_data = pd.DataFrame(new_data, columns = cols, index = data.index)"
   ]
  },
  {
   "cell_type": "code",
   "execution_count": 96,
   "metadata": {},
   "outputs": [
    {
     "data": {
      "text/plain": [
       "0.0    4842\n",
       "1.0    1552\n",
       "Name: PCTLT200FPL, dtype: int64"
      ]
     },
     "execution_count": 96,
     "metadata": {},
     "output_type": "execute_result"
    }
   ],
   "source": [
    "new_data['PCTLT200FPL'].value_counts()"
   ]
  },
  {
   "cell_type": "code",
   "execution_count": 97,
   "metadata": {},
   "outputs": [],
   "source": [
    "data.loc[data['PCTLT200FPL'].isna(), 'PCTLT200FPL'] = new_data.loc[data['PCTLT200FPL'].isna(), 'PCTLT200FPL'].copy()"
   ]
  },
  {
   "attachments": {},
   "cell_type": "markdown",
   "metadata": {},
   "source": [
    "__-4: Response not written to the database due to error__: SWB only (because FWB dropped) ->DROP"
   ]
  },
  {
   "cell_type": "code",
   "execution_count": 98,
   "metadata": {},
   "outputs": [
    {
     "data": {
      "text/html": [
       "<div>\n",
       "<style scoped>\n",
       "    .dataframe tbody tr th:only-of-type {\n",
       "        vertical-align: middle;\n",
       "    }\n",
       "\n",
       "    .dataframe tbody tr th {\n",
       "        vertical-align: top;\n",
       "    }\n",
       "\n",
       "    .dataframe thead th {\n",
       "        text-align: right;\n",
       "    }\n",
       "</style>\n",
       "<table border=\"1\" class=\"dataframe\">\n",
       "  <thead>\n",
       "    <tr style=\"text-align: right;\">\n",
       "      <th></th>\n",
       "      <th>sample</th>\n",
       "      <th>fpl</th>\n",
       "      <th>SWB_1</th>\n",
       "      <th>SWB_2</th>\n",
       "      <th>SWB_3</th>\n",
       "      <th>FWBscore</th>\n",
       "      <th>FSscore</th>\n",
       "      <th>SUBKNOWL1</th>\n",
       "      <th>ACT1_1</th>\n",
       "      <th>ACT1_2</th>\n",
       "      <th>...</th>\n",
       "      <th>PPMSACAT</th>\n",
       "      <th>PPREG4</th>\n",
       "      <th>PPREG9</th>\n",
       "      <th>PPT01</th>\n",
       "      <th>PPT25</th>\n",
       "      <th>PPT612</th>\n",
       "      <th>PPT1317</th>\n",
       "      <th>PPT18OV</th>\n",
       "      <th>PCTLT200FPL</th>\n",
       "      <th>finalwt</th>\n",
       "    </tr>\n",
       "    <tr>\n",
       "      <th>PUF_ID</th>\n",
       "      <th></th>\n",
       "      <th></th>\n",
       "      <th></th>\n",
       "      <th></th>\n",
       "      <th></th>\n",
       "      <th></th>\n",
       "      <th></th>\n",
       "      <th></th>\n",
       "      <th></th>\n",
       "      <th></th>\n",
       "      <th></th>\n",
       "      <th></th>\n",
       "      <th></th>\n",
       "      <th></th>\n",
       "      <th></th>\n",
       "      <th></th>\n",
       "      <th></th>\n",
       "      <th></th>\n",
       "      <th></th>\n",
       "      <th></th>\n",
       "      <th></th>\n",
       "    </tr>\n",
       "  </thead>\n",
       "  <tbody>\n",
       "    <tr>\n",
       "      <th>12173</th>\n",
       "      <td>1</td>\n",
       "      <td>3</td>\n",
       "      <td>-4</td>\n",
       "      <td>-4</td>\n",
       "      <td>-4</td>\n",
       "      <td>-4</td>\n",
       "      <td>48</td>\n",
       "      <td>7</td>\n",
       "      <td>4</td>\n",
       "      <td>3</td>\n",
       "      <td>...</td>\n",
       "      <td>1</td>\n",
       "      <td>3</td>\n",
       "      <td>5</td>\n",
       "      <td>0</td>\n",
       "      <td>0</td>\n",
       "      <td>0</td>\n",
       "      <td>0</td>\n",
       "      <td>1</td>\n",
       "      <td>0.0</td>\n",
       "      <td>1.253964</td>\n",
       "    </tr>\n",
       "  </tbody>\n",
       "</table>\n",
       "<p>1 rows × 171 columns</p>\n",
       "</div>"
      ],
      "text/plain": [
       "        sample  fpl  SWB_1  SWB_2  SWB_3  FWBscore  FSscore  SUBKNOWL1  \\\n",
       "PUF_ID                                                                   \n",
       "12173        1    3     -4     -4     -4        -4       48          7   \n",
       "\n",
       "        ACT1_1  ACT1_2  ...  PPMSACAT  PPREG4  PPREG9  PPT01  PPT25  PPT612  \\\n",
       "PUF_ID                  ...                                                   \n",
       "12173        4       3  ...         1       3       5      0      0       0   \n",
       "\n",
       "        PPT1317  PPT18OV  PCTLT200FPL   finalwt  \n",
       "PUF_ID                                           \n",
       "12173         0        1          0.0  1.253964  \n",
       "\n",
       "[1 rows x 171 columns]"
      ]
     },
     "execution_count": 98,
     "metadata": {},
     "output_type": "execute_result"
    }
   ],
   "source": [
    "data[(data == -4).any(axis = 1)]"
   ]
  },
  {
   "cell_type": "code",
   "execution_count": 99,
   "metadata": {},
   "outputs": [],
   "source": [
    "data.drop(12173, axis = 0, inplace = True)"
   ]
  },
  {
   "attachments": {},
   "cell_type": "markdown",
   "metadata": {},
   "source": [
    "__-3: Invalid response/ Incoherent data__\n",
    "\n",
    "- Drop the only row with KIDS_2 = -3\n",
    "- Replace -3 with -2 for SOCSEC2 because -3 are caused by invalid age, therefore -2 is the adequate label.\n",
    "- Replace -3 with the mode for SOCSEC3"
   ]
  },
  {
   "attachments": {},
   "cell_type": "markdown",
   "metadata": {},
   "source": [
    "KIDS_2 drop"
   ]
  },
  {
   "cell_type": "code",
   "execution_count": 100,
   "metadata": {},
   "outputs": [
    {
     "data": {
      "text/html": [
       "<div>\n",
       "<style scoped>\n",
       "    .dataframe tbody tr th:only-of-type {\n",
       "        vertical-align: middle;\n",
       "    }\n",
       "\n",
       "    .dataframe tbody tr th {\n",
       "        vertical-align: top;\n",
       "    }\n",
       "\n",
       "    .dataframe thead th {\n",
       "        text-align: right;\n",
       "    }\n",
       "</style>\n",
       "<table border=\"1\" class=\"dataframe\">\n",
       "  <thead>\n",
       "    <tr style=\"text-align: right;\">\n",
       "      <th></th>\n",
       "      <th>sample</th>\n",
       "      <th>fpl</th>\n",
       "      <th>SWB_1</th>\n",
       "      <th>SWB_2</th>\n",
       "      <th>SWB_3</th>\n",
       "      <th>FWBscore</th>\n",
       "      <th>FSscore</th>\n",
       "      <th>SUBKNOWL1</th>\n",
       "      <th>ACT1_1</th>\n",
       "      <th>ACT1_2</th>\n",
       "      <th>...</th>\n",
       "      <th>PPMSACAT</th>\n",
       "      <th>PPREG4</th>\n",
       "      <th>PPREG9</th>\n",
       "      <th>PPT01</th>\n",
       "      <th>PPT25</th>\n",
       "      <th>PPT612</th>\n",
       "      <th>PPT1317</th>\n",
       "      <th>PPT18OV</th>\n",
       "      <th>PCTLT200FPL</th>\n",
       "      <th>finalwt</th>\n",
       "    </tr>\n",
       "    <tr>\n",
       "      <th>PUF_ID</th>\n",
       "      <th></th>\n",
       "      <th></th>\n",
       "      <th></th>\n",
       "      <th></th>\n",
       "      <th></th>\n",
       "      <th></th>\n",
       "      <th></th>\n",
       "      <th></th>\n",
       "      <th></th>\n",
       "      <th></th>\n",
       "      <th></th>\n",
       "      <th></th>\n",
       "      <th></th>\n",
       "      <th></th>\n",
       "      <th></th>\n",
       "      <th></th>\n",
       "      <th></th>\n",
       "      <th></th>\n",
       "      <th></th>\n",
       "      <th></th>\n",
       "      <th></th>\n",
       "    </tr>\n",
       "  </thead>\n",
       "  <tbody>\n",
       "    <tr>\n",
       "      <th>13237</th>\n",
       "      <td>1</td>\n",
       "      <td>2</td>\n",
       "      <td>3</td>\n",
       "      <td>7</td>\n",
       "      <td>7</td>\n",
       "      <td>52</td>\n",
       "      <td>50</td>\n",
       "      <td>5</td>\n",
       "      <td>4</td>\n",
       "      <td>4</td>\n",
       "      <td>...</td>\n",
       "      <td>1</td>\n",
       "      <td>2</td>\n",
       "      <td>3</td>\n",
       "      <td>0</td>\n",
       "      <td>0</td>\n",
       "      <td>1</td>\n",
       "      <td>1</td>\n",
       "      <td>3</td>\n",
       "      <td>0.0</td>\n",
       "      <td>1.690435</td>\n",
       "    </tr>\n",
       "  </tbody>\n",
       "</table>\n",
       "<p>1 rows × 171 columns</p>\n",
       "</div>"
      ],
      "text/plain": [
       "        sample  fpl  SWB_1  SWB_2  SWB_3  FWBscore  FSscore  SUBKNOWL1  \\\n",
       "PUF_ID                                                                   \n",
       "13237        1    2      3      7      7        52       50          5   \n",
       "\n",
       "        ACT1_1  ACT1_2  ...  PPMSACAT  PPREG4  PPREG9  PPT01  PPT25  PPT612  \\\n",
       "PUF_ID                  ...                                                   \n",
       "13237        4       4  ...         1       2       3      0      0       1   \n",
       "\n",
       "        PPT1317  PPT18OV  PCTLT200FPL   finalwt  \n",
       "PUF_ID                                           \n",
       "13237         1        3          0.0  1.690435  \n",
       "\n",
       "[1 rows x 171 columns]"
      ]
     },
     "execution_count": 100,
     "metadata": {},
     "output_type": "execute_result"
    }
   ],
   "source": [
    "data[data['KIDS_2'] == -3]"
   ]
  },
  {
   "cell_type": "code",
   "execution_count": 101,
   "metadata": {},
   "outputs": [],
   "source": [
    "data.drop(13237, axis = 0, inplace = True)"
   ]
  },
  {
   "attachments": {},
   "cell_type": "markdown",
   "metadata": {},
   "source": [
    "SOCSEC2"
   ]
  },
  {
   "cell_type": "code",
   "execution_count": 102,
   "metadata": {},
   "outputs": [],
   "source": [
    "data['SOCSEC2'] = data['SOCSEC2'].replace(-3, -2).copy()"
   ]
  },
  {
   "attachments": {},
   "cell_type": "markdown",
   "metadata": {},
   "source": [
    "SOCSEC3"
   ]
  },
  {
   "cell_type": "code",
   "execution_count": 103,
   "metadata": {},
   "outputs": [],
   "source": [
    "data.loc[data['SOCSEC3'].isna(), 'SOCSEC3'] = data['SOCSEC3'].mode()[0]"
   ]
  },
  {
   "attachments": {},
   "cell_type": "markdown",
   "metadata": {},
   "source": [
    "__8: I can't recall__\n",
    "\n",
    "HSLOC: Where respondent attended high school\n",
    "- 1: US and territories\n",
    "- 2: Outside the US\n",
    "- 8: Can't recall\n",
    "\n",
    "What do to?\n",
    "- impute with mode"
   ]
  },
  {
   "cell_type": "code",
   "execution_count": 104,
   "metadata": {},
   "outputs": [],
   "source": [
    "data.loc[data['HSLOC'] == 8, 'HSLOC'] = data['HSLOC'].mode()[0]"
   ]
  },
  {
   "cell_type": "code",
   "execution_count": 105,
   "metadata": {},
   "outputs": [
    {
     "data": {
      "text/plain": [
       " 1    5406\n",
       "-1     644\n",
       " 2     342\n",
       "Name: HSLOC, dtype: int64"
      ]
     },
     "execution_count": 105,
     "metadata": {},
     "output_type": "execute_result"
    }
   ],
   "source": [
    "data['HSLOC'].value_counts()"
   ]
  },
  {
   "attachments": {},
   "cell_type": "markdown",
   "metadata": {},
   "source": [
    "__-1: Not answered/ Left blank__\n",
    "<br>\n",
    "__98: Don't know__\n",
    "<br>\n",
    "__99: Prefer not to say__\n",
    "\n",
    "\n",
    "- SWB: median\n",
    "- SUBKNOWL1: median\n",
    "- ACT: KNNImputerMode\n",
    "- FINGOALS: KNNImputerMode\n",
    "- MANAGE1_1: mode + knn\n",
    "- SAVEHABIT: KNNImputerMode\n",
    "- FRUGALITY: mode\n",
    "- AUTOMATED: KNNImputerMode\n",
    "- ASK: KNNImputerMode + mode\n",
    "- SUBNUMERACY: KNNImputerMode + mode\n",
    "- CHANGEABLE: mode\n",
    "- GOALCONF: KNNImputerMode\n",
    "- ENDSMEET: KNNImputerMode\n",
    "- HOUSING:  KNNImputerMode\n",
    "- LIVINGARRANGEMENT:\n",
    "<br>\n",
    "- HOUSERANGES:\n",
    "- VALUERANGES:\n",
    "- MORTGAGE:\n",
    "- SAVINGSRANGES:\n",
    "<br>\n",
    "- CONSPROTECT:\n",
    "- EARNERS:\n",
    "- VOLATILITY:\n",
    "- SNAP:\n",
    "- MATHARDSHIP_6:\n",
    "- COLLECT:\n",
    "- REJECTED:\n",
    "- ABSORBSHOCK:\n",
    "- BENEFITS:\n",
    "- FRAUD2:\n",
    "- COVERCOSTS:\n",
    "- BORROW:\n",
    "- MANAGE2:\n",
    "- PAIDHELP:\n",
    "- HSLOC:\n",
    "- PAREDUC:\n",
    "- FINSOC:\n",
    "- MATERIALISM:\n",
    "- CONNECT:\n",
    "- HEALTH:\n",
    "- SCFHORIZON:\n",
    "- DISCOUNT:\n",
    "- MEMLOSS:\n",
    "- DISTRESS:\n",
    "- SELFCONTROL:\n",
    "- OUTLOOK:\n",
    "- PEM:\n",
    "- HOUSESAT:\n",
    "- SOCSEC:\n",
    "- LIFEEXPECT:\n",
    "- HHEDUC:\n",
    "- KIDS:\n",
    "<br>\n",
    "- EMPLOY\n",
    "<br>\n",
    "- RETIRE:\n",
    "- MILITARY:\n",
    "- Military_Status:"
   ]
  },
  {
   "attachments": {},
   "cell_type": "markdown",
   "metadata": {},
   "source": [
    "First, let's replace the missing values with NaN"
   ]
  },
  {
   "cell_type": "code",
   "execution_count": 106,
   "metadata": {},
   "outputs": [],
   "source": [
    "data = data.replace(-1, np.nan)\n",
    "data = data.replace(98, np.nan)\n",
    "data = data.replace(99, np.nan)"
   ]
  },
  {
   "cell_type": "code",
   "execution_count": 107,
   "metadata": {},
   "outputs": [
    {
     "data": {
      "text/html": [
       "<div>\n",
       "<style scoped>\n",
       "    .dataframe tbody tr th:only-of-type {\n",
       "        vertical-align: middle;\n",
       "    }\n",
       "\n",
       "    .dataframe tbody tr th {\n",
       "        vertical-align: top;\n",
       "    }\n",
       "\n",
       "    .dataframe thead th {\n",
       "        text-align: right;\n",
       "    }\n",
       "</style>\n",
       "<table border=\"1\" class=\"dataframe\">\n",
       "  <thead>\n",
       "    <tr style=\"text-align: right;\">\n",
       "      <th></th>\n",
       "      <th>sample</th>\n",
       "      <th>fpl</th>\n",
       "      <th>SWB_1</th>\n",
       "      <th>SWB_2</th>\n",
       "      <th>SWB_3</th>\n",
       "      <th>FWBscore</th>\n",
       "      <th>FSscore</th>\n",
       "      <th>SUBKNOWL1</th>\n",
       "      <th>ACT1_1</th>\n",
       "      <th>ACT1_2</th>\n",
       "      <th>...</th>\n",
       "      <th>PPMSACAT</th>\n",
       "      <th>PPREG4</th>\n",
       "      <th>PPREG9</th>\n",
       "      <th>PPT01</th>\n",
       "      <th>PPT25</th>\n",
       "      <th>PPT612</th>\n",
       "      <th>PPT1317</th>\n",
       "      <th>PPT18OV</th>\n",
       "      <th>PCTLT200FPL</th>\n",
       "      <th>finalwt</th>\n",
       "    </tr>\n",
       "    <tr>\n",
       "      <th>PUF_ID</th>\n",
       "      <th></th>\n",
       "      <th></th>\n",
       "      <th></th>\n",
       "      <th></th>\n",
       "      <th></th>\n",
       "      <th></th>\n",
       "      <th></th>\n",
       "      <th></th>\n",
       "      <th></th>\n",
       "      <th></th>\n",
       "      <th></th>\n",
       "      <th></th>\n",
       "      <th></th>\n",
       "      <th></th>\n",
       "      <th></th>\n",
       "      <th></th>\n",
       "      <th></th>\n",
       "      <th></th>\n",
       "      <th></th>\n",
       "      <th></th>\n",
       "      <th></th>\n",
       "    </tr>\n",
       "  </thead>\n",
       "  <tbody>\n",
       "    <tr>\n",
       "      <th>7267</th>\n",
       "      <td>1</td>\n",
       "      <td>3</td>\n",
       "      <td>6.0</td>\n",
       "      <td>6.0</td>\n",
       "      <td>6.0</td>\n",
       "      <td>49.0</td>\n",
       "      <td>42.0</td>\n",
       "      <td>NaN</td>\n",
       "      <td>NaN</td>\n",
       "      <td>NaN</td>\n",
       "      <td>...</td>\n",
       "      <td>1</td>\n",
       "      <td>3</td>\n",
       "      <td>7</td>\n",
       "      <td>0</td>\n",
       "      <td>0</td>\n",
       "      <td>0</td>\n",
       "      <td>0</td>\n",
       "      <td>1</td>\n",
       "      <td>0.0</td>\n",
       "      <td>1.410871</td>\n",
       "    </tr>\n",
       "    <tr>\n",
       "      <th>8303</th>\n",
       "      <td>1</td>\n",
       "      <td>3</td>\n",
       "      <td>7.0</td>\n",
       "      <td>7.0</td>\n",
       "      <td>7.0</td>\n",
       "      <td>43.0</td>\n",
       "      <td>58.0</td>\n",
       "      <td>4.0</td>\n",
       "      <td>3.0</td>\n",
       "      <td>3.0</td>\n",
       "      <td>...</td>\n",
       "      <td>1</td>\n",
       "      <td>3</td>\n",
       "      <td>7</td>\n",
       "      <td>0</td>\n",
       "      <td>0</td>\n",
       "      <td>0</td>\n",
       "      <td>1</td>\n",
       "      <td>3</td>\n",
       "      <td>0.0</td>\n",
       "      <td>2.497838</td>\n",
       "    </tr>\n",
       "    <tr>\n",
       "      <th>9182</th>\n",
       "      <td>1</td>\n",
       "      <td>3</td>\n",
       "      <td>6.0</td>\n",
       "      <td>NaN</td>\n",
       "      <td>NaN</td>\n",
       "      <td>50.0</td>\n",
       "      <td>43.0</td>\n",
       "      <td>4.0</td>\n",
       "      <td>4.0</td>\n",
       "      <td>3.0</td>\n",
       "      <td>...</td>\n",
       "      <td>1</td>\n",
       "      <td>4</td>\n",
       "      <td>9</td>\n",
       "      <td>0</td>\n",
       "      <td>0</td>\n",
       "      <td>0</td>\n",
       "      <td>0</td>\n",
       "      <td>2</td>\n",
       "      <td>0.0</td>\n",
       "      <td>0.647301</td>\n",
       "    </tr>\n",
       "    <tr>\n",
       "      <th>11082</th>\n",
       "      <td>1</td>\n",
       "      <td>3</td>\n",
       "      <td>6.0</td>\n",
       "      <td>6.0</td>\n",
       "      <td>5.0</td>\n",
       "      <td>62.0</td>\n",
       "      <td>55.0</td>\n",
       "      <td>4.0</td>\n",
       "      <td>5.0</td>\n",
       "      <td>4.0</td>\n",
       "      <td>...</td>\n",
       "      <td>1</td>\n",
       "      <td>3</td>\n",
       "      <td>5</td>\n",
       "      <td>0</td>\n",
       "      <td>0</td>\n",
       "      <td>0</td>\n",
       "      <td>0</td>\n",
       "      <td>3</td>\n",
       "      <td>0.0</td>\n",
       "      <td>0.455829</td>\n",
       "    </tr>\n",
       "    <tr>\n",
       "      <th>8309</th>\n",
       "      <td>2</td>\n",
       "      <td>3</td>\n",
       "      <td>3.0</td>\n",
       "      <td>4.0</td>\n",
       "      <td>2.0</td>\n",
       "      <td>49.0</td>\n",
       "      <td>37.0</td>\n",
       "      <td>NaN</td>\n",
       "      <td>4.0</td>\n",
       "      <td>3.0</td>\n",
       "      <td>...</td>\n",
       "      <td>1</td>\n",
       "      <td>3</td>\n",
       "      <td>5</td>\n",
       "      <td>0</td>\n",
       "      <td>0</td>\n",
       "      <td>0</td>\n",
       "      <td>0</td>\n",
       "      <td>1</td>\n",
       "      <td>0.0</td>\n",
       "      <td>0.597089</td>\n",
       "    </tr>\n",
       "    <tr>\n",
       "      <th>...</th>\n",
       "      <td>...</td>\n",
       "      <td>...</td>\n",
       "      <td>...</td>\n",
       "      <td>...</td>\n",
       "      <td>...</td>\n",
       "      <td>...</td>\n",
       "      <td>...</td>\n",
       "      <td>...</td>\n",
       "      <td>...</td>\n",
       "      <td>...</td>\n",
       "      <td>...</td>\n",
       "      <td>...</td>\n",
       "      <td>...</td>\n",
       "      <td>...</td>\n",
       "      <td>...</td>\n",
       "      <td>...</td>\n",
       "      <td>...</td>\n",
       "      <td>...</td>\n",
       "      <td>...</td>\n",
       "      <td>...</td>\n",
       "      <td>...</td>\n",
       "    </tr>\n",
       "    <tr>\n",
       "      <th>11078</th>\n",
       "      <td>3</td>\n",
       "      <td>1</td>\n",
       "      <td>3.0</td>\n",
       "      <td>4.0</td>\n",
       "      <td>5.0</td>\n",
       "      <td>26.0</td>\n",
       "      <td>44.0</td>\n",
       "      <td>4.0</td>\n",
       "      <td>3.0</td>\n",
       "      <td>3.0</td>\n",
       "      <td>...</td>\n",
       "      <td>1</td>\n",
       "      <td>2</td>\n",
       "      <td>3</td>\n",
       "      <td>0</td>\n",
       "      <td>1</td>\n",
       "      <td>0</td>\n",
       "      <td>0</td>\n",
       "      <td>1</td>\n",
       "      <td>0.0</td>\n",
       "      <td>1.379959</td>\n",
       "    </tr>\n",
       "    <tr>\n",
       "      <th>12353</th>\n",
       "      <td>1</td>\n",
       "      <td>3</td>\n",
       "      <td>5.0</td>\n",
       "      <td>7.0</td>\n",
       "      <td>3.0</td>\n",
       "      <td>62.0</td>\n",
       "      <td>26.0</td>\n",
       "      <td>4.0</td>\n",
       "      <td>3.0</td>\n",
       "      <td>3.0</td>\n",
       "      <td>...</td>\n",
       "      <td>1</td>\n",
       "      <td>3</td>\n",
       "      <td>5</td>\n",
       "      <td>0</td>\n",
       "      <td>0</td>\n",
       "      <td>0</td>\n",
       "      <td>0</td>\n",
       "      <td>2</td>\n",
       "      <td>0.0</td>\n",
       "      <td>1.745759</td>\n",
       "    </tr>\n",
       "    <tr>\n",
       "      <th>12297</th>\n",
       "      <td>3</td>\n",
       "      <td>3</td>\n",
       "      <td>4.0</td>\n",
       "      <td>5.0</td>\n",
       "      <td>7.0</td>\n",
       "      <td>55.0</td>\n",
       "      <td>45.0</td>\n",
       "      <td>5.0</td>\n",
       "      <td>4.0</td>\n",
       "      <td>3.0</td>\n",
       "      <td>...</td>\n",
       "      <td>1</td>\n",
       "      <td>2</td>\n",
       "      <td>4</td>\n",
       "      <td>0</td>\n",
       "      <td>0</td>\n",
       "      <td>0</td>\n",
       "      <td>1</td>\n",
       "      <td>2</td>\n",
       "      <td>0.0</td>\n",
       "      <td>0.883213</td>\n",
       "    </tr>\n",
       "    <tr>\n",
       "      <th>13085</th>\n",
       "      <td>3</td>\n",
       "      <td>2</td>\n",
       "      <td>7.0</td>\n",
       "      <td>7.0</td>\n",
       "      <td>7.0</td>\n",
       "      <td>50.0</td>\n",
       "      <td>66.0</td>\n",
       "      <td>6.0</td>\n",
       "      <td>1.0</td>\n",
       "      <td>5.0</td>\n",
       "      <td>...</td>\n",
       "      <td>1</td>\n",
       "      <td>3</td>\n",
       "      <td>7</td>\n",
       "      <td>0</td>\n",
       "      <td>0</td>\n",
       "      <td>0</td>\n",
       "      <td>0</td>\n",
       "      <td>1</td>\n",
       "      <td>1.0</td>\n",
       "      <td>2.518084</td>\n",
       "    </tr>\n",
       "    <tr>\n",
       "      <th>13118</th>\n",
       "      <td>3</td>\n",
       "      <td>2</td>\n",
       "      <td>7.0</td>\n",
       "      <td>7.0</td>\n",
       "      <td>7.0</td>\n",
       "      <td>59.0</td>\n",
       "      <td>59.0</td>\n",
       "      <td>6.0</td>\n",
       "      <td>4.0</td>\n",
       "      <td>4.0</td>\n",
       "      <td>...</td>\n",
       "      <td>1</td>\n",
       "      <td>3</td>\n",
       "      <td>6</td>\n",
       "      <td>0</td>\n",
       "      <td>0</td>\n",
       "      <td>0</td>\n",
       "      <td>0</td>\n",
       "      <td>3</td>\n",
       "      <td>1.0</td>\n",
       "      <td>1.015219</td>\n",
       "    </tr>\n",
       "  </tbody>\n",
       "</table>\n",
       "<p>367 rows × 171 columns</p>\n",
       "</div>"
      ],
      "text/plain": [
       "        sample  fpl  SWB_1  SWB_2  SWB_3  FWBscore  FSscore  SUBKNOWL1  \\\n",
       "PUF_ID                                                                   \n",
       "7267         1    3    6.0    6.0    6.0      49.0     42.0        NaN   \n",
       "8303         1    3    7.0    7.0    7.0      43.0     58.0        4.0   \n",
       "9182         1    3    6.0    NaN    NaN      50.0     43.0        4.0   \n",
       "11082        1    3    6.0    6.0    5.0      62.0     55.0        4.0   \n",
       "8309         2    3    3.0    4.0    2.0      49.0     37.0        NaN   \n",
       "...        ...  ...    ...    ...    ...       ...      ...        ...   \n",
       "11078        3    1    3.0    4.0    5.0      26.0     44.0        4.0   \n",
       "12353        1    3    5.0    7.0    3.0      62.0     26.0        4.0   \n",
       "12297        3    3    4.0    5.0    7.0      55.0     45.0        5.0   \n",
       "13085        3    2    7.0    7.0    7.0      50.0     66.0        6.0   \n",
       "13118        3    2    7.0    7.0    7.0      59.0     59.0        6.0   \n",
       "\n",
       "        ACT1_1  ACT1_2  ...  PPMSACAT  PPREG4  PPREG9  PPT01  PPT25  PPT612  \\\n",
       "PUF_ID                  ...                                                   \n",
       "7267       NaN     NaN  ...         1       3       7      0      0       0   \n",
       "8303       3.0     3.0  ...         1       3       7      0      0       0   \n",
       "9182       4.0     3.0  ...         1       4       9      0      0       0   \n",
       "11082      5.0     4.0  ...         1       3       5      0      0       0   \n",
       "8309       4.0     3.0  ...         1       3       5      0      0       0   \n",
       "...        ...     ...  ...       ...     ...     ...    ...    ...     ...   \n",
       "11078      3.0     3.0  ...         1       2       3      0      1       0   \n",
       "12353      3.0     3.0  ...         1       3       5      0      0       0   \n",
       "12297      4.0     3.0  ...         1       2       4      0      0       0   \n",
       "13085      1.0     5.0  ...         1       3       7      0      0       0   \n",
       "13118      4.0     4.0  ...         1       3       6      0      0       0   \n",
       "\n",
       "        PPT1317  PPT18OV  PCTLT200FPL   finalwt  \n",
       "PUF_ID                                           \n",
       "7267          0        1          0.0  1.410871  \n",
       "8303          1        3          0.0  2.497838  \n",
       "9182          0        2          0.0  0.647301  \n",
       "11082         0        3          0.0  0.455829  \n",
       "8309          0        1          0.0  0.597089  \n",
       "...         ...      ...          ...       ...  \n",
       "11078         0        1          0.0  1.379959  \n",
       "12353         0        2          0.0  1.745759  \n",
       "12297         1        2          0.0  0.883213  \n",
       "13085         0        1          1.0  2.518084  \n",
       "13118         0        3          1.0  1.015219  \n",
       "\n",
       "[367 rows x 171 columns]"
      ]
     },
     "execution_count": 107,
     "metadata": {},
     "output_type": "execute_result"
    }
   ],
   "source": [
    "data[data.isna().sum(axis = 1) >= 5]"
   ]
  },
  {
   "attachments": {},
   "cell_type": "markdown",
   "metadata": {},
   "source": [
    "Now let's drop the rows with more than 5 missing values"
   ]
  },
  {
   "cell_type": "code",
   "execution_count": 108,
   "metadata": {},
   "outputs": [],
   "source": [
    "data.drop(data[data.isna().sum(axis = 1) >= 5].index, axis = 0, inplace = True)"
   ]
  },
  {
   "cell_type": "code",
   "execution_count": 109,
   "metadata": {},
   "outputs": [
    {
     "data": {
      "text/plain": [
       "(6025, 171)"
      ]
     },
     "execution_count": 109,
     "metadata": {},
     "output_type": "execute_result"
    }
   ],
   "source": [
    "data.shape"
   ]
  },
  {
   "attachments": {},
   "cell_type": "markdown",
   "metadata": {},
   "source": [
    "Now, let's see which columns have missing values"
   ]
  },
  {
   "cell_type": "code",
   "execution_count": 110,
   "metadata": {},
   "outputs": [
    {
     "data": {
      "text/plain": [
       "Index(['sample', 'fpl', 'SWB_1', 'SWB_2', 'SWB_3', 'FWBscore', 'FSscore',\n",
       "       'SUBKNOWL1', 'ACT1_1', 'ACT1_2',\n",
       "       ...\n",
       "       'PPMSACAT', 'PPREG4', 'PPREG9', 'PPT01', 'PPT25', 'PPT612', 'PPT1317',\n",
       "       'PPT18OV', 'PCTLT200FPL', 'finalwt'],\n",
       "      dtype='object', length=171)"
      ]
     },
     "execution_count": 110,
     "metadata": {},
     "output_type": "execute_result"
    }
   ],
   "source": [
    "data.isna().sum(axis = 0).index"
   ]
  },
  {
   "attachments": {},
   "cell_type": "markdown",
   "metadata": {},
   "source": [
    "And how many missing values per column"
   ]
  },
  {
   "cell_type": "code",
   "execution_count": 111,
   "metadata": {},
   "outputs": [
    {
     "data": {
      "text/plain": [
       "SWB_1              12\n",
       "SWB_2              37\n",
       "SWB_3              38\n",
       "SUBKNOWL1          34\n",
       "ACT1_1             14\n",
       "                   ..\n",
       "KIDS_4              7\n",
       "EMPLOY             44\n",
       "RETIRE              2\n",
       "MILITARY           15\n",
       "Military_Status    31\n",
       "Length: 79, dtype: int64"
      ]
     },
     "execution_count": 111,
     "metadata": {},
     "output_type": "execute_result"
    }
   ],
   "source": [
    "# how many missing values per column that has missing values\n",
    "\n",
    "data.isna().sum(axis = 0)[data.isna().sum(axis = 0) > 0]"
   ]
  },
  {
   "attachments": {},
   "cell_type": "markdown",
   "metadata": {},
   "source": [
    "Get all columns with less than 100 missing values"
   ]
  },
  {
   "cell_type": "code",
   "execution_count": 112,
   "metadata": {},
   "outputs": [
    {
     "data": {
      "text/plain": [
       "Index(['SWB_1', 'SWB_2', 'SWB_3', 'SUBKNOWL1', 'ACT1_1', 'ACT1_2', 'FINGOALS',\n",
       "       'SAVEHABIT', 'FRUGALITY', 'AUTOMATED_1', 'AUTOMATED_2', 'ASK1_1',\n",
       "       'ASK1_2', 'SUBNUMERACY2', 'SUBNUMERACY1', 'CHANGEABLE', 'GOALCONF',\n",
       "       'ENDSMEET', 'HOUSING', 'LIVINGARRANGEMENT', 'CONSPROTECT1',\n",
       "       'CONSPROTECT2', 'CONSPROTECT3', 'EARNERS', 'VOLATILITY', 'SNAP',\n",
       "       'MATHARDSHIP_6', 'COLLECT', 'REJECTED_1', 'REJECTED_2', 'ABSORBSHOCK',\n",
       "       'BENEFITS_3', 'BENEFITS_4', 'BENEFITS_5', 'FRAUD2', 'COVERCOSTS',\n",
       "       'MANAGE2', 'PAIDHELP', 'PAREDUC', 'FINSOC2_3', 'FINSOC2_5', 'FINSOC2_6',\n",
       "       'MATERIALISM_1', 'MATERIALISM_2', 'MATERIALISM_3', 'HEALTH',\n",
       "       'SCFHORIZON', 'DISCOUNT', 'MEMLOSS', 'DISTRESS', 'SELFCONTROL_1',\n",
       "       'SELFCONTROL_2', 'SELFCONTROL_3', 'OUTLOOK_1', 'OUTLOOK_2', 'PEM',\n",
       "       'HOUSESAT', 'SOCSEC1', 'SOCSEC2', 'SOCSEC3', 'HHEDUC', 'KIDS_1',\n",
       "       'KIDS_2', 'KIDS_3', 'KIDS_4', 'EMPLOY', 'RETIRE', 'MILITARY',\n",
       "       'Military_Status'],\n",
       "      dtype='object')"
      ]
     },
     "execution_count": 112,
     "metadata": {},
     "output_type": "execute_result"
    }
   ],
   "source": [
    "# get all columns with less than 100 missing values\n",
    "\n",
    "data.isna().sum(axis = 0)[(data.isna().sum(axis = 0) > 0) & (data.isna().sum(axis = 0) < 100)].index"
   ]
  },
  {
   "cell_type": "code",
   "execution_count": 113,
   "metadata": {},
   "outputs": [
    {
     "data": {
      "text/plain": [
       "Index(['HOUSERANGES', 'VALUERANGES', 'MORTGAGE', 'SAVINGSRANGES', 'BORROW_1',\n",
       "       'BORROW_2', 'HSLOC', 'CONNECT', 'LIFEEXPECT', 'KIDS_NoChildren'],\n",
       "      dtype='object')"
      ]
     },
     "execution_count": 113,
     "metadata": {},
     "output_type": "execute_result"
    }
   ],
   "source": [
    "data.isna().sum(axis = 0)[data.isna().sum(axis = 0) > 100].index"
   ]
  },
  {
   "attachments": {},
   "cell_type": "markdown",
   "metadata": {},
   "source": [
    "__Central tendency imputations__\n",
    "\n",
    "SWB_1, SWB_2, SUBKNOWL1, ACT1_2, ASK1_1, SUBNUMERACY1, LIVINGARRANGEMENT, CONSPROTECT1, ABSORBSHOCK, PAREDUC, MATERIALISM_3, HEALTH, SELFCONTROL_1, SELFCONTROL_2, SELFCONTROL_3, OUTLOOK_1, OUTLOOK_2, PEM: skewed -> median\n",
    "\n",
    "SWB_3, ACT1_1, SAVEHABIT, FRUGALITY, ENDSMEET, CONSPROTECT2, MATHARDSHIP_6, HOUSESAT: staricase -> mode\n",
    "\n",
    "AUTOMATED_1, AUTOMATED_2, ASK1_2, SUBNUMERACY2, CHANGEABLE, GOALCONF, EARNERS, MATERIALISM,_1, MATERIALISM_2, SCFHORIZON, DISTRESS, HHEDUC, EMPLOY, RETIRE (cuidado com -2): gaussian distribution -> mode\n",
    "\n",
    "Categorical:\n",
    "\n",
    "FINGOALS, AUTOMATED_2, HOUSING, CONSPROTECT3, VOLATILITY, SNAP, COLLECT, REJECTED_1, REJECTED_2, BENEFITS_3, BENEFITS_4, BENEFITS_5, FRAUD2, COVERCOSTS, MANAGE2, PAIDHELP (cuidado com -2), FINSOC2_3, FINSOC2_5, FINSOC2_6, DISCOUNT, MEMLOSS, SOCSEC1, SOCSEC2, SOCSEC3 (cuidado com -3 e -2), KIDS_1, KIDS_2, KIDS_3, KIDS_4, EMPLOY, MILITARY, Military_Status: mode"
   ]
  },
  {
   "cell_type": "code",
   "execution_count": 114,
   "metadata": {},
   "outputs": [
    {
     "data": {
      "text/plain": [
       "-2.0    3113\n",
       " 0.0    2709\n",
       " 1.0     201\n",
       "Name: PAIDHELP, dtype: int64"
      ]
     },
     "execution_count": 114,
     "metadata": {},
     "output_type": "execute_result"
    }
   ],
   "source": [
    "data['PAIDHELP'].value_counts()"
   ]
  },
  {
   "cell_type": "code",
   "execution_count": 115,
   "metadata": {},
   "outputs": [],
   "source": [
    "skewed_ordinal = ['SWB_1', 'SWB_2', 'SUBKNOWL1', 'ACT1_2', 'ASK1_1', 'SUBNUMERACY1', 'LIVINGARRANGEMENT', 'CONSPROTECT1', 'ABSORBSHOCK', 'PAREDUC', 'MATERIALISM_3', 'HEALTH', 'SELFCONTROL_1', 'SELFCONTROL_2', 'SELFCONTROL_3', 'OUTLOOK_1', 'OUTLOOK_2', 'PEM']\n",
    "\n",
    "for feat in skewed_ordinal:\n",
    "    data.loc[data[feat].isna(), feat] = data[feat].median()\n",
    "\n",
    "staircase_ordinal = ['SWB_3', 'ACT1_1', 'SAVEHABIT', 'FRUGALITY', 'ENDSMEET', 'CONSPROTECT2', 'MATHARDSHIP_6', 'HOUSESAT']\n",
    "\n",
    "for feat in staircase_ordinal:\n",
    "    data.loc[data[feat].isna(), feat] = data[feat].mode()[0]\n",
    "\n",
    "\n",
    "\n",
    "# excluding RETIRE because it has -2 values\n",
    "gaussian_ordinal = ['AUTOMATED_1', 'AUTOMATED_2', 'ASK1_2', 'SUBNUMERACY2', 'CHANGEABLE', 'GOALCONF', 'EARNERS', 'MATERIALISM_1', 'MATERIALISM_2', 'SCFHORIZON', 'DISTRESS', 'HHEDUC', 'EMPLOY']\n",
    "\n",
    "for feat in gaussian_ordinal:\n",
    "    data.loc[data[feat].isna(), feat] = data[feat].mode()[0]\n",
    "\n",
    "valid_data = data[data['RETIRE'] != -2].copy()\n",
    "data.loc[data['RETIRE'].isna(), 'RETIRE'] = valid_data['RETIRE'].mode()[0]\n",
    "\n",
    "\n",
    "\n",
    "# excluding PAIDHELP, SOCSEC1, SOCSEC2 and SOCSEC3 because they have -2 values\n",
    "categorical = ['FINGOALS', 'AUTOMATED_2', 'HOUSING', 'CONSPROTECT3', 'VOLATILITY', 'SNAP', 'COLLECT', 'REJECTED_1', 'REJECTED_2', 'BENEFITS_3', 'BENEFITS_4', 'BENEFITS_5', 'FRAUD2', 'COVERCOSTS', 'MANAGE2', 'FINSOC2_3', 'FINSOC2_5', 'FINSOC2_6', 'DISCOUNT', 'MEMLOSS', 'KIDS_1', 'KIDS_2', 'KIDS_3', 'KIDS_4', 'EMPLOY', 'MILITARY', 'Military_Status']\n",
    "\n",
    "for feat in categorical:\n",
    "    data.loc[data[feat].isna(), feat] = data[feat].mode()[0]\n",
    "\n",
    "valid_data = data[data['PAIDHELP'] != -2].copy()\n",
    "data.loc[data['PAIDHELP'].isna(), 'PAIDHELP'] = valid_data['PAIDHELP'].mode()[0]\n",
    "\n",
    "valid_data = data[data['SOCSEC1'] != -2].copy()\n",
    "data.loc[data['SOCSEC1'].isna(), 'SOCSEC1'] = valid_data['SOCSEC1'].mode()[0]\n",
    "\n",
    "valid_data = data[data['SOCSEC2'] != -2].copy()\n",
    "data.loc[data['SOCSEC2'].isna(), 'SOCSEC2'] = valid_data['SOCSEC2'].mode()[0]\n",
    "\n",
    "valid_data = data[data['SOCSEC3'] != -2].copy()\n",
    "data.loc[data['SOCSEC3'].isna(), 'SOCSEC3'] = valid_data['SOCSEC3'].mode()[0]\n"
   ]
  },
  {
   "attachments": {},
   "cell_type": "markdown",
   "metadata": {},
   "source": [
    "__SBW: Subjective well-being and optimism questions__"
   ]
  },
  {
   "cell_type": "code",
   "execution_count": 78,
   "metadata": {},
   "outputs": [
    {
     "data": {
      "text/plain": [
       "SWB_1    0\n",
       "SWB_2    0\n",
       "SWB_3    0\n",
       "dtype: int64"
      ]
     },
     "execution_count": 78,
     "metadata": {},
     "output_type": "execute_result"
    }
   ],
   "source": [
    "data[list(filter(lambda x: 'SWB' in x, data.columns.values))].isna().sum()"
   ]
  },
  {
   "cell_type": "code",
   "execution_count": 72,
   "metadata": {},
   "outputs": [],
   "source": [
    "data.loc[data['SWB_1'].isna(), 'SWB_1'] = data['SWB_1'].median()\n",
    "data.loc[data['SWB_2'].isna(), 'SWB_2'] = data['SWB_2'].median()\n",
    "data.loc[data['SWB_3'].isna(), 'SWB_3'] = data['SWB_3'].median()"
   ]
  },
  {
   "attachments": {},
   "cell_type": "markdown",
   "metadata": {},
   "source": [
    "__SUBKNOWL1: How would you assess your overall financial knowledge?__"
   ]
  },
  {
   "cell_type": "code",
   "execution_count": 73,
   "metadata": {},
   "outputs": [],
   "source": [
    "data.loc[data['SUBKNOWL1'].isna(), 'SUBKNOWL1'] = data['SUBKNOWL1'].median()"
   ]
  },
  {
   "attachments": {},
   "cell_type": "markdown",
   "metadata": {},
   "source": [
    "__ACT__\n",
    "\n",
    "ACT1_1: KNNImputer using FINGOALS, PROPPLAN_1, MANAGE1_1 and ASK1_1\n",
    "<br>\n",
    "ACT1_2: KNNImputer using FINGOALS, PORPPLAN_1, MANAGE1_2 and ASK1_1\n",
    "\n",
    "FINGOALS: binary\n",
    "<br>\n",
    "PROPPLAN_1: ordinal\n",
    "<br>\n",
    "MANAGE1_1: ordinal\n",
    "<br>\n",
    "ASK_1: ordinal\n",
    "\n",
    "distance: euclidean(ordinal) + hamming(binary)"
   ]
  },
  {
   "cell_type": "code",
   "execution_count": 74,
   "metadata": {},
   "outputs": [
    {
     "data": {
      "text/plain": [
       "ACT1_1    14\n",
       "ACT1_2     8\n",
       "dtype: int64"
      ]
     },
     "execution_count": 74,
     "metadata": {},
     "output_type": "execute_result"
    }
   ],
   "source": [
    "data[list(filter(lambda x: 'ACT' in x, data.columns.values))].isna().sum()"
   ]
  },
  {
   "cell_type": "code",
   "execution_count": 75,
   "metadata": {},
   "outputs": [
    {
     "data": {
      "text/html": [
       "<div>\n",
       "<style scoped>\n",
       "    .dataframe tbody tr th:only-of-type {\n",
       "        vertical-align: middle;\n",
       "    }\n",
       "\n",
       "    .dataframe tbody tr th {\n",
       "        vertical-align: top;\n",
       "    }\n",
       "\n",
       "    .dataframe thead th {\n",
       "        text-align: right;\n",
       "    }\n",
       "</style>\n",
       "<table border=\"1\" class=\"dataframe\">\n",
       "  <thead>\n",
       "    <tr style=\"text-align: right;\">\n",
       "      <th></th>\n",
       "      <th>FINGOALS</th>\n",
       "      <th>PROPPLAN_1</th>\n",
       "      <th>MANAGE1_1</th>\n",
       "      <th>ASK1_1</th>\n",
       "      <th>ACT1_1</th>\n",
       "    </tr>\n",
       "    <tr>\n",
       "      <th>PUF_ID</th>\n",
       "      <th></th>\n",
       "      <th></th>\n",
       "      <th></th>\n",
       "      <th></th>\n",
       "      <th></th>\n",
       "    </tr>\n",
       "  </thead>\n",
       "  <tbody>\n",
       "    <tr>\n",
       "      <th>11083</th>\n",
       "      <td>0.0</td>\n",
       "      <td>4.0</td>\n",
       "      <td>4.0</td>\n",
       "      <td>5.0</td>\n",
       "      <td>NaN</td>\n",
       "    </tr>\n",
       "    <tr>\n",
       "      <th>9698</th>\n",
       "      <td>0.0</td>\n",
       "      <td>4.0</td>\n",
       "      <td>4.0</td>\n",
       "      <td>4.0</td>\n",
       "      <td>NaN</td>\n",
       "    </tr>\n",
       "    <tr>\n",
       "      <th>13130</th>\n",
       "      <td>0.0</td>\n",
       "      <td>3.0</td>\n",
       "      <td>2.0</td>\n",
       "      <td>3.0</td>\n",
       "      <td>NaN</td>\n",
       "    </tr>\n",
       "    <tr>\n",
       "      <th>9752</th>\n",
       "      <td>1.0</td>\n",
       "      <td>4.0</td>\n",
       "      <td>5.0</td>\n",
       "      <td>5.0</td>\n",
       "      <td>NaN</td>\n",
       "    </tr>\n",
       "    <tr>\n",
       "      <th>12998</th>\n",
       "      <td>1.0</td>\n",
       "      <td>4.0</td>\n",
       "      <td>5.0</td>\n",
       "      <td>4.0</td>\n",
       "      <td>NaN</td>\n",
       "    </tr>\n",
       "    <tr>\n",
       "      <th>13517</th>\n",
       "      <td>1.0</td>\n",
       "      <td>5.0</td>\n",
       "      <td>5.0</td>\n",
       "      <td>5.0</td>\n",
       "      <td>NaN</td>\n",
       "    </tr>\n",
       "    <tr>\n",
       "      <th>13937</th>\n",
       "      <td>1.0</td>\n",
       "      <td>3.0</td>\n",
       "      <td>5.0</td>\n",
       "      <td>3.0</td>\n",
       "      <td>NaN</td>\n",
       "    </tr>\n",
       "    <tr>\n",
       "      <th>10300</th>\n",
       "      <td>0.0</td>\n",
       "      <td>3.0</td>\n",
       "      <td>3.0</td>\n",
       "      <td>5.0</td>\n",
       "      <td>NaN</td>\n",
       "    </tr>\n",
       "    <tr>\n",
       "      <th>11807</th>\n",
       "      <td>1.0</td>\n",
       "      <td>3.0</td>\n",
       "      <td>4.0</td>\n",
       "      <td>3.0</td>\n",
       "      <td>NaN</td>\n",
       "    </tr>\n",
       "    <tr>\n",
       "      <th>11328</th>\n",
       "      <td>1.0</td>\n",
       "      <td>4.0</td>\n",
       "      <td>5.0</td>\n",
       "      <td>1.0</td>\n",
       "      <td>NaN</td>\n",
       "    </tr>\n",
       "    <tr>\n",
       "      <th>11712</th>\n",
       "      <td>NaN</td>\n",
       "      <td>4.0</td>\n",
       "      <td>4.0</td>\n",
       "      <td>3.0</td>\n",
       "      <td>NaN</td>\n",
       "    </tr>\n",
       "    <tr>\n",
       "      <th>11614</th>\n",
       "      <td>0.0</td>\n",
       "      <td>4.0</td>\n",
       "      <td>5.0</td>\n",
       "      <td>3.0</td>\n",
       "      <td>NaN</td>\n",
       "    </tr>\n",
       "    <tr>\n",
       "      <th>12230</th>\n",
       "      <td>1.0</td>\n",
       "      <td>4.0</td>\n",
       "      <td>5.0</td>\n",
       "      <td>3.0</td>\n",
       "      <td>NaN</td>\n",
       "    </tr>\n",
       "    <tr>\n",
       "      <th>12971</th>\n",
       "      <td>0.0</td>\n",
       "      <td>2.0</td>\n",
       "      <td>4.0</td>\n",
       "      <td>4.0</td>\n",
       "      <td>NaN</td>\n",
       "    </tr>\n",
       "  </tbody>\n",
       "</table>\n",
       "</div>"
      ],
      "text/plain": [
       "        FINGOALS  PROPPLAN_1  MANAGE1_1  ASK1_1  ACT1_1\n",
       "PUF_ID                                                 \n",
       "11083        0.0         4.0        4.0     5.0     NaN\n",
       "9698         0.0         4.0        4.0     4.0     NaN\n",
       "13130        0.0         3.0        2.0     3.0     NaN\n",
       "9752         1.0         4.0        5.0     5.0     NaN\n",
       "12998        1.0         4.0        5.0     4.0     NaN\n",
       "13517        1.0         5.0        5.0     5.0     NaN\n",
       "13937        1.0         3.0        5.0     3.0     NaN\n",
       "10300        0.0         3.0        3.0     5.0     NaN\n",
       "11807        1.0         3.0        4.0     3.0     NaN\n",
       "11328        1.0         4.0        5.0     1.0     NaN\n",
       "11712        NaN         4.0        4.0     3.0     NaN\n",
       "11614        0.0         4.0        5.0     3.0     NaN\n",
       "12230        1.0         4.0        5.0     3.0     NaN\n",
       "12971        0.0         2.0        4.0     4.0     NaN"
      ]
     },
     "execution_count": 75,
     "metadata": {},
     "output_type": "execute_result"
    }
   ],
   "source": [
    "data.loc[data['ACT1_1'].isna(), ['FINGOALS', 'PROPPLAN_1', 'MANAGE1_1' ,'ASK1_1', 'ACT1_1']]"
   ]
  },
  {
   "cell_type": "code",
   "execution_count": 82,
   "metadata": {},
   "outputs": [],
   "source": [
    "def distance(X, Y, missing_values = np.nan):\n",
    "\n",
    "    X[np.isnan(X)] = 0\n",
    "    Y[np.isnan(Y)] = 0\n",
    "\n",
    "    eucl_dist = euclidean(X[[1, 2, 3]], Y[[1, 2, 3]])\n",
    "\n",
    "    return eucl_dist + (X[0] != Y[0])"
   ]
  },
  {
   "cell_type": "code",
   "execution_count": 83,
   "metadata": {},
   "outputs": [],
   "source": [
    "imputer = KNNImputerMode(n_neighbors = 5, metric = distance)\n",
    "\n",
    "new_data = imputer.fit_transform(data[['FINGOALS', 'PROPPLAN_1', 'MANAGE1_1' ,'ASK1_1', 'ACT1_1']])\n",
    "\n",
    "new_data = pd.DataFrame(new_data, columns = ['FINGOALS', 'PROPPLAN_1', 'MANAGE1_1' ,'ASK1_1', 'ACT1_1'], index = data.index)"
   ]
  },
  {
   "cell_type": "code",
   "execution_count": 84,
   "metadata": {},
   "outputs": [
    {
     "data": {
      "text/plain": [
       "PUF_ID\n",
       "11083    4.0\n",
       "9698     3.0\n",
       "13130    3.0\n",
       "9752     4.0\n",
       "12998    5.0\n",
       "13517    5.0\n",
       "13937    4.0\n",
       "10300    1.0\n",
       "11807    3.0\n",
       "11328    3.0\n",
       "11712    5.0\n",
       "11614    4.0\n",
       "12230    4.0\n",
       "12971    4.0\n",
       "Name: ACT1_1, dtype: float64"
      ]
     },
     "execution_count": 84,
     "metadata": {},
     "output_type": "execute_result"
    }
   ],
   "source": [
    "new_data.loc[data[data['ACT1_1'].isna()].index.values, 'ACT1_1']"
   ]
  },
  {
   "cell_type": "code",
   "execution_count": 85,
   "metadata": {},
   "outputs": [],
   "source": [
    "data.loc[data['ACT1_1'].isna(), 'ACT1_1'] = new_data.loc[data['ACT1_1'].isna(), 'ACT1_1'].copy()"
   ]
  },
  {
   "cell_type": "code",
   "execution_count": 86,
   "metadata": {},
   "outputs": [],
   "source": [
    "imputer = KNNImputerMode(n_neighbors = 5, metric = distance)\n",
    "\n",
    "new_data = imputer.fit_transform(data[['FINGOALS', 'PROPPLAN_1', 'MANAGE1_2' ,'ASK1_1', 'ACT1_2']])\n",
    "\n",
    "new_data = pd.DataFrame(new_data, columns = ['FINGOALS', 'PROPPLAN_1', 'MANAGE1_2' ,'ASK1_1', 'ACT1_2'], index = data.index)"
   ]
  },
  {
   "cell_type": "code",
   "execution_count": 87,
   "metadata": {},
   "outputs": [],
   "source": [
    "data.loc[data['ACT1_2'].isna(), 'ACT1_2'] = new_data.loc[data['ACT1_2'].isna(), 'ACT1_2'].copy()"
   ]
  },
  {
   "cell_type": "code",
   "execution_count": 88,
   "metadata": {},
   "outputs": [
    {
     "data": {
      "text/plain": [
       "ACT1_1    0\n",
       "ACT1_2    0\n",
       "dtype: int64"
      ]
     },
     "execution_count": 88,
     "metadata": {},
     "output_type": "execute_result"
    }
   ],
   "source": [
    "data[list(filter(lambda x: 'ACT' in x, data.columns.values))].isna().sum()"
   ]
  },
  {
   "attachments": {},
   "cell_type": "markdown",
   "metadata": {},
   "source": [
    "__FINGOALS: Do you have a current or recent financial goal?__\n",
    "\n",
    "Let's use ACT1_2, SAVEHABIT, PROPPLAN_3 and GOALCONF to find the K nearest neighbors to impute the missing values\n",
    "\n",
    "ACT1_2: ordinal\n",
    "<br>\n",
    "SAVEHABIT: ordinal\n",
    "<br>\n",
    "PROPPLAN_3: ordinal\n",
    "<br>\n",
    "GOALCONF: ordinal\n",
    "\n",
    "distance: euclidean"
   ]
  },
  {
   "cell_type": "code",
   "execution_count": 89,
   "metadata": {},
   "outputs": [
    {
     "data": {
      "text/plain": [
       "54"
      ]
     },
     "execution_count": 89,
     "metadata": {},
     "output_type": "execute_result"
    }
   ],
   "source": [
    "data[data['FINGOALS'].isna()].shape[0]"
   ]
  },
  {
   "cell_type": "code",
   "execution_count": 90,
   "metadata": {},
   "outputs": [
    {
     "data": {
      "text/plain": [
       "1.0    3882\n",
       "0.0    2104\n",
       "Name: FINGOALS, dtype: int64"
      ]
     },
     "execution_count": 90,
     "metadata": {},
     "output_type": "execute_result"
    }
   ],
   "source": [
    "data['FINGOALS'].value_counts()"
   ]
  },
  {
   "cell_type": "code",
   "execution_count": 91,
   "metadata": {},
   "outputs": [],
   "source": [
    "imputer = KNNImputerMode(n_neighbors = 5)\n",
    "\n",
    "new_data = imputer.fit_transform(data[['FINGOALS', 'ACT1_2', 'SAVEHABIT' ,'PROPPLAN_3', 'GOALCONF']])\n",
    "\n",
    "new_data = pd.DataFrame(new_data, columns = ['FINGOALS', 'ACT1_2', 'SAVEHABIT' ,'PROPPLAN_3', 'GOALCONF'], index = data.index)"
   ]
  },
  {
   "cell_type": "code",
   "execution_count": 92,
   "metadata": {},
   "outputs": [
    {
     "data": {
      "text/plain": [
       "1.0    3916\n",
       "0.0    2124\n",
       "Name: FINGOALS, dtype: int64"
      ]
     },
     "execution_count": 92,
     "metadata": {},
     "output_type": "execute_result"
    }
   ],
   "source": [
    "new_data['FINGOALS'].value_counts()"
   ]
  },
  {
   "cell_type": "code",
   "execution_count": 93,
   "metadata": {},
   "outputs": [],
   "source": [
    "data.loc[data['FINGOALS'].isna(), 'FINGOALS'] = new_data.loc[data['FINGOALS'].isna(), 'FINGOALS'].copy()"
   ]
  },
  {
   "cell_type": "code",
   "execution_count": 94,
   "metadata": {},
   "outputs": [
    {
     "data": {
      "text/plain": [
       "0"
      ]
     },
     "execution_count": 94,
     "metadata": {},
     "output_type": "execute_result"
    }
   ],
   "source": [
    "data['FINGOALS'].isna().sum()"
   ]
  },
  {
   "attachments": {},
   "cell_type": "markdown",
   "metadata": {},
   "source": [
    "__MANAGE: Financial responsability__\n",
    "\n",
    "MANAGE1_1: drop + mode\n",
    "MANAGE1_2: drop + mode\n",
    "MANAGE1_3: drop\n",
    "MANAGE1_4: drop\n",
    "MANAGE2: KNN Mode Imputer\n",
    "\n",
    "features:\n",
    "MANAGE1_4: ordinal\n",
    "ASK1_2: ordinal\n",
    "LMscore: numerical\n",
    "\n",
    "distance: euclidean"
   ]
  },
  {
   "cell_type": "code",
   "execution_count": 95,
   "metadata": {},
   "outputs": [
    {
     "data": {
      "text/plain": [
       "MANAGE1_1     0\n",
       "MANAGE1_2     0\n",
       "MANAGE1_3     0\n",
       "MANAGE1_4     0\n",
       "MANAGE2      24\n",
       "dtype: int64"
      ]
     },
     "execution_count": 95,
     "metadata": {},
     "output_type": "execute_result"
    }
   ],
   "source": [
    "data[list(filter(lambda x: 'MANAGE' in x, data.columns.values))].isna().sum()"
   ]
  },
  {
   "attachments": {},
   "cell_type": "markdown",
   "metadata": {},
   "source": [
    "There are only 24 missing values for MANAGE2\n",
    "\n",
    "'Who in household makes financial decisions'"
   ]
  },
  {
   "cell_type": "code",
   "execution_count": 96,
   "metadata": {},
   "outputs": [],
   "source": [
    "imputer = KNNImputerMode(n_neighbors = 5)\n",
    "\n",
    "new_data = imputer.fit_transform(data[['MANAGE1_4', 'ASK1_2', 'LMscore', 'MANAGE2']])\n",
    "\n",
    "new_data = pd.DataFrame(new_data, columns = ['MANAGE1_4', 'ASK1_2', 'LMscore', 'MANAGE2'], index = data.index)"
   ]
  },
  {
   "cell_type": "code",
   "execution_count": 97,
   "metadata": {},
   "outputs": [],
   "source": [
    "data.loc[data['MANAGE2'].isna(), 'MANAGE2'] = new_data.loc[data['MANAGE2'].isna(), 'MANAGE2'].copy()"
   ]
  },
  {
   "attachments": {},
   "cell_type": "markdown",
   "metadata": {},
   "source": [
    "__SAVEHABIT__\n",
    "\n",
    "KNN Mode Imputer\n",
    "\n",
    "features:\n",
    "<br>\n",
    "FINGOALS: categorical\n",
    "<br>\n",
    "SELFCONTROL_2: ordinal\n",
    "<br>\n",
    "PROPPLAN_3: ordinal\n",
    "<br>\n",
    "SAVINGSRANGES: ordinal\n",
    "<br>\n",
    "SAVEHABIT: ordinal\n",
    "\n",
    "distance: euclidean + hamming"
   ]
  },
  {
   "cell_type": "code",
   "execution_count": 102,
   "metadata": {},
   "outputs": [
    {
     "data": {
      "text/html": [
       "<div>\n",
       "<style scoped>\n",
       "    .dataframe tbody tr th:only-of-type {\n",
       "        vertical-align: middle;\n",
       "    }\n",
       "\n",
       "    .dataframe tbody tr th {\n",
       "        vertical-align: top;\n",
       "    }\n",
       "\n",
       "    .dataframe thead th {\n",
       "        text-align: right;\n",
       "    }\n",
       "</style>\n",
       "<table border=\"1\" class=\"dataframe\">\n",
       "  <thead>\n",
       "    <tr style=\"text-align: right;\">\n",
       "      <th></th>\n",
       "      <th>sample</th>\n",
       "      <th>fpl</th>\n",
       "      <th>SWB_1</th>\n",
       "      <th>SWB_2</th>\n",
       "      <th>SWB_3</th>\n",
       "      <th>FWBscore</th>\n",
       "      <th>FSscore</th>\n",
       "      <th>SUBKNOWL1</th>\n",
       "      <th>ACT1_1</th>\n",
       "      <th>ACT1_2</th>\n",
       "      <th>...</th>\n",
       "      <th>PPMSACAT</th>\n",
       "      <th>PPREG4</th>\n",
       "      <th>PPREG9</th>\n",
       "      <th>PPT01</th>\n",
       "      <th>PPT25</th>\n",
       "      <th>PPT612</th>\n",
       "      <th>PPT1317</th>\n",
       "      <th>PPT18OV</th>\n",
       "      <th>PCTLT200FPL</th>\n",
       "      <th>finalwt</th>\n",
       "    </tr>\n",
       "    <tr>\n",
       "      <th>PUF_ID</th>\n",
       "      <th></th>\n",
       "      <th></th>\n",
       "      <th></th>\n",
       "      <th></th>\n",
       "      <th></th>\n",
       "      <th></th>\n",
       "      <th></th>\n",
       "      <th></th>\n",
       "      <th></th>\n",
       "      <th></th>\n",
       "      <th></th>\n",
       "      <th></th>\n",
       "      <th></th>\n",
       "      <th></th>\n",
       "      <th></th>\n",
       "      <th></th>\n",
       "      <th></th>\n",
       "      <th></th>\n",
       "      <th></th>\n",
       "      <th></th>\n",
       "      <th></th>\n",
       "    </tr>\n",
       "  </thead>\n",
       "  <tbody>\n",
       "    <tr>\n",
       "      <th>13428</th>\n",
       "      <td>2</td>\n",
       "      <td>3</td>\n",
       "      <td>7.0</td>\n",
       "      <td>7.0</td>\n",
       "      <td>6.0</td>\n",
       "      <td>78.0</td>\n",
       "      <td>69.0</td>\n",
       "      <td>5.0</td>\n",
       "      <td>5.0</td>\n",
       "      <td>5.0</td>\n",
       "      <td>...</td>\n",
       "      <td>1</td>\n",
       "      <td>4</td>\n",
       "      <td>8</td>\n",
       "      <td>0</td>\n",
       "      <td>0</td>\n",
       "      <td>0</td>\n",
       "      <td>0</td>\n",
       "      <td>2</td>\n",
       "      <td>0.0</td>\n",
       "      <td>0.426220</td>\n",
       "    </tr>\n",
       "    <tr>\n",
       "      <th>13828</th>\n",
       "      <td>1</td>\n",
       "      <td>3</td>\n",
       "      <td>5.0</td>\n",
       "      <td>7.0</td>\n",
       "      <td>7.0</td>\n",
       "      <td>52.0</td>\n",
       "      <td>59.0</td>\n",
       "      <td>7.0</td>\n",
       "      <td>4.0</td>\n",
       "      <td>4.0</td>\n",
       "      <td>...</td>\n",
       "      <td>0</td>\n",
       "      <td>2</td>\n",
       "      <td>3</td>\n",
       "      <td>0</td>\n",
       "      <td>0</td>\n",
       "      <td>0</td>\n",
       "      <td>0</td>\n",
       "      <td>1</td>\n",
       "      <td>1.0</td>\n",
       "      <td>0.490451</td>\n",
       "    </tr>\n",
       "    <tr>\n",
       "      <th>11308</th>\n",
       "      <td>1</td>\n",
       "      <td>3</td>\n",
       "      <td>4.0</td>\n",
       "      <td>4.0</td>\n",
       "      <td>5.0</td>\n",
       "      <td>52.0</td>\n",
       "      <td>40.0</td>\n",
       "      <td>4.0</td>\n",
       "      <td>3.0</td>\n",
       "      <td>4.0</td>\n",
       "      <td>...</td>\n",
       "      <td>1</td>\n",
       "      <td>3</td>\n",
       "      <td>7</td>\n",
       "      <td>0</td>\n",
       "      <td>0</td>\n",
       "      <td>0</td>\n",
       "      <td>1</td>\n",
       "      <td>2</td>\n",
       "      <td>0.0</td>\n",
       "      <td>0.945275</td>\n",
       "    </tr>\n",
       "  </tbody>\n",
       "</table>\n",
       "<p>3 rows × 171 columns</p>\n",
       "</div>"
      ],
      "text/plain": [
       "        sample  fpl  SWB_1  SWB_2  SWB_3  FWBscore  FSscore  SUBKNOWL1  \\\n",
       "PUF_ID                                                                   \n",
       "13428        2    3    7.0    7.0    6.0      78.0     69.0        5.0   \n",
       "13828        1    3    5.0    7.0    7.0      52.0     59.0        7.0   \n",
       "11308        1    3    4.0    4.0    5.0      52.0     40.0        4.0   \n",
       "\n",
       "        ACT1_1  ACT1_2  ...  PPMSACAT  PPREG4  PPREG9  PPT01  PPT25  PPT612  \\\n",
       "PUF_ID                  ...                                                   \n",
       "13428      5.0     5.0  ...         1       4       8      0      0       0   \n",
       "13828      4.0     4.0  ...         0       2       3      0      0       0   \n",
       "11308      3.0     4.0  ...         1       3       7      0      0       0   \n",
       "\n",
       "        PPT1317  PPT18OV  PCTLT200FPL   finalwt  \n",
       "PUF_ID                                           \n",
       "13428         0        2          0.0  0.426220  \n",
       "13828         0        1          1.0  0.490451  \n",
       "11308         1        2          0.0  0.945275  \n",
       "\n",
       "[3 rows x 171 columns]"
      ]
     },
     "execution_count": 102,
     "metadata": {},
     "output_type": "execute_result"
    }
   ],
   "source": [
    "data[data['SAVEHABIT'].isna()]"
   ]
  },
  {
   "cell_type": "code",
   "execution_count": 108,
   "metadata": {},
   "outputs": [],
   "source": [
    "def distance(X, Y, missing_values = np.nan):\n",
    "\n",
    "    X[np.isnan(X)] = 0\n",
    "    Y[np.isnan(Y)] = 0\n",
    "\n",
    "    eucl_dist = euclidean(X[[1, 2, 3]], Y[[1, 2, 3]])\n",
    "\n",
    "    return eucl_dist + (X[0] != Y[0])"
   ]
  },
  {
   "cell_type": "code",
   "execution_count": 109,
   "metadata": {},
   "outputs": [],
   "source": [
    "imputer = KNNImputerMode(n_neighbors = 5, metric = distance)\n",
    "\n",
    "cols = ['FINGOALS', 'SELFCONTROL_2', 'PROPPLAN_3', 'SAVINGSRANGES', 'SAVEHABIT']\n",
    "\n",
    "new_data = imputer.fit_transform(data[cols])\n",
    "\n",
    "new_data = pd.DataFrame(new_data, columns = cols, index = data.index)"
   ]
  },
  {
   "cell_type": "code",
   "execution_count": 110,
   "metadata": {},
   "outputs": [],
   "source": [
    "data.loc[data['SAVEHABIT'].isna(), 'SAVEHABIT'] = new_data.loc[data['SAVEHABIT'].isna(), 'SAVEHABIT'].copy()"
   ]
  },
  {
   "cell_type": "code",
   "execution_count": 111,
   "metadata": {},
   "outputs": [
    {
     "data": {
      "text/html": [
       "<div>\n",
       "<style scoped>\n",
       "    .dataframe tbody tr th:only-of-type {\n",
       "        vertical-align: middle;\n",
       "    }\n",
       "\n",
       "    .dataframe tbody tr th {\n",
       "        vertical-align: top;\n",
       "    }\n",
       "\n",
       "    .dataframe thead th {\n",
       "        text-align: right;\n",
       "    }\n",
       "</style>\n",
       "<table border=\"1\" class=\"dataframe\">\n",
       "  <thead>\n",
       "    <tr style=\"text-align: right;\">\n",
       "      <th></th>\n",
       "      <th>sample</th>\n",
       "      <th>fpl</th>\n",
       "      <th>SWB_1</th>\n",
       "      <th>SWB_2</th>\n",
       "      <th>SWB_3</th>\n",
       "      <th>FWBscore</th>\n",
       "      <th>FSscore</th>\n",
       "      <th>SUBKNOWL1</th>\n",
       "      <th>ACT1_1</th>\n",
       "      <th>ACT1_2</th>\n",
       "      <th>...</th>\n",
       "      <th>PPMSACAT</th>\n",
       "      <th>PPREG4</th>\n",
       "      <th>PPREG9</th>\n",
       "      <th>PPT01</th>\n",
       "      <th>PPT25</th>\n",
       "      <th>PPT612</th>\n",
       "      <th>PPT1317</th>\n",
       "      <th>PPT18OV</th>\n",
       "      <th>PCTLT200FPL</th>\n",
       "      <th>finalwt</th>\n",
       "    </tr>\n",
       "    <tr>\n",
       "      <th>PUF_ID</th>\n",
       "      <th></th>\n",
       "      <th></th>\n",
       "      <th></th>\n",
       "      <th></th>\n",
       "      <th></th>\n",
       "      <th></th>\n",
       "      <th></th>\n",
       "      <th></th>\n",
       "      <th></th>\n",
       "      <th></th>\n",
       "      <th></th>\n",
       "      <th></th>\n",
       "      <th></th>\n",
       "      <th></th>\n",
       "      <th></th>\n",
       "      <th></th>\n",
       "      <th></th>\n",
       "      <th></th>\n",
       "      <th></th>\n",
       "      <th></th>\n",
       "      <th></th>\n",
       "    </tr>\n",
       "  </thead>\n",
       "  <tbody>\n",
       "  </tbody>\n",
       "</table>\n",
       "<p>0 rows × 171 columns</p>\n",
       "</div>"
      ],
      "text/plain": [
       "Empty DataFrame\n",
       "Columns: [sample, fpl, SWB_1, SWB_2, SWB_3, FWBscore, FSscore, SUBKNOWL1, ACT1_1, ACT1_2, FINGOALS, PROPPLAN_1, PROPPLAN_2, PROPPLAN_3, PROPPLAN_4, MANAGE1_1, MANAGE1_2, MANAGE1_3, MANAGE1_4, SAVEHABIT, FRUGALITY, AUTOMATED_1, AUTOMATED_2, ASK1_1, ASK1_2, SUBNUMERACY2, SUBNUMERACY1, CHANGEABLE, GOALCONF, LMscore, KHscore, ENDSMEET, HOUSING, LIVINGARRANGEMENT, HOUSERANGES, IMPUTATION_FLAG, VALUERANGES, MORTGAGE, SAVINGSRANGES, PRODHAVE_1, PRODHAVE_2, PRODHAVE_3, PRODHAVE_4, PRODHAVE_5, PRODHAVE_6, PRODHAVE_7, PRODHAVE_8, PRODHAVE_9, PRODUSE_1, PRODUSE_2, PRODUSE_3, PRODUSE_4, PRODUSE_5, PRODUSE_6, CONSPROTECT1, CONSPROTECT2, CONSPROTECT3, EARNERS, VOLATILITY, SNAP, MATHARDSHIP_1, MATHARDSHIP_2, MATHARDSHIP_3, MATHARDSHIP_4, MATHARDSHIP_5, MATHARDSHIP_6, COLLECT, REJECTED_1, REJECTED_2, ABSORBSHOCK, BENEFITS_1, BENEFITS_2, BENEFITS_3, BENEFITS_4, BENEFITS_5, FRAUD2, COVERCOSTS, BORROW_1, BORROW_2, SHOCKS_1, SHOCKS_2, SHOCKS_3, SHOCKS_4, SHOCKS_5, SHOCKS_6, SHOCKS_7, SHOCKS_8, SHOCKS_9, SHOCKS_10, SHOCKS_11, SHOCKS_12, MANAGE2, PAIDHELP, HSLOC, PAREDUC, FINSOC2_1, FINSOC2_2, FINSOC2_3, FINSOC2_4, FINSOC2_5, ...]\n",
       "Index: []\n",
       "\n",
       "[0 rows x 171 columns]"
      ]
     },
     "execution_count": 111,
     "metadata": {},
     "output_type": "execute_result"
    }
   ],
   "source": [
    "data[data['SAVEHABIT'].isna()]"
   ]
  },
  {
   "attachments": {},
   "cell_type": "markdown",
   "metadata": {},
   "source": [
    "__FRUGALITY__\n",
    "\n",
    "'If I can re-use an item I already have, there's no sense in buying something new'"
   ]
  },
  {
   "cell_type": "code",
   "execution_count": 112,
   "metadata": {},
   "outputs": [
    {
     "data": {
      "text/html": [
       "<div>\n",
       "<style scoped>\n",
       "    .dataframe tbody tr th:only-of-type {\n",
       "        vertical-align: middle;\n",
       "    }\n",
       "\n",
       "    .dataframe tbody tr th {\n",
       "        vertical-align: top;\n",
       "    }\n",
       "\n",
       "    .dataframe thead th {\n",
       "        text-align: right;\n",
       "    }\n",
       "</style>\n",
       "<table border=\"1\" class=\"dataframe\">\n",
       "  <thead>\n",
       "    <tr style=\"text-align: right;\">\n",
       "      <th></th>\n",
       "      <th>sample</th>\n",
       "      <th>fpl</th>\n",
       "      <th>SWB_1</th>\n",
       "      <th>SWB_2</th>\n",
       "      <th>SWB_3</th>\n",
       "      <th>FWBscore</th>\n",
       "      <th>FSscore</th>\n",
       "      <th>SUBKNOWL1</th>\n",
       "      <th>ACT1_1</th>\n",
       "      <th>ACT1_2</th>\n",
       "      <th>...</th>\n",
       "      <th>PPMSACAT</th>\n",
       "      <th>PPREG4</th>\n",
       "      <th>PPREG9</th>\n",
       "      <th>PPT01</th>\n",
       "      <th>PPT25</th>\n",
       "      <th>PPT612</th>\n",
       "      <th>PPT1317</th>\n",
       "      <th>PPT18OV</th>\n",
       "      <th>PCTLT200FPL</th>\n",
       "      <th>finalwt</th>\n",
       "    </tr>\n",
       "    <tr>\n",
       "      <th>PUF_ID</th>\n",
       "      <th></th>\n",
       "      <th></th>\n",
       "      <th></th>\n",
       "      <th></th>\n",
       "      <th></th>\n",
       "      <th></th>\n",
       "      <th></th>\n",
       "      <th></th>\n",
       "      <th></th>\n",
       "      <th></th>\n",
       "      <th></th>\n",
       "      <th></th>\n",
       "      <th></th>\n",
       "      <th></th>\n",
       "      <th></th>\n",
       "      <th></th>\n",
       "      <th></th>\n",
       "      <th></th>\n",
       "      <th></th>\n",
       "      <th></th>\n",
       "      <th></th>\n",
       "    </tr>\n",
       "  </thead>\n",
       "  <tbody>\n",
       "    <tr>\n",
       "      <th>13828</th>\n",
       "      <td>1</td>\n",
       "      <td>3</td>\n",
       "      <td>5.0</td>\n",
       "      <td>7.0</td>\n",
       "      <td>7.0</td>\n",
       "      <td>52.0</td>\n",
       "      <td>59.0</td>\n",
       "      <td>7.0</td>\n",
       "      <td>4.0</td>\n",
       "      <td>4.0</td>\n",
       "      <td>...</td>\n",
       "      <td>0</td>\n",
       "      <td>2</td>\n",
       "      <td>3</td>\n",
       "      <td>0</td>\n",
       "      <td>0</td>\n",
       "      <td>0</td>\n",
       "      <td>0</td>\n",
       "      <td>1</td>\n",
       "      <td>1.0</td>\n",
       "      <td>0.490451</td>\n",
       "    </tr>\n",
       "    <tr>\n",
       "      <th>12131</th>\n",
       "      <td>1</td>\n",
       "      <td>1</td>\n",
       "      <td>7.0</td>\n",
       "      <td>4.0</td>\n",
       "      <td>7.0</td>\n",
       "      <td>70.0</td>\n",
       "      <td>57.0</td>\n",
       "      <td>5.0</td>\n",
       "      <td>5.0</td>\n",
       "      <td>4.0</td>\n",
       "      <td>...</td>\n",
       "      <td>0</td>\n",
       "      <td>3</td>\n",
       "      <td>7</td>\n",
       "      <td>0</td>\n",
       "      <td>0</td>\n",
       "      <td>0</td>\n",
       "      <td>0</td>\n",
       "      <td>1</td>\n",
       "      <td>1.0</td>\n",
       "      <td>1.659776</td>\n",
       "    </tr>\n",
       "  </tbody>\n",
       "</table>\n",
       "<p>2 rows × 171 columns</p>\n",
       "</div>"
      ],
      "text/plain": [
       "        sample  fpl  SWB_1  SWB_2  SWB_3  FWBscore  FSscore  SUBKNOWL1  \\\n",
       "PUF_ID                                                                   \n",
       "13828        1    3    5.0    7.0    7.0      52.0     59.0        7.0   \n",
       "12131        1    1    7.0    4.0    7.0      70.0     57.0        5.0   \n",
       "\n",
       "        ACT1_1  ACT1_2  ...  PPMSACAT  PPREG4  PPREG9  PPT01  PPT25  PPT612  \\\n",
       "PUF_ID                  ...                                                   \n",
       "13828      4.0     4.0  ...         0       2       3      0      0       0   \n",
       "12131      5.0     4.0  ...         0       3       7      0      0       0   \n",
       "\n",
       "        PPT1317  PPT18OV  PCTLT200FPL   finalwt  \n",
       "PUF_ID                                           \n",
       "13828         0        1          1.0  0.490451  \n",
       "12131         0        1          1.0  1.659776  \n",
       "\n",
       "[2 rows x 171 columns]"
      ]
     },
     "execution_count": 112,
     "metadata": {},
     "output_type": "execute_result"
    }
   ],
   "source": [
    "data[data['FRUGALITY'].isna()]"
   ]
  },
  {
   "cell_type": "code",
   "execution_count": 113,
   "metadata": {},
   "outputs": [],
   "source": [
    "data.loc[data['FRUGALITY'].isna(), 'FRUGALITY'] = data['FRUGALITY'].median()[0]"
   ]
  },
  {
   "attachments": {},
   "cell_type": "markdown",
   "metadata": {},
   "source": [
    "__AUTOMATED: Automatic savings__\n",
    "\n",
    "Do you currently have money automaticaly transfered to:\n",
    "\n",
    "'A Retirement Savings Account'\n",
    "<br>\n",
    "'A Non-Retirement Savings Account'\n",
    "\n",
    "AUTOMATED_1: KNN Mode Imputer\n",
    "\n",
    "features: PRODHAVE_1, PRODHAVE_4, SOCSEC1, SAVEHABIT\n",
    "\n",
    "PRODHAVE_1: categorical\n",
    "<br>\n",
    "PRODHAVE_4: categorical\n",
    "<br>\n",
    "SAVEHABIT: ordinal\n",
    "\n",
    "distance: euclidean(ordinal) + hamming(categorical) \n"
   ]
  },
  {
   "cell_type": "code",
   "execution_count": 114,
   "metadata": {},
   "outputs": [
    {
     "data": {
      "text/plain": [
       "AUTOMATED_1    53\n",
       "AUTOMATED_2    64\n",
       "dtype: int64"
      ]
     },
     "execution_count": 114,
     "metadata": {},
     "output_type": "execute_result"
    }
   ],
   "source": [
    "data [data['AUTOMATED_1'].isna() | data['AUTOMATED_2'].isna()][['AUTOMATED_1', 'AUTOMATED_2']].isna().sum()"
   ]
  },
  {
   "cell_type": "code",
   "execution_count": 115,
   "metadata": {},
   "outputs": [],
   "source": [
    "def distance(X, Y, missing_values = np.nan):\n",
    "    X[np.isnan(X)] = 0\n",
    "    Y[np.isnan(Y)] = 0\n",
    "\n",
    "    eucl_dist = euclidean(X[2], Y[2])\n",
    "\n",
    "    return eucl_dist + (X[0] != Y[0]) + (X[1] != Y[1])"
   ]
  },
  {
   "cell_type": "code",
   "execution_count": 116,
   "metadata": {},
   "outputs": [],
   "source": [
    "imputer = KNNImputerMode(n_neighbors = 5, metric = distance)\n",
    "\n",
    "cols = ['PRODHAVE_1', 'PRODHAVE_4', 'SAVEHABIT', 'AUTOMATED_1']\n",
    "\n",
    "new_data = imputer.fit_transform(data[cols])\n",
    "\n",
    "new_data = pd.DataFrame(new_data, columns = cols, index = data.index)"
   ]
  },
  {
   "cell_type": "code",
   "execution_count": 117,
   "metadata": {},
   "outputs": [],
   "source": [
    "data.loc[data['AUTOMATED_1'].isna(), 'AUTOMATED_1'] = new_data.loc[data['AUTOMATED_1'].isna(), 'AUTOMATED_1'].copy()"
   ]
  },
  {
   "cell_type": "code",
   "execution_count": 118,
   "metadata": {},
   "outputs": [],
   "source": [
    "imputer = KNNImputerMode(n_neighbors = 5, metric = distance)\n",
    "\n",
    "cols = ['PRODHAVE_1', 'PRODHAVE_6', 'SAVEHABIT', 'AUTOMATED_2']\n",
    "\n",
    "new_data = imputer.fit_transform(data[cols])\n",
    "\n",
    "new_data = pd.DataFrame(new_data, columns = cols, index = data.index)"
   ]
  },
  {
   "cell_type": "code",
   "execution_count": 119,
   "metadata": {},
   "outputs": [],
   "source": [
    "data.loc[data['AUTOMATED_2'].isna(), 'AUTOMATED_2'] = new_data.loc[data['AUTOMATED_2'].isna(), 'AUTOMATED_2'].copy()"
   ]
  },
  {
   "cell_type": "code",
   "execution_count": 120,
   "metadata": {},
   "outputs": [
    {
     "data": {
      "text/plain": [
       "AUTOMATED_1    0.0\n",
       "AUTOMATED_2    0.0\n",
       "dtype: float64"
      ]
     },
     "execution_count": 120,
     "metadata": {},
     "output_type": "execute_result"
    }
   ],
   "source": [
    "data [data['AUTOMATED_1'].isna() | data['AUTOMATED_2'].isna()][['AUTOMATED_1', 'AUTOMATED_2']].isna().sum()"
   ]
  },
  {
   "attachments": {},
   "cell_type": "markdown",
   "metadata": {},
   "source": [
    "__ASK__\n",
    "\n",
    "ASK1_1: KNN Mode Imputer\n",
    "\n",
    "variables to find NN: MANAGE1_2, MANAGE2, GOALCONF, KHscore, FRUGALITY discriminate well\n",
    "\n",
    "MANAGE1_2: ordinal\n",
    "<br>\n",
    "MANAGE2: categorical\n",
    "<br>\n",
    "GOALCONF: ordinal\n",
    "<br>\n",
    "KHscore: numerical\n",
    "<br>\n",
    "FRUGALITY: ordinal\n",
    "<br>\n",
    "\n",
    "distance: euclidean(ordinal + numerical) + hamming (categorical)\n",
    "\n",
    "ASK1_2: mode"
   ]
  },
  {
   "cell_type": "code",
   "execution_count": 121,
   "metadata": {},
   "outputs": [
    {
     "data": {
      "text/plain": [
       "ASK1_1    6\n",
       "ASK1_2    4\n",
       "dtype: int64"
      ]
     },
     "execution_count": 121,
     "metadata": {},
     "output_type": "execute_result"
    }
   ],
   "source": [
    "data [data['ASK1_1'].isna() | data['ASK1_2'].isna()][['ASK1_1', 'ASK1_2']].isna().sum()"
   ]
  },
  {
   "cell_type": "code",
   "execution_count": 122,
   "metadata": {},
   "outputs": [],
   "source": [
    "def distance(X, Y, missing_values = np.nan):\n",
    "    X[np.isnan(X)] = 0\n",
    "    Y[np.isnan(Y)] = 0\n",
    "\n",
    "    eucl_dist = euclidean(X[[0, 2, 3, 4]], Y[[0, 2, 3, 4]])\n",
    "\n",
    "    return eucl_dist + (X[2] != Y[2])"
   ]
  },
  {
   "cell_type": "code",
   "execution_count": 123,
   "metadata": {},
   "outputs": [],
   "source": [
    "imputer = KNNImputerMode(n_neighbors = 5, metric = distance)\n",
    "\n",
    "new_data = imputer.fit_transform(data[['MANAGE1_2', 'MANAGE2', 'GOALCONF', 'KHscore', 'FRUGALITY', 'ASK1_1']])\n",
    "\n",
    "new_data = pd.DataFrame(new_data, columns = ['MANAGE1_2', 'MANAGE2', 'GOALCONF', 'KHscore', 'FRUGALITY', 'ASK1_1'], index = data.index)"
   ]
  },
  {
   "cell_type": "code",
   "execution_count": 124,
   "metadata": {},
   "outputs": [],
   "source": [
    "data.loc[data['ASK1_1'].isna(), 'ASK1_1'] = new_data.loc[data['ASK1_1'].isna(), 'ASK1_1'].copy()"
   ]
  },
  {
   "cell_type": "code",
   "execution_count": 125,
   "metadata": {},
   "outputs": [],
   "source": [
    "data.loc[data['ASK1_2'].isna(), 'ASK1_2'] = data['ASK1_2'].mode()[0]"
   ]
  },
  {
   "cell_type": "code",
   "execution_count": 126,
   "metadata": {},
   "outputs": [
    {
     "data": {
      "text/plain": [
       "ASK1_1    0.0\n",
       "ASK1_2    0.0\n",
       "dtype: float64"
      ]
     },
     "execution_count": 126,
     "metadata": {},
     "output_type": "execute_result"
    }
   ],
   "source": [
    "data [data['ASK1_1'].isna() | data['ASK1_2'].isna()][['ASK1_1', 'ASK1_2']].isna().sum()"
   ]
  },
  {
   "attachments": {},
   "cell_type": "markdown",
   "metadata": {},
   "source": [
    "__SUBNUMERACY__\n",
    "\n",
    "SUBNUMERACY1: 'How good are you at working with percentages?'\n",
    "\n",
    "features:\n",
    "\n",
    "ON1correct: categorical\n",
    "<br>\n",
    "ON1correct: categorical\n",
    "\n",
    "distance: hamming\n",
    "\n",
    "SUBNUMERACY2: 'Prefers words for expressions of probabilities'\n",
    "\n",
    "mode"
   ]
  },
  {
   "cell_type": "code",
   "execution_count": 127,
   "metadata": {},
   "outputs": [
    {
     "data": {
      "text/plain": [
       "SUBNUMERACY2    16\n",
       "SUBNUMERACY1    10\n",
       "dtype: int64"
      ]
     },
     "execution_count": 127,
     "metadata": {},
     "output_type": "execute_result"
    }
   ],
   "source": [
    "data[list(filter(lambda x: 'SUBNUMERACY' in x, data.columns.values))].isna().sum()"
   ]
  },
  {
   "cell_type": "code",
   "execution_count": 128,
   "metadata": {},
   "outputs": [],
   "source": [
    "def distance(X, Y, missing_values = np.nan):\n",
    "    X[np.isnan(X)] = 0\n",
    "    Y[np.isnan(Y)] = 0\n",
    "\n",
    "    return (X[0] != Y[0]) + (X[1] != Y[1])"
   ]
  },
  {
   "cell_type": "code",
   "execution_count": 129,
   "metadata": {},
   "outputs": [],
   "source": [
    "imputer = KNNImputerMode(n_neighbors = 5, metric = distance)\n",
    "\n",
    "new_data = imputer.fit_transform(data[['ON1correct', 'ON2correct', 'SUBNUMERACY1']])\n",
    "\n",
    "new_data = pd.DataFrame(new_data, columns = ['ON1correct', 'ON2correct', 'SUBNUMERACY1'], index = data.index)"
   ]
  },
  {
   "cell_type": "code",
   "execution_count": 130,
   "metadata": {},
   "outputs": [],
   "source": [
    "data.loc[data['SUBNUMERACY1'].isna(), 'SUBNUMERACY1'] = new_data.loc[data['SUBNUMERACY1'].isna(), 'SUBNUMERACY1'].copy()"
   ]
  },
  {
   "cell_type": "code",
   "execution_count": 131,
   "metadata": {},
   "outputs": [],
   "source": [
    "data.loc[data['SUBNUMERACY2'].isna(), 'SUBNUMERACY2'] = data['SUBNUMERACY2'].mode()[0]"
   ]
  },
  {
   "attachments": {},
   "cell_type": "markdown",
   "metadata": {},
   "source": [
    "__CHANGEABLE__\n",
    "\n",
    "'Belief that ability to manage money is NOT changeable'"
   ]
  },
  {
   "cell_type": "code",
   "execution_count": 133,
   "metadata": {},
   "outputs": [
    {
     "data": {
      "text/plain": [
       "19"
      ]
     },
     "execution_count": 133,
     "metadata": {},
     "output_type": "execute_result"
    }
   ],
   "source": [
    "data[data['CHANGEABLE'].isna()].shape[0]"
   ]
  },
  {
   "cell_type": "code",
   "execution_count": 134,
   "metadata": {},
   "outputs": [],
   "source": [
    "data.loc[data['CHANGEABLE'].isna(), 'CHANGEABLE'] = data['CHANGEABLE'].mode()[0]"
   ]
  },
  {
   "attachments": {},
   "cell_type": "markdown",
   "metadata": {},
   "source": [
    "__GOALCONF__\n",
    "\n",
    "'Confidence in own ability to achieve financial goals'\n",
    "\n",
    "features:\n",
    "FWBscore: numerical\n",
    "<br>\n",
    "SAVEHABIT: ordinal\n",
    "<br>\n",
    "ASK1_1: ordinal\n",
    "<br>\n",
    "ENDSMEET: ordinal\n",
    "<br>\n",
    "SELFCONTROL_3: ordinal\n",
    "\n",
    "distance: euclidean"
   ]
  },
  {
   "cell_type": "code",
   "execution_count": 136,
   "metadata": {},
   "outputs": [
    {
     "data": {
      "text/plain": [
       "7"
      ]
     },
     "execution_count": 136,
     "metadata": {},
     "output_type": "execute_result"
    }
   ],
   "source": [
    "data[data['GOALCONF'].isna()].shape[0]"
   ]
  },
  {
   "cell_type": "code",
   "execution_count": 137,
   "metadata": {},
   "outputs": [],
   "source": [
    "imputer = KNNImputerMode(n_neighbors = 5)\n",
    "\n",
    "cols = ['FWBscore', 'SAVEHABIT', 'ASK1_1', 'ENDSMEET', 'SELFCONTROL_3', 'GOALCONF']\n",
    "\n",
    "new_data = imputer.fit_transform(data[cols])\n",
    "\n",
    "new_data = pd.DataFrame(new_data, columns = cols, index = data.index)"
   ]
  },
  {
   "cell_type": "code",
   "execution_count": 138,
   "metadata": {},
   "outputs": [],
   "source": [
    "data.loc[data['GOALCONF'].isna(), 'GOALCONF'] = new_data.loc[data['GOALCONF'].isna(), 'GOALCONF'].copy()"
   ]
  },
  {
   "attachments": {},
   "cell_type": "markdown",
   "metadata": {},
   "source": [
    "__ENDSMEET__\n",
    "\n",
    "'Difficulty of covering monthly expenses and bills'\n",
    "\n",
    "features:\n",
    "\n",
    "SWB_1: ordinal\n",
    "<br>\n",
    "FWBscore: numerical\n",
    "<br>\n",
    "GOALCONF: ordinal\n",
    "<br>\n",
    "MATHARDSHIP_1: ordinal\n",
    "<br>\n",
    "REJECTED_1: categorical\n",
    "<br>\n",
    "HHEDUC: ordinal\n",
    "<br>\n",
    "PPEDUC: ordinal\n",
    "<br>\n",
    "PPINCIMP: ordinal\n",
    "\n",
    "distance: euclidean + hamming"
   ]
  },
  {
   "cell_type": "code",
   "execution_count": 140,
   "metadata": {},
   "outputs": [
    {
     "data": {
      "text/plain": [
       "12"
      ]
     },
     "execution_count": 140,
     "metadata": {},
     "output_type": "execute_result"
    }
   ],
   "source": [
    "data[data['ENDSMEET'].isna()].shape[0]"
   ]
  },
  {
   "cell_type": "code",
   "execution_count": 141,
   "metadata": {},
   "outputs": [],
   "source": [
    "def distance(X, Y, missing_values = np.nan):\n",
    "    X[np.isnan(X)] = 0\n",
    "    Y[np.isnan(Y)] = 0\n",
    "\n",
    "    eucl_dist = euclidean(X[[0, 1, 2, 3, 5, 6, 7]], Y[[0, 1, 2, 3, 5, 6, 7]])\n",
    "\n",
    "    return eucl_dist + (X[4] != Y[4])"
   ]
  },
  {
   "cell_type": "code",
   "execution_count": 142,
   "metadata": {},
   "outputs": [],
   "source": [
    "imputer = KNNImputerMode(n_neighbors = 5, metric = distance)\n",
    "\n",
    "cols = ['SWB_1', 'FWBscore', 'GOALCONF', 'MATHARDSHIP_1', 'REJECTED_1', 'HHEDUC', 'PPEDUC', 'PPINCIMP', 'ENDSMEET']\n",
    "\n",
    "new_data = imputer.fit_transform(data[cols])\n",
    "\n",
    "new_data = pd.DataFrame(new_data, columns = cols, index = data.index)"
   ]
  },
  {
   "cell_type": "code",
   "execution_count": 143,
   "metadata": {},
   "outputs": [],
   "source": [
    "data.loc[data['ENDSMEET'].isna(), 'ENDSMEET'] = new_data.loc[data['ENDSMEET'].isna(), 'ENDSMEET']"
   ]
  },
  {
   "attachments": {},
   "cell_type": "markdown",
   "metadata": {},
   "source": [
    "__HOUSING__\n",
    "\n",
    "'Which one of the following best describes your housing situation?'\n",
    "\n",
    "Variables:\n",
    "\n",
    "ENDSMEET: ordinal\n",
    "<br>\n",
    "SAVINGSRANGES: ordinal\n",
    "<br>\n",
    "agecat: ordinal\n",
    "<br>\n",
    "HOUSESAT: ordinal\n",
    "<br>\n",
    "MATHARDSHIP_3: ordinal\n",
    "\n",
    "distance = euclidean"
   ]
  },
  {
   "cell_type": "code",
   "execution_count": 146,
   "metadata": {},
   "outputs": [
    {
     "data": {
      "text/plain": [
       "12"
      ]
     },
     "execution_count": 146,
     "metadata": {},
     "output_type": "execute_result"
    }
   ],
   "source": [
    "data[data['HOUSING'].isna()].shape[0]"
   ]
  },
  {
   "cell_type": "code",
   "execution_count": 147,
   "metadata": {},
   "outputs": [],
   "source": [
    "imputer = KNNImputerMode(n_neighbors = 5)\n",
    "\n",
    "cols = ['ENDSMEET', 'SAVINGSRANGES', 'agecat', 'HOUSESAT', 'MATHARDSHIP_3', 'HOUSING']\n",
    "\n",
    "new_data = imputer.fit_transform(data[cols])\n",
    "\n",
    "new_data = pd.DataFrame(new_data, columns = cols, index = data.index)"
   ]
  },
  {
   "cell_type": "code",
   "execution_count": 148,
   "metadata": {},
   "outputs": [],
   "source": [
    "data.loc[data['HOUSING'].isna(), 'HOUSING'] = new_data.loc[data['HOUSING'].isna(), 'HOUSING']"
   ]
  },
  {
   "cell_type": "code",
   "execution_count": 149,
   "metadata": {},
   "outputs": [
    {
     "data": {
      "text/plain": [
       "0"
      ]
     },
     "execution_count": 149,
     "metadata": {},
     "output_type": "execute_result"
    }
   ],
   "source": [
    "data[data['HOUSING'].isna()].shape[0]"
   ]
  },
  {
   "cell_type": "markdown",
   "metadata": {},
   "source": [
    "__LIVINGARRANGEMENT__\n",
    "\n",
    "Current living arrangements\n"
   ]
  },
  {
   "cell_type": "code",
   "execution_count": 150,
   "metadata": {},
   "outputs": [
    {
     "data": {
      "text/html": [
       "<div>\n",
       "<style scoped>\n",
       "    .dataframe tbody tr th:only-of-type {\n",
       "        vertical-align: middle;\n",
       "    }\n",
       "\n",
       "    .dataframe tbody tr th {\n",
       "        vertical-align: top;\n",
       "    }\n",
       "\n",
       "    .dataframe thead th {\n",
       "        text-align: right;\n",
       "    }\n",
       "</style>\n",
       "<table border=\"1\" class=\"dataframe\">\n",
       "  <thead>\n",
       "    <tr style=\"text-align: right;\">\n",
       "      <th></th>\n",
       "      <th>sample</th>\n",
       "      <th>fpl</th>\n",
       "      <th>SWB_1</th>\n",
       "      <th>SWB_2</th>\n",
       "      <th>SWB_3</th>\n",
       "      <th>FWBscore</th>\n",
       "      <th>FSscore</th>\n",
       "      <th>SUBKNOWL1</th>\n",
       "      <th>ACT1_1</th>\n",
       "      <th>ACT1_2</th>\n",
       "      <th>...</th>\n",
       "      <th>PPMSACAT</th>\n",
       "      <th>PPREG4</th>\n",
       "      <th>PPREG9</th>\n",
       "      <th>PPT01</th>\n",
       "      <th>PPT25</th>\n",
       "      <th>PPT612</th>\n",
       "      <th>PPT1317</th>\n",
       "      <th>PPT18OV</th>\n",
       "      <th>PCTLT200FPL</th>\n",
       "      <th>finalwt</th>\n",
       "    </tr>\n",
       "    <tr>\n",
       "      <th>PUF_ID</th>\n",
       "      <th></th>\n",
       "      <th></th>\n",
       "      <th></th>\n",
       "      <th></th>\n",
       "      <th></th>\n",
       "      <th></th>\n",
       "      <th></th>\n",
       "      <th></th>\n",
       "      <th></th>\n",
       "      <th></th>\n",
       "      <th></th>\n",
       "      <th></th>\n",
       "      <th></th>\n",
       "      <th></th>\n",
       "      <th></th>\n",
       "      <th></th>\n",
       "      <th></th>\n",
       "      <th></th>\n",
       "      <th></th>\n",
       "      <th></th>\n",
       "      <th></th>\n",
       "    </tr>\n",
       "  </thead>\n",
       "  <tbody>\n",
       "    <tr>\n",
       "      <th>11388</th>\n",
       "      <td>1</td>\n",
       "      <td>3</td>\n",
       "      <td>7.0</td>\n",
       "      <td>6.0</td>\n",
       "      <td>1.0</td>\n",
       "      <td>73.0</td>\n",
       "      <td>78.0</td>\n",
       "      <td>5.0</td>\n",
       "      <td>5.0</td>\n",
       "      <td>5.0</td>\n",
       "      <td>...</td>\n",
       "      <td>0</td>\n",
       "      <td>2</td>\n",
       "      <td>4</td>\n",
       "      <td>0</td>\n",
       "      <td>0</td>\n",
       "      <td>0</td>\n",
       "      <td>0</td>\n",
       "      <td>2</td>\n",
       "      <td>0.0</td>\n",
       "      <td>0.744356</td>\n",
       "    </tr>\n",
       "    <tr>\n",
       "      <th>11989</th>\n",
       "      <td>2</td>\n",
       "      <td>3</td>\n",
       "      <td>1.0</td>\n",
       "      <td>3.0</td>\n",
       "      <td>2.0</td>\n",
       "      <td>32.0</td>\n",
       "      <td>49.0</td>\n",
       "      <td>4.0</td>\n",
       "      <td>3.0</td>\n",
       "      <td>2.0</td>\n",
       "      <td>...</td>\n",
       "      <td>1</td>\n",
       "      <td>1</td>\n",
       "      <td>1</td>\n",
       "      <td>0</td>\n",
       "      <td>0</td>\n",
       "      <td>0</td>\n",
       "      <td>0</td>\n",
       "      <td>1</td>\n",
       "      <td>0.0</td>\n",
       "      <td>0.618375</td>\n",
       "    </tr>\n",
       "  </tbody>\n",
       "</table>\n",
       "<p>2 rows × 171 columns</p>\n",
       "</div>"
      ],
      "text/plain": [
       "        sample  fpl  SWB_1  SWB_2  SWB_3  FWBscore  FSscore  SUBKNOWL1  \\\n",
       "PUF_ID                                                                   \n",
       "11388        1    3    7.0    6.0    1.0      73.0     78.0        5.0   \n",
       "11989        2    3    1.0    3.0    2.0      32.0     49.0        4.0   \n",
       "\n",
       "        ACT1_1  ACT1_2  ...  PPMSACAT  PPREG4  PPREG9  PPT01  PPT25  PPT612  \\\n",
       "PUF_ID                  ...                                                   \n",
       "11388      5.0     5.0  ...         0       2       4      0      0       0   \n",
       "11989      3.0     2.0  ...         1       1       1      0      0       0   \n",
       "\n",
       "        PPT1317  PPT18OV  PCTLT200FPL   finalwt  \n",
       "PUF_ID                                           \n",
       "11388         0        2          0.0  0.744356  \n",
       "11989         0        1          0.0  0.618375  \n",
       "\n",
       "[2 rows x 171 columns]"
      ]
     },
     "execution_count": 150,
     "metadata": {},
     "output_type": "execute_result"
    }
   ],
   "source": [
    "data[data['LIVINGARRANGEMENT'].isna()]"
   ]
  },
  {
   "cell_type": "code",
   "execution_count": 153,
   "metadata": {},
   "outputs": [],
   "source": [
    "data.loc[data['LIVINGARRANGEMENT'].isna(), 'LIVINGARRANGEMENT'] = data['LIVINGARRANGEMENT'].mode()[0]"
   ]
  },
  {
   "attachments": {},
   "cell_type": "markdown",
   "metadata": {},
   "source": [
    "__HOUSERANGES__\n",
    "\n",
    "'About how much do you pay for your home each month?'"
   ]
  },
  {
   "cell_type": "code",
   "execution_count": 154,
   "metadata": {},
   "outputs": [
    {
     "data": {
      "text/html": [
       "<div>\n",
       "<style scoped>\n",
       "    .dataframe tbody tr th:only-of-type {\n",
       "        vertical-align: middle;\n",
       "    }\n",
       "\n",
       "    .dataframe tbody tr th {\n",
       "        vertical-align: top;\n",
       "    }\n",
       "\n",
       "    .dataframe thead th {\n",
       "        text-align: right;\n",
       "    }\n",
       "</style>\n",
       "<table border=\"1\" class=\"dataframe\">\n",
       "  <thead>\n",
       "    <tr style=\"text-align: right;\">\n",
       "      <th></th>\n",
       "      <th>sample</th>\n",
       "      <th>fpl</th>\n",
       "      <th>SWB_1</th>\n",
       "      <th>SWB_2</th>\n",
       "      <th>SWB_3</th>\n",
       "      <th>FWBscore</th>\n",
       "      <th>FSscore</th>\n",
       "      <th>SUBKNOWL1</th>\n",
       "      <th>ACT1_1</th>\n",
       "      <th>ACT1_2</th>\n",
       "      <th>...</th>\n",
       "      <th>PPMSACAT</th>\n",
       "      <th>PPREG4</th>\n",
       "      <th>PPREG9</th>\n",
       "      <th>PPT01</th>\n",
       "      <th>PPT25</th>\n",
       "      <th>PPT612</th>\n",
       "      <th>PPT1317</th>\n",
       "      <th>PPT18OV</th>\n",
       "      <th>PCTLT200FPL</th>\n",
       "      <th>finalwt</th>\n",
       "    </tr>\n",
       "    <tr>\n",
       "      <th>PUF_ID</th>\n",
       "      <th></th>\n",
       "      <th></th>\n",
       "      <th></th>\n",
       "      <th></th>\n",
       "      <th></th>\n",
       "      <th></th>\n",
       "      <th></th>\n",
       "      <th></th>\n",
       "      <th></th>\n",
       "      <th></th>\n",
       "      <th></th>\n",
       "      <th></th>\n",
       "      <th></th>\n",
       "      <th></th>\n",
       "      <th></th>\n",
       "      <th></th>\n",
       "      <th></th>\n",
       "      <th></th>\n",
       "      <th></th>\n",
       "      <th></th>\n",
       "      <th></th>\n",
       "    </tr>\n",
       "  </thead>\n",
       "  <tbody>\n",
       "    <tr>\n",
       "      <th>11079</th>\n",
       "      <td>1</td>\n",
       "      <td>3</td>\n",
       "      <td>5.0</td>\n",
       "      <td>4.0</td>\n",
       "      <td>7.0</td>\n",
       "      <td>51.0</td>\n",
       "      <td>54.0</td>\n",
       "      <td>5.0</td>\n",
       "      <td>5.0</td>\n",
       "      <td>3.0</td>\n",
       "      <td>...</td>\n",
       "      <td>1</td>\n",
       "      <td>2</td>\n",
       "      <td>4</td>\n",
       "      <td>0</td>\n",
       "      <td>0</td>\n",
       "      <td>1</td>\n",
       "      <td>1</td>\n",
       "      <td>3</td>\n",
       "      <td>0.0</td>\n",
       "      <td>1.370522</td>\n",
       "    </tr>\n",
       "    <tr>\n",
       "      <th>7852</th>\n",
       "      <td>1</td>\n",
       "      <td>2</td>\n",
       "      <td>5.0</td>\n",
       "      <td>6.0</td>\n",
       "      <td>7.0</td>\n",
       "      <td>50.0</td>\n",
       "      <td>49.0</td>\n",
       "      <td>5.0</td>\n",
       "      <td>4.0</td>\n",
       "      <td>4.0</td>\n",
       "      <td>...</td>\n",
       "      <td>1</td>\n",
       "      <td>3</td>\n",
       "      <td>7</td>\n",
       "      <td>0</td>\n",
       "      <td>0</td>\n",
       "      <td>0</td>\n",
       "      <td>1</td>\n",
       "      <td>3</td>\n",
       "      <td>1.0</td>\n",
       "      <td>1.292576</td>\n",
       "    </tr>\n",
       "    <tr>\n",
       "      <th>11221</th>\n",
       "      <td>1</td>\n",
       "      <td>1</td>\n",
       "      <td>3.0</td>\n",
       "      <td>5.0</td>\n",
       "      <td>4.0</td>\n",
       "      <td>37.0</td>\n",
       "      <td>32.0</td>\n",
       "      <td>4.0</td>\n",
       "      <td>5.0</td>\n",
       "      <td>5.0</td>\n",
       "      <td>...</td>\n",
       "      <td>1</td>\n",
       "      <td>4</td>\n",
       "      <td>9</td>\n",
       "      <td>0</td>\n",
       "      <td>0</td>\n",
       "      <td>1</td>\n",
       "      <td>0</td>\n",
       "      <td>3</td>\n",
       "      <td>0.0</td>\n",
       "      <td>1.025192</td>\n",
       "    </tr>\n",
       "    <tr>\n",
       "      <th>12990</th>\n",
       "      <td>2</td>\n",
       "      <td>2</td>\n",
       "      <td>7.0</td>\n",
       "      <td>7.0</td>\n",
       "      <td>7.0</td>\n",
       "      <td>67.0</td>\n",
       "      <td>79.0</td>\n",
       "      <td>7.0</td>\n",
       "      <td>5.0</td>\n",
       "      <td>5.0</td>\n",
       "      <td>...</td>\n",
       "      <td>1</td>\n",
       "      <td>3</td>\n",
       "      <td>5</td>\n",
       "      <td>0</td>\n",
       "      <td>0</td>\n",
       "      <td>0</td>\n",
       "      <td>0</td>\n",
       "      <td>1</td>\n",
       "      <td>0.0</td>\n",
       "      <td>0.866999</td>\n",
       "    </tr>\n",
       "    <tr>\n",
       "      <th>10549</th>\n",
       "      <td>1</td>\n",
       "      <td>3</td>\n",
       "      <td>6.0</td>\n",
       "      <td>5.0</td>\n",
       "      <td>5.0</td>\n",
       "      <td>62.0</td>\n",
       "      <td>48.0</td>\n",
       "      <td>5.0</td>\n",
       "      <td>4.0</td>\n",
       "      <td>3.0</td>\n",
       "      <td>...</td>\n",
       "      <td>1</td>\n",
       "      <td>2</td>\n",
       "      <td>3</td>\n",
       "      <td>0</td>\n",
       "      <td>0</td>\n",
       "      <td>0</td>\n",
       "      <td>0</td>\n",
       "      <td>2</td>\n",
       "      <td>0.0</td>\n",
       "      <td>0.616246</td>\n",
       "    </tr>\n",
       "    <tr>\n",
       "      <th>...</th>\n",
       "      <td>...</td>\n",
       "      <td>...</td>\n",
       "      <td>...</td>\n",
       "      <td>...</td>\n",
       "      <td>...</td>\n",
       "      <td>...</td>\n",
       "      <td>...</td>\n",
       "      <td>...</td>\n",
       "      <td>...</td>\n",
       "      <td>...</td>\n",
       "      <td>...</td>\n",
       "      <td>...</td>\n",
       "      <td>...</td>\n",
       "      <td>...</td>\n",
       "      <td>...</td>\n",
       "      <td>...</td>\n",
       "      <td>...</td>\n",
       "      <td>...</td>\n",
       "      <td>...</td>\n",
       "      <td>...</td>\n",
       "      <td>...</td>\n",
       "    </tr>\n",
       "    <tr>\n",
       "      <th>10348</th>\n",
       "      <td>1</td>\n",
       "      <td>3</td>\n",
       "      <td>5.0</td>\n",
       "      <td>7.0</td>\n",
       "      <td>6.0</td>\n",
       "      <td>56.0</td>\n",
       "      <td>42.0</td>\n",
       "      <td>5.0</td>\n",
       "      <td>4.0</td>\n",
       "      <td>3.0</td>\n",
       "      <td>...</td>\n",
       "      <td>0</td>\n",
       "      <td>2</td>\n",
       "      <td>4</td>\n",
       "      <td>0</td>\n",
       "      <td>0</td>\n",
       "      <td>0</td>\n",
       "      <td>0</td>\n",
       "      <td>2</td>\n",
       "      <td>0.0</td>\n",
       "      <td>0.328092</td>\n",
       "    </tr>\n",
       "    <tr>\n",
       "      <th>12971</th>\n",
       "      <td>3</td>\n",
       "      <td>3</td>\n",
       "      <td>4.0</td>\n",
       "      <td>5.0</td>\n",
       "      <td>2.0</td>\n",
       "      <td>52.0</td>\n",
       "      <td>43.0</td>\n",
       "      <td>5.0</td>\n",
       "      <td>4.0</td>\n",
       "      <td>2.0</td>\n",
       "      <td>...</td>\n",
       "      <td>1</td>\n",
       "      <td>4</td>\n",
       "      <td>9</td>\n",
       "      <td>0</td>\n",
       "      <td>0</td>\n",
       "      <td>0</td>\n",
       "      <td>0</td>\n",
       "      <td>1</td>\n",
       "      <td>0.0</td>\n",
       "      <td>0.545312</td>\n",
       "    </tr>\n",
       "    <tr>\n",
       "      <th>12095</th>\n",
       "      <td>3</td>\n",
       "      <td>2</td>\n",
       "      <td>5.0</td>\n",
       "      <td>5.0</td>\n",
       "      <td>6.0</td>\n",
       "      <td>67.0</td>\n",
       "      <td>50.0</td>\n",
       "      <td>4.0</td>\n",
       "      <td>5.0</td>\n",
       "      <td>5.0</td>\n",
       "      <td>...</td>\n",
       "      <td>1</td>\n",
       "      <td>2</td>\n",
       "      <td>3</td>\n",
       "      <td>1</td>\n",
       "      <td>1</td>\n",
       "      <td>0</td>\n",
       "      <td>1</td>\n",
       "      <td>2</td>\n",
       "      <td>0.0</td>\n",
       "      <td>0.690902</td>\n",
       "    </tr>\n",
       "    <tr>\n",
       "      <th>13939</th>\n",
       "      <td>3</td>\n",
       "      <td>3</td>\n",
       "      <td>7.0</td>\n",
       "      <td>7.0</td>\n",
       "      <td>7.0</td>\n",
       "      <td>70.0</td>\n",
       "      <td>70.0</td>\n",
       "      <td>7.0</td>\n",
       "      <td>5.0</td>\n",
       "      <td>5.0</td>\n",
       "      <td>...</td>\n",
       "      <td>1</td>\n",
       "      <td>3</td>\n",
       "      <td>7</td>\n",
       "      <td>1</td>\n",
       "      <td>1</td>\n",
       "      <td>0</td>\n",
       "      <td>0</td>\n",
       "      <td>2</td>\n",
       "      <td>0.0</td>\n",
       "      <td>0.830442</td>\n",
       "    </tr>\n",
       "    <tr>\n",
       "      <th>13477</th>\n",
       "      <td>3</td>\n",
       "      <td>3</td>\n",
       "      <td>7.0</td>\n",
       "      <td>7.0</td>\n",
       "      <td>7.0</td>\n",
       "      <td>76.0</td>\n",
       "      <td>52.0</td>\n",
       "      <td>5.0</td>\n",
       "      <td>5.0</td>\n",
       "      <td>5.0</td>\n",
       "      <td>...</td>\n",
       "      <td>1</td>\n",
       "      <td>3</td>\n",
       "      <td>5</td>\n",
       "      <td>0</td>\n",
       "      <td>0</td>\n",
       "      <td>0</td>\n",
       "      <td>1</td>\n",
       "      <td>3</td>\n",
       "      <td>0.0</td>\n",
       "      <td>1.891137</td>\n",
       "    </tr>\n",
       "  </tbody>\n",
       "</table>\n",
       "<p>741 rows × 171 columns</p>\n",
       "</div>"
      ],
      "text/plain": [
       "        sample  fpl  SWB_1  SWB_2  SWB_3  FWBscore  FSscore  SUBKNOWL1  \\\n",
       "PUF_ID                                                                   \n",
       "11079        1    3    5.0    4.0    7.0      51.0     54.0        5.0   \n",
       "7852         1    2    5.0    6.0    7.0      50.0     49.0        5.0   \n",
       "11221        1    1    3.0    5.0    4.0      37.0     32.0        4.0   \n",
       "12990        2    2    7.0    7.0    7.0      67.0     79.0        7.0   \n",
       "10549        1    3    6.0    5.0    5.0      62.0     48.0        5.0   \n",
       "...        ...  ...    ...    ...    ...       ...      ...        ...   \n",
       "10348        1    3    5.0    7.0    6.0      56.0     42.0        5.0   \n",
       "12971        3    3    4.0    5.0    2.0      52.0     43.0        5.0   \n",
       "12095        3    2    5.0    5.0    6.0      67.0     50.0        4.0   \n",
       "13939        3    3    7.0    7.0    7.0      70.0     70.0        7.0   \n",
       "13477        3    3    7.0    7.0    7.0      76.0     52.0        5.0   \n",
       "\n",
       "        ACT1_1  ACT1_2  ...  PPMSACAT  PPREG4  PPREG9  PPT01  PPT25  PPT612  \\\n",
       "PUF_ID                  ...                                                   \n",
       "11079      5.0     3.0  ...         1       2       4      0      0       1   \n",
       "7852       4.0     4.0  ...         1       3       7      0      0       0   \n",
       "11221      5.0     5.0  ...         1       4       9      0      0       1   \n",
       "12990      5.0     5.0  ...         1       3       5      0      0       0   \n",
       "10549      4.0     3.0  ...         1       2       3      0      0       0   \n",
       "...        ...     ...  ...       ...     ...     ...    ...    ...     ...   \n",
       "10348      4.0     3.0  ...         0       2       4      0      0       0   \n",
       "12971      4.0     2.0  ...         1       4       9      0      0       0   \n",
       "12095      5.0     5.0  ...         1       2       3      1      1       0   \n",
       "13939      5.0     5.0  ...         1       3       7      1      1       0   \n",
       "13477      5.0     5.0  ...         1       3       5      0      0       0   \n",
       "\n",
       "        PPT1317  PPT18OV  PCTLT200FPL   finalwt  \n",
       "PUF_ID                                           \n",
       "11079         1        3          0.0  1.370522  \n",
       "7852          1        3          1.0  1.292576  \n",
       "11221         0        3          0.0  1.025192  \n",
       "12990         0        1          0.0  0.866999  \n",
       "10549         0        2          0.0  0.616246  \n",
       "...         ...      ...          ...       ...  \n",
       "10348         0        2          0.0  0.328092  \n",
       "12971         0        1          0.0  0.545312  \n",
       "12095         1        2          0.0  0.690902  \n",
       "13939         0        2          0.0  0.830442  \n",
       "13477         1        3          0.0  1.891137  \n",
       "\n",
       "[741 rows x 171 columns]"
      ]
     },
     "execution_count": 154,
     "metadata": {},
     "output_type": "execute_result"
    }
   ],
   "source": [
    "data[data['HOUSERANGES'].isna()]"
   ]
  }
 ],
 "metadata": {
  "kernelspec": {
   "display_name": "functionalenv",
   "language": "python",
   "name": "python3"
  },
  "language_info": {
   "codemirror_mode": {
    "name": "ipython",
    "version": 3
   },
   "file_extension": ".py",
   "mimetype": "text/x-python",
   "name": "python",
   "nbconvert_exporter": "python",
   "pygments_lexer": "ipython3",
   "version": "3.9.13"
  },
  "orig_nbformat": 4,
  "vscode": {
   "interpreter": {
    "hash": "c3e1b914758c0064768d5b7ded7793eb93afcfd32fe458b7f56104c45072a0c5"
   }
  }
 },
 "nbformat": 4,
 "nbformat_minor": 2
}
