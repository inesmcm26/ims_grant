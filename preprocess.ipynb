{
 "cells": [
  {
   "cell_type": "code",
   "execution_count": 240,
   "metadata": {},
   "outputs": [],
   "source": [
    "import numpy as np\n",
    "import pandas as pd\n",
    "import matplotlib.pyplot as plt\n",
    "import seaborn as sns\n",
    "from scipy.spatial.distance import euclidean\n",
    "from sklearn.decomposition import PCA\n",
    "\n",
    "from imputers import KNNImputerMode, KNNImputerMedian"
   ]
  },
  {
   "cell_type": "code",
   "execution_count": 241,
   "metadata": {},
   "outputs": [
    {
     "name": "stdout",
     "output_type": "stream",
     "text": [
      "The dataset contains 6394 rows and 217 features.\n"
     ]
    }
   ],
   "source": [
    "data = pd.read_csv('./Financial Well-Being Survey Data/NFWBS_PUF_2016_data.csv')\n",
    "\n",
    "print(f'The dataset contains {data.shape[0]} rows and {data.shape[1]} features.')"
   ]
  },
  {
   "cell_type": "code",
   "execution_count": 242,
   "metadata": {},
   "outputs": [
    {
     "data": {
      "text/plain": [
       "0"
      ]
     },
     "execution_count": 242,
     "metadata": {},
     "output_type": "execute_result"
    }
   ],
   "source": [
    "data.duplicated().sum()"
   ]
  },
  {
   "attachments": {},
   "cell_type": "markdown",
   "metadata": {},
   "source": [
    "# Data cleaning"
   ]
  },
  {
   "cell_type": "code",
   "execution_count": 243,
   "metadata": {},
   "outputs": [],
   "source": [
    "data.set_index('PUF_ID', inplace=True)"
   ]
  },
  {
   "attachments": {},
   "cell_type": "markdown",
   "metadata": {},
   "source": [
    "## Dropping irrelevant features\n",
    "\n",
    "We can remove features that were used to feature engineering\n",
    "\n",
    "Engineered features: \n",
    "- FWBScore: created from FWB questions\n",
    "- FSscore: created from FS questions\n",
    "- LMscore: created from FINKKNOWL questions + FKcorrect\n",
    "- KHscore: created from KHKNOWL questions + KHcorrect\n",
    "- ON1correct: OBJNUMERACY1\n",
    "- ON2correct: OBJNUMERACY2"
   ]
  },
  {
   "cell_type": "code",
   "execution_count": 244,
   "metadata": {},
   "outputs": [
    {
     "data": {
      "text/plain": [
       "['FWBscore']"
      ]
     },
     "execution_count": 244,
     "metadata": {},
     "output_type": "execute_result"
    }
   ],
   "source": [
    "FWB_cols = list(filter(lambda x: 'FWB' in x, data.columns.values))\n",
    "FWB_drop = FWB_cols[1:]\n",
    "data.drop(FWB_drop, axis = 1, inplace = True)\n",
    "\n",
    "list(filter(lambda x: 'FWB' in x, data.columns.values))"
   ]
  },
  {
   "cell_type": "code",
   "execution_count": 245,
   "metadata": {},
   "outputs": [
    {
     "data": {
      "text/plain": [
       "['FSscore']"
      ]
     },
     "execution_count": 245,
     "metadata": {},
     "output_type": "execute_result"
    }
   ],
   "source": [
    "FS_cols = list(filter(lambda x: 'FS' in x, data.columns.values))\n",
    "FS_cols = FS_cols[1:]\n",
    "data.drop(FS_cols, axis = 1, inplace = True)\n",
    "\n",
    "list(filter(lambda x: 'FS' in x, data.columns.values))"
   ]
  },
  {
   "cell_type": "code",
   "execution_count": 246,
   "metadata": {},
   "outputs": [
    {
     "data": {
      "text/plain": [
       "[]"
      ]
     },
     "execution_count": 246,
     "metadata": {},
     "output_type": "execute_result"
    }
   ],
   "source": [
    "LM_cols = list(filter(lambda x: 'FINKNOWL' in x, data.columns.values))\n",
    "\n",
    "data.drop(LM_cols, axis = 1, inplace = True)\n",
    "\n",
    "list(filter(lambda x: 'FINKNOWL' in x, data.columns.values))"
   ]
  },
  {
   "cell_type": "code",
   "execution_count": 247,
   "metadata": {},
   "outputs": [],
   "source": [
    "FKcorrect_cols = ['FK1correct', 'FK2correct', 'FK3correct']\n",
    "\n",
    "data.drop(FKcorrect_cols, axis = 1, inplace = True)"
   ]
  },
  {
   "cell_type": "code",
   "execution_count": 248,
   "metadata": {},
   "outputs": [
    {
     "data": {
      "text/plain": [
       "[]"
      ]
     },
     "execution_count": 248,
     "metadata": {},
     "output_type": "execute_result"
    }
   ],
   "source": [
    "KH_cols = list(filter(lambda x: 'KHKNOWL' in x, data.columns.values))\n",
    "\n",
    "data.drop(KH_cols, axis = 1, inplace = True)\n",
    "\n",
    "list(filter(lambda x: 'KHKNOWL' in x, data.columns.values))"
   ]
  },
  {
   "cell_type": "code",
   "execution_count": 249,
   "metadata": {},
   "outputs": [],
   "source": [
    "KHcorrect_cols = ['KH1correct', 'KH2correct', 'KH3correct', 'KH4correct', 'KH5correct', 'KH6correct', 'KH7correct', 'KH8correct', 'KH9correct']\n",
    "\n",
    "data.drop(KHcorrect_cols, axis = 1, inplace = True)"
   ]
  },
  {
   "cell_type": "code",
   "execution_count": 250,
   "metadata": {},
   "outputs": [
    {
     "data": {
      "text/plain": [
       "[]"
      ]
     },
     "execution_count": 250,
     "metadata": {},
     "output_type": "execute_result"
    }
   ],
   "source": [
    "OBJNUMcols = list(filter(lambda x: 'OBJNUMERACY' in x, data.columns.values))\n",
    "\n",
    "data.drop(OBJNUMcols, axis = 1, inplace = True)\n",
    "\n",
    "list(filter(lambda x: 'OBJNUMERACY' in x, data.columns.values))"
   ]
  },
  {
   "cell_type": "code",
   "execution_count": 251,
   "metadata": {},
   "outputs": [
    {
     "data": {
      "text/html": [
       "<div>\n",
       "<style scoped>\n",
       "    .dataframe tbody tr th:only-of-type {\n",
       "        vertical-align: middle;\n",
       "    }\n",
       "\n",
       "    .dataframe tbody tr th {\n",
       "        vertical-align: top;\n",
       "    }\n",
       "\n",
       "    .dataframe thead th {\n",
       "        text-align: right;\n",
       "    }\n",
       "</style>\n",
       "<table border=\"1\" class=\"dataframe\">\n",
       "  <thead>\n",
       "    <tr style=\"text-align: right;\">\n",
       "      <th></th>\n",
       "      <th>sample</th>\n",
       "      <th>fpl</th>\n",
       "      <th>SWB_1</th>\n",
       "      <th>SWB_2</th>\n",
       "      <th>SWB_3</th>\n",
       "      <th>FWBscore</th>\n",
       "      <th>FSscore</th>\n",
       "      <th>SUBKNOWL1</th>\n",
       "      <th>ACT1_1</th>\n",
       "      <th>ACT1_2</th>\n",
       "      <th>...</th>\n",
       "      <th>PPMSACAT</th>\n",
       "      <th>PPREG4</th>\n",
       "      <th>PPREG9</th>\n",
       "      <th>PPT01</th>\n",
       "      <th>PPT25</th>\n",
       "      <th>PPT612</th>\n",
       "      <th>PPT1317</th>\n",
       "      <th>PPT18OV</th>\n",
       "      <th>PCTLT200FPL</th>\n",
       "      <th>finalwt</th>\n",
       "    </tr>\n",
       "    <tr>\n",
       "      <th>PUF_ID</th>\n",
       "      <th></th>\n",
       "      <th></th>\n",
       "      <th></th>\n",
       "      <th></th>\n",
       "      <th></th>\n",
       "      <th></th>\n",
       "      <th></th>\n",
       "      <th></th>\n",
       "      <th></th>\n",
       "      <th></th>\n",
       "      <th></th>\n",
       "      <th></th>\n",
       "      <th></th>\n",
       "      <th></th>\n",
       "      <th></th>\n",
       "      <th></th>\n",
       "      <th></th>\n",
       "      <th></th>\n",
       "      <th></th>\n",
       "      <th></th>\n",
       "      <th></th>\n",
       "    </tr>\n",
       "  </thead>\n",
       "  <tbody>\n",
       "    <tr>\n",
       "      <th>10350</th>\n",
       "      <td>2</td>\n",
       "      <td>3</td>\n",
       "      <td>5</td>\n",
       "      <td>5</td>\n",
       "      <td>6</td>\n",
       "      <td>55</td>\n",
       "      <td>44</td>\n",
       "      <td>5</td>\n",
       "      <td>4</td>\n",
       "      <td>3</td>\n",
       "      <td>...</td>\n",
       "      <td>1</td>\n",
       "      <td>4</td>\n",
       "      <td>8</td>\n",
       "      <td>0</td>\n",
       "      <td>0</td>\n",
       "      <td>0</td>\n",
       "      <td>0</td>\n",
       "      <td>1</td>\n",
       "      <td>0</td>\n",
       "      <td>0.367292</td>\n",
       "    </tr>\n",
       "    <tr>\n",
       "      <th>7740</th>\n",
       "      <td>1</td>\n",
       "      <td>3</td>\n",
       "      <td>6</td>\n",
       "      <td>6</td>\n",
       "      <td>6</td>\n",
       "      <td>51</td>\n",
       "      <td>43</td>\n",
       "      <td>5</td>\n",
       "      <td>4</td>\n",
       "      <td>3</td>\n",
       "      <td>...</td>\n",
       "      <td>1</td>\n",
       "      <td>2</td>\n",
       "      <td>3</td>\n",
       "      <td>0</td>\n",
       "      <td>0</td>\n",
       "      <td>0</td>\n",
       "      <td>0</td>\n",
       "      <td>2</td>\n",
       "      <td>0</td>\n",
       "      <td>1.327561</td>\n",
       "    </tr>\n",
       "    <tr>\n",
       "      <th>13699</th>\n",
       "      <td>1</td>\n",
       "      <td>3</td>\n",
       "      <td>4</td>\n",
       "      <td>3</td>\n",
       "      <td>4</td>\n",
       "      <td>49</td>\n",
       "      <td>42</td>\n",
       "      <td>5</td>\n",
       "      <td>3</td>\n",
       "      <td>3</td>\n",
       "      <td>...</td>\n",
       "      <td>1</td>\n",
       "      <td>4</td>\n",
       "      <td>9</td>\n",
       "      <td>0</td>\n",
       "      <td>0</td>\n",
       "      <td>0</td>\n",
       "      <td>1</td>\n",
       "      <td>2</td>\n",
       "      <td>1</td>\n",
       "      <td>0.835156</td>\n",
       "    </tr>\n",
       "    <tr>\n",
       "      <th>7267</th>\n",
       "      <td>1</td>\n",
       "      <td>3</td>\n",
       "      <td>6</td>\n",
       "      <td>6</td>\n",
       "      <td>6</td>\n",
       "      <td>49</td>\n",
       "      <td>42</td>\n",
       "      <td>-1</td>\n",
       "      <td>-1</td>\n",
       "      <td>-1</td>\n",
       "      <td>...</td>\n",
       "      <td>1</td>\n",
       "      <td>3</td>\n",
       "      <td>7</td>\n",
       "      <td>0</td>\n",
       "      <td>0</td>\n",
       "      <td>0</td>\n",
       "      <td>0</td>\n",
       "      <td>1</td>\n",
       "      <td>0</td>\n",
       "      <td>1.410871</td>\n",
       "    </tr>\n",
       "    <tr>\n",
       "      <th>7375</th>\n",
       "      <td>1</td>\n",
       "      <td>3</td>\n",
       "      <td>4</td>\n",
       "      <td>4</td>\n",
       "      <td>4</td>\n",
       "      <td>49</td>\n",
       "      <td>42</td>\n",
       "      <td>4</td>\n",
       "      <td>3</td>\n",
       "      <td>3</td>\n",
       "      <td>...</td>\n",
       "      <td>1</td>\n",
       "      <td>2</td>\n",
       "      <td>4</td>\n",
       "      <td>0</td>\n",
       "      <td>0</td>\n",
       "      <td>1</td>\n",
       "      <td>0</td>\n",
       "      <td>4</td>\n",
       "      <td>1</td>\n",
       "      <td>4.260668</td>\n",
       "    </tr>\n",
       "  </tbody>\n",
       "</table>\n",
       "<p>5 rows × 171 columns</p>\n",
       "</div>"
      ],
      "text/plain": [
       "        sample  fpl  SWB_1  SWB_2  SWB_3  FWBscore  FSscore  SUBKNOWL1  \\\n",
       "PUF_ID                                                                   \n",
       "10350        2    3      5      5      6        55       44          5   \n",
       "7740         1    3      6      6      6        51       43          5   \n",
       "13699        1    3      4      3      4        49       42          5   \n",
       "7267         1    3      6      6      6        49       42         -1   \n",
       "7375         1    3      4      4      4        49       42          4   \n",
       "\n",
       "        ACT1_1  ACT1_2  ...  PPMSACAT  PPREG4  PPREG9  PPT01  PPT25  PPT612  \\\n",
       "PUF_ID                  ...                                                   \n",
       "10350        4       3  ...         1       4       8      0      0       0   \n",
       "7740         4       3  ...         1       2       3      0      0       0   \n",
       "13699        3       3  ...         1       4       9      0      0       0   \n",
       "7267        -1      -1  ...         1       3       7      0      0       0   \n",
       "7375         3       3  ...         1       2       4      0      0       1   \n",
       "\n",
       "        PPT1317  PPT18OV  PCTLT200FPL   finalwt  \n",
       "PUF_ID                                           \n",
       "10350         0        1            0  0.367292  \n",
       "7740          0        2            0  1.327561  \n",
       "13699         1        2            1  0.835156  \n",
       "7267          0        1            0  1.410871  \n",
       "7375          0        4            1  4.260668  \n",
       "\n",
       "[5 rows x 171 columns]"
      ]
     },
     "execution_count": 251,
     "metadata": {},
     "output_type": "execute_result"
    }
   ],
   "source": [
    "data.head()"
   ]
  },
  {
   "attachments": {},
   "cell_type": "markdown",
   "metadata": {},
   "source": [
    "## Missing values"
   ]
  },
  {
   "attachments": {},
   "cell_type": "markdown",
   "metadata": {},
   "source": [
    "## __-5: County not known__\n",
    "\n",
    "\n",
    "Use PPREG9, PPINCIMP and PPEDUC to impute PCTLT200FPL\n",
    "PPEDUC: ordinal\n",
    "<br>\n",
    "PPINCIMP: ordinal\n",
    "<br>\n",
    "PPREG9: categorical\n",
    "\n",
    "distance to find nearest neighbors: euclidean for PPINC, PPEDUC  + one hot for PPREG9"
   ]
  },
  {
   "cell_type": "code",
   "execution_count": 252,
   "metadata": {},
   "outputs": [],
   "source": [
    "# replace by missing values\n",
    "data = data.replace(-5, np.nan)"
   ]
  },
  {
   "cell_type": "code",
   "execution_count": 253,
   "metadata": {},
   "outputs": [
    {
     "name": "stdout",
     "output_type": "stream",
     "text": [
      "nr of rows with missing value: 395\n"
     ]
    }
   ],
   "source": [
    "nrows = data[data['PCTLT200FPL'].isna()].shape[0]\n",
    "print(f'nr of rows with missing value: {nrows}')"
   ]
  },
  {
   "cell_type": "code",
   "execution_count": 254,
   "metadata": {},
   "outputs": [],
   "source": [
    "def distance(X, Y, missing_values = np.nan):\n",
    "    \n",
    "    X[np.isnan(X)] = 0\n",
    "    Y[np.isnan(Y)] = 0\n",
    "\n",
    "    eucl_dist = euclidean(X[[0, 1]], Y[[0, 1]])\n",
    "\n",
    "    return eucl_dist + (X[2] != Y[2])"
   ]
  },
  {
   "cell_type": "code",
   "execution_count": 255,
   "metadata": {},
   "outputs": [],
   "source": [
    "imputer = KNNImputerMode(n_neighbors = 5, metric = distance)\n",
    "\n",
    "cols = ['PPEDUC', 'PPINCIMP', 'PPREG9', 'PCTLT200FPL']\n",
    "\n",
    "new_data = imputer.fit_transform(data[cols])\n",
    "\n",
    "new_data = pd.DataFrame(new_data, columns = cols, index = data.index)"
   ]
  },
  {
   "cell_type": "code",
   "execution_count": 256,
   "metadata": {},
   "outputs": [
    {
     "data": {
      "text/plain": [
       "0.0    4842\n",
       "1.0    1552\n",
       "Name: PCTLT200FPL, dtype: int64"
      ]
     },
     "execution_count": 256,
     "metadata": {},
     "output_type": "execute_result"
    }
   ],
   "source": [
    "new_data['PCTLT200FPL'].value_counts()"
   ]
  },
  {
   "cell_type": "code",
   "execution_count": 257,
   "metadata": {},
   "outputs": [],
   "source": [
    "data.loc[data['PCTLT200FPL'].isna(), 'PCTLT200FPL'] = new_data.loc[data['PCTLT200FPL'].isna(), 'PCTLT200FPL'].copy()"
   ]
  },
  {
   "attachments": {},
   "cell_type": "markdown",
   "metadata": {},
   "source": [
    "## __-4: Response not written to the database due to error__\n",
    "\n",
    "SWB only (because FWB dropped) ->DROP"
   ]
  },
  {
   "cell_type": "code",
   "execution_count": 258,
   "metadata": {},
   "outputs": [
    {
     "data": {
      "text/html": [
       "<div>\n",
       "<style scoped>\n",
       "    .dataframe tbody tr th:only-of-type {\n",
       "        vertical-align: middle;\n",
       "    }\n",
       "\n",
       "    .dataframe tbody tr th {\n",
       "        vertical-align: top;\n",
       "    }\n",
       "\n",
       "    .dataframe thead th {\n",
       "        text-align: right;\n",
       "    }\n",
       "</style>\n",
       "<table border=\"1\" class=\"dataframe\">\n",
       "  <thead>\n",
       "    <tr style=\"text-align: right;\">\n",
       "      <th></th>\n",
       "      <th>sample</th>\n",
       "      <th>fpl</th>\n",
       "      <th>SWB_1</th>\n",
       "      <th>SWB_2</th>\n",
       "      <th>SWB_3</th>\n",
       "      <th>FWBscore</th>\n",
       "      <th>FSscore</th>\n",
       "      <th>SUBKNOWL1</th>\n",
       "      <th>ACT1_1</th>\n",
       "      <th>ACT1_2</th>\n",
       "      <th>...</th>\n",
       "      <th>PPMSACAT</th>\n",
       "      <th>PPREG4</th>\n",
       "      <th>PPREG9</th>\n",
       "      <th>PPT01</th>\n",
       "      <th>PPT25</th>\n",
       "      <th>PPT612</th>\n",
       "      <th>PPT1317</th>\n",
       "      <th>PPT18OV</th>\n",
       "      <th>PCTLT200FPL</th>\n",
       "      <th>finalwt</th>\n",
       "    </tr>\n",
       "    <tr>\n",
       "      <th>PUF_ID</th>\n",
       "      <th></th>\n",
       "      <th></th>\n",
       "      <th></th>\n",
       "      <th></th>\n",
       "      <th></th>\n",
       "      <th></th>\n",
       "      <th></th>\n",
       "      <th></th>\n",
       "      <th></th>\n",
       "      <th></th>\n",
       "      <th></th>\n",
       "      <th></th>\n",
       "      <th></th>\n",
       "      <th></th>\n",
       "      <th></th>\n",
       "      <th></th>\n",
       "      <th></th>\n",
       "      <th></th>\n",
       "      <th></th>\n",
       "      <th></th>\n",
       "      <th></th>\n",
       "    </tr>\n",
       "  </thead>\n",
       "  <tbody>\n",
       "    <tr>\n",
       "      <th>12173</th>\n",
       "      <td>1</td>\n",
       "      <td>3</td>\n",
       "      <td>-4</td>\n",
       "      <td>-4</td>\n",
       "      <td>-4</td>\n",
       "      <td>-4</td>\n",
       "      <td>48</td>\n",
       "      <td>7</td>\n",
       "      <td>4</td>\n",
       "      <td>3</td>\n",
       "      <td>...</td>\n",
       "      <td>1</td>\n",
       "      <td>3</td>\n",
       "      <td>5</td>\n",
       "      <td>0</td>\n",
       "      <td>0</td>\n",
       "      <td>0</td>\n",
       "      <td>0</td>\n",
       "      <td>1</td>\n",
       "      <td>0.0</td>\n",
       "      <td>1.253964</td>\n",
       "    </tr>\n",
       "  </tbody>\n",
       "</table>\n",
       "<p>1 rows × 171 columns</p>\n",
       "</div>"
      ],
      "text/plain": [
       "        sample  fpl  SWB_1  SWB_2  SWB_3  FWBscore  FSscore  SUBKNOWL1  \\\n",
       "PUF_ID                                                                   \n",
       "12173        1    3     -4     -4     -4        -4       48          7   \n",
       "\n",
       "        ACT1_1  ACT1_2  ...  PPMSACAT  PPREG4  PPREG9  PPT01  PPT25  PPT612  \\\n",
       "PUF_ID                  ...                                                   \n",
       "12173        4       3  ...         1       3       5      0      0       0   \n",
       "\n",
       "        PPT1317  PPT18OV  PCTLT200FPL   finalwt  \n",
       "PUF_ID                                           \n",
       "12173         0        1          0.0  1.253964  \n",
       "\n",
       "[1 rows x 171 columns]"
      ]
     },
     "execution_count": 258,
     "metadata": {},
     "output_type": "execute_result"
    }
   ],
   "source": [
    "data[(data == -4).any(axis = 1)]"
   ]
  },
  {
   "cell_type": "code",
   "execution_count": 259,
   "metadata": {},
   "outputs": [],
   "source": [
    "data.drop(12173, axis = 0, inplace = True)"
   ]
  },
  {
   "attachments": {},
   "cell_type": "markdown",
   "metadata": {},
   "source": [
    "## __-3: Invalid response/ Incoherent data__\n",
    "\n",
    "- Drop the only row with KIDS_2 = -3\n",
    "- Replace -3 with -2 for SOCSEC2 because -3 are caused by invalid age, therefore -2 is the adequate label.\n",
    "- Replace -3 with the mode for SOCSEC3"
   ]
  },
  {
   "attachments": {},
   "cell_type": "markdown",
   "metadata": {},
   "source": [
    "KIDS_2 drop"
   ]
  },
  {
   "cell_type": "code",
   "execution_count": 260,
   "metadata": {},
   "outputs": [
    {
     "data": {
      "text/html": [
       "<div>\n",
       "<style scoped>\n",
       "    .dataframe tbody tr th:only-of-type {\n",
       "        vertical-align: middle;\n",
       "    }\n",
       "\n",
       "    .dataframe tbody tr th {\n",
       "        vertical-align: top;\n",
       "    }\n",
       "\n",
       "    .dataframe thead th {\n",
       "        text-align: right;\n",
       "    }\n",
       "</style>\n",
       "<table border=\"1\" class=\"dataframe\">\n",
       "  <thead>\n",
       "    <tr style=\"text-align: right;\">\n",
       "      <th></th>\n",
       "      <th>sample</th>\n",
       "      <th>fpl</th>\n",
       "      <th>SWB_1</th>\n",
       "      <th>SWB_2</th>\n",
       "      <th>SWB_3</th>\n",
       "      <th>FWBscore</th>\n",
       "      <th>FSscore</th>\n",
       "      <th>SUBKNOWL1</th>\n",
       "      <th>ACT1_1</th>\n",
       "      <th>ACT1_2</th>\n",
       "      <th>...</th>\n",
       "      <th>PPMSACAT</th>\n",
       "      <th>PPREG4</th>\n",
       "      <th>PPREG9</th>\n",
       "      <th>PPT01</th>\n",
       "      <th>PPT25</th>\n",
       "      <th>PPT612</th>\n",
       "      <th>PPT1317</th>\n",
       "      <th>PPT18OV</th>\n",
       "      <th>PCTLT200FPL</th>\n",
       "      <th>finalwt</th>\n",
       "    </tr>\n",
       "    <tr>\n",
       "      <th>PUF_ID</th>\n",
       "      <th></th>\n",
       "      <th></th>\n",
       "      <th></th>\n",
       "      <th></th>\n",
       "      <th></th>\n",
       "      <th></th>\n",
       "      <th></th>\n",
       "      <th></th>\n",
       "      <th></th>\n",
       "      <th></th>\n",
       "      <th></th>\n",
       "      <th></th>\n",
       "      <th></th>\n",
       "      <th></th>\n",
       "      <th></th>\n",
       "      <th></th>\n",
       "      <th></th>\n",
       "      <th></th>\n",
       "      <th></th>\n",
       "      <th></th>\n",
       "      <th></th>\n",
       "    </tr>\n",
       "  </thead>\n",
       "  <tbody>\n",
       "    <tr>\n",
       "      <th>13237</th>\n",
       "      <td>1</td>\n",
       "      <td>2</td>\n",
       "      <td>3</td>\n",
       "      <td>7</td>\n",
       "      <td>7</td>\n",
       "      <td>52</td>\n",
       "      <td>50</td>\n",
       "      <td>5</td>\n",
       "      <td>4</td>\n",
       "      <td>4</td>\n",
       "      <td>...</td>\n",
       "      <td>1</td>\n",
       "      <td>2</td>\n",
       "      <td>3</td>\n",
       "      <td>0</td>\n",
       "      <td>0</td>\n",
       "      <td>1</td>\n",
       "      <td>1</td>\n",
       "      <td>3</td>\n",
       "      <td>0.0</td>\n",
       "      <td>1.690435</td>\n",
       "    </tr>\n",
       "  </tbody>\n",
       "</table>\n",
       "<p>1 rows × 171 columns</p>\n",
       "</div>"
      ],
      "text/plain": [
       "        sample  fpl  SWB_1  SWB_2  SWB_3  FWBscore  FSscore  SUBKNOWL1  \\\n",
       "PUF_ID                                                                   \n",
       "13237        1    2      3      7      7        52       50          5   \n",
       "\n",
       "        ACT1_1  ACT1_2  ...  PPMSACAT  PPREG4  PPREG9  PPT01  PPT25  PPT612  \\\n",
       "PUF_ID                  ...                                                   \n",
       "13237        4       4  ...         1       2       3      0      0       1   \n",
       "\n",
       "        PPT1317  PPT18OV  PCTLT200FPL   finalwt  \n",
       "PUF_ID                                           \n",
       "13237         1        3          0.0  1.690435  \n",
       "\n",
       "[1 rows x 171 columns]"
      ]
     },
     "execution_count": 260,
     "metadata": {},
     "output_type": "execute_result"
    }
   ],
   "source": [
    "data[data['KIDS_2'] == -3]"
   ]
  },
  {
   "cell_type": "code",
   "execution_count": 261,
   "metadata": {},
   "outputs": [],
   "source": [
    "data.drop(13237, axis = 0, inplace = True)"
   ]
  },
  {
   "attachments": {},
   "cell_type": "markdown",
   "metadata": {},
   "source": [
    "SOCSEC2"
   ]
  },
  {
   "cell_type": "code",
   "execution_count": 262,
   "metadata": {},
   "outputs": [],
   "source": [
    "valid_data = data[(data['SOCSEC1'] == 1) & (data['SOCSEC2'] != -1) & ((data['SOCSEC2'] != -3))]"
   ]
  },
  {
   "cell_type": "code",
   "execution_count": 263,
   "metadata": {},
   "outputs": [],
   "source": [
    "data.loc[data['SOCSEC2'] == -3, 'SOCSEC2'] = valid_data['SOCSEC2'].mode()[0]"
   ]
  },
  {
   "cell_type": "code",
   "execution_count": 264,
   "metadata": {},
   "outputs": [
    {
     "data": {
      "text/plain": [
       "-2     4526\n",
       " 62     905\n",
       " 65     459\n",
       " 66     159\n",
       " 63     130\n",
       " 64      68\n",
       " 67      55\n",
       " 70      51\n",
       " 68      19\n",
       "-1       12\n",
       " 69       8\n",
       "Name: SOCSEC2, dtype: int64"
      ]
     },
     "execution_count": 264,
     "metadata": {},
     "output_type": "execute_result"
    }
   ],
   "source": [
    "data['SOCSEC2'].value_counts()"
   ]
  },
  {
   "attachments": {},
   "cell_type": "markdown",
   "metadata": {},
   "source": [
    "SOCSEC3"
   ]
  },
  {
   "cell_type": "code",
   "execution_count": 265,
   "metadata": {},
   "outputs": [
    {
     "data": {
      "text/plain": [
       "4    25\n",
       "3    15\n",
       "2    14\n",
       "5    11\n",
       "1     3\n",
       "Name: agecat, dtype: int64"
      ]
     },
     "execution_count": 265,
     "metadata": {},
     "output_type": "execute_result"
    }
   ],
   "source": [
    "data.loc[data['SOCSEC3'] == -3, 'agecat'].value_counts()"
   ]
  },
  {
   "cell_type": "code",
   "execution_count": 266,
   "metadata": {},
   "outputs": [
    {
     "data": {
      "text/plain": [
       "2    1056\n",
       "4    1027\n",
       "3     782\n",
       "5     679\n",
       "1     387\n",
       "Name: agecat, dtype: int64"
      ]
     },
     "execution_count": 266,
     "metadata": {},
     "output_type": "execute_result"
    }
   ],
   "source": [
    "data.loc[data['SOCSEC3'] >= 61, 'agecat'].value_counts()"
   ]
  },
  {
   "cell_type": "code",
   "execution_count": 267,
   "metadata": {},
   "outputs": [],
   "source": [
    "valid_data = data[data['agecat'] <= 5]"
   ]
  },
  {
   "cell_type": "code",
   "execution_count": 268,
   "metadata": {},
   "outputs": [],
   "source": [
    "data.loc[data['SOCSEC3'] == -3, 'SOCSEC3'] = valid_data['SOCSEC3'].mode()[0]"
   ]
  },
  {
   "cell_type": "code",
   "execution_count": 269,
   "metadata": {},
   "outputs": [
    {
     "data": {
      "text/plain": [
       "-2     2253\n",
       " 65    1289\n",
       " 70     723\n",
       " 67     451\n",
       " 61     406\n",
       " 62     372\n",
       " 71     364\n",
       " 68     160\n",
       "-1      140\n",
       " 66     118\n",
       " 63      51\n",
       " 69      41\n",
       " 64      24\n",
       "Name: SOCSEC3, dtype: int64"
      ]
     },
     "execution_count": 269,
     "metadata": {},
     "output_type": "execute_result"
    }
   ],
   "source": [
    "data['SOCSEC3'].value_counts()"
   ]
  },
  {
   "attachments": {},
   "cell_type": "markdown",
   "metadata": {},
   "source": [
    "## Others\n",
    "__-1: Not answered/ Left blank__\n",
    "<br>\n",
    "__98: Don't know__\n",
    "<br>\n",
    "__99: Prefer not to say__"
   ]
  },
  {
   "attachments": {},
   "cell_type": "markdown",
   "metadata": {},
   "source": [
    "First, let's replace the missing values with NaN"
   ]
  },
  {
   "cell_type": "code",
   "execution_count": 270,
   "metadata": {},
   "outputs": [],
   "source": [
    "data = data.replace(-1, np.nan)\n",
    "data[['HOUSERANGES', 'VALUERANGES', 'MORTGAGE', 'SAVINGSRANGES']] = data[['HOUSERANGES', 'VALUERANGES', 'MORTGAGE', 'SAVINGSRANGES']].replace(98, np.nan)\n",
    "data[['HOUSERANGES', 'VALUERANGES', 'MORTGAGE', 'SAVINGSRANGES']] = data[['HOUSERANGES', 'VALUERANGES', 'MORTGAGE', 'SAVINGSRANGES']].replace(99, np.nan)"
   ]
  },
  {
   "cell_type": "code",
   "execution_count": 271,
   "metadata": {},
   "outputs": [
    {
     "data": {
      "text/html": [
       "<div>\n",
       "<style scoped>\n",
       "    .dataframe tbody tr th:only-of-type {\n",
       "        vertical-align: middle;\n",
       "    }\n",
       "\n",
       "    .dataframe tbody tr th {\n",
       "        vertical-align: top;\n",
       "    }\n",
       "\n",
       "    .dataframe thead th {\n",
       "        text-align: right;\n",
       "    }\n",
       "</style>\n",
       "<table border=\"1\" class=\"dataframe\">\n",
       "  <thead>\n",
       "    <tr style=\"text-align: right;\">\n",
       "      <th></th>\n",
       "      <th>sample</th>\n",
       "      <th>fpl</th>\n",
       "      <th>SWB_1</th>\n",
       "      <th>SWB_2</th>\n",
       "      <th>SWB_3</th>\n",
       "      <th>FWBscore</th>\n",
       "      <th>FSscore</th>\n",
       "      <th>SUBKNOWL1</th>\n",
       "      <th>ACT1_1</th>\n",
       "      <th>ACT1_2</th>\n",
       "      <th>...</th>\n",
       "      <th>PPMSACAT</th>\n",
       "      <th>PPREG4</th>\n",
       "      <th>PPREG9</th>\n",
       "      <th>PPT01</th>\n",
       "      <th>PPT25</th>\n",
       "      <th>PPT612</th>\n",
       "      <th>PPT1317</th>\n",
       "      <th>PPT18OV</th>\n",
       "      <th>PCTLT200FPL</th>\n",
       "      <th>finalwt</th>\n",
       "    </tr>\n",
       "    <tr>\n",
       "      <th>PUF_ID</th>\n",
       "      <th></th>\n",
       "      <th></th>\n",
       "      <th></th>\n",
       "      <th></th>\n",
       "      <th></th>\n",
       "      <th></th>\n",
       "      <th></th>\n",
       "      <th></th>\n",
       "      <th></th>\n",
       "      <th></th>\n",
       "      <th></th>\n",
       "      <th></th>\n",
       "      <th></th>\n",
       "      <th></th>\n",
       "      <th></th>\n",
       "      <th></th>\n",
       "      <th></th>\n",
       "      <th></th>\n",
       "      <th></th>\n",
       "      <th></th>\n",
       "      <th></th>\n",
       "    </tr>\n",
       "  </thead>\n",
       "  <tbody>\n",
       "    <tr>\n",
       "      <th>7267</th>\n",
       "      <td>1</td>\n",
       "      <td>3</td>\n",
       "      <td>6.0</td>\n",
       "      <td>6.0</td>\n",
       "      <td>6.0</td>\n",
       "      <td>49.0</td>\n",
       "      <td>42.0</td>\n",
       "      <td>NaN</td>\n",
       "      <td>NaN</td>\n",
       "      <td>NaN</td>\n",
       "      <td>...</td>\n",
       "      <td>1</td>\n",
       "      <td>3</td>\n",
       "      <td>7</td>\n",
       "      <td>0</td>\n",
       "      <td>0</td>\n",
       "      <td>0</td>\n",
       "      <td>0</td>\n",
       "      <td>1</td>\n",
       "      <td>0.0</td>\n",
       "      <td>1.410871</td>\n",
       "    </tr>\n",
       "    <tr>\n",
       "      <th>8303</th>\n",
       "      <td>1</td>\n",
       "      <td>3</td>\n",
       "      <td>7.0</td>\n",
       "      <td>7.0</td>\n",
       "      <td>7.0</td>\n",
       "      <td>43.0</td>\n",
       "      <td>58.0</td>\n",
       "      <td>4.0</td>\n",
       "      <td>3.0</td>\n",
       "      <td>3.0</td>\n",
       "      <td>...</td>\n",
       "      <td>1</td>\n",
       "      <td>3</td>\n",
       "      <td>7</td>\n",
       "      <td>0</td>\n",
       "      <td>0</td>\n",
       "      <td>0</td>\n",
       "      <td>1</td>\n",
       "      <td>3</td>\n",
       "      <td>0.0</td>\n",
       "      <td>2.497838</td>\n",
       "    </tr>\n",
       "    <tr>\n",
       "      <th>9182</th>\n",
       "      <td>1</td>\n",
       "      <td>3</td>\n",
       "      <td>6.0</td>\n",
       "      <td>NaN</td>\n",
       "      <td>NaN</td>\n",
       "      <td>50.0</td>\n",
       "      <td>43.0</td>\n",
       "      <td>4.0</td>\n",
       "      <td>4.0</td>\n",
       "      <td>3.0</td>\n",
       "      <td>...</td>\n",
       "      <td>1</td>\n",
       "      <td>4</td>\n",
       "      <td>9</td>\n",
       "      <td>0</td>\n",
       "      <td>0</td>\n",
       "      <td>0</td>\n",
       "      <td>0</td>\n",
       "      <td>2</td>\n",
       "      <td>0.0</td>\n",
       "      <td>0.647301</td>\n",
       "    </tr>\n",
       "    <tr>\n",
       "      <th>11082</th>\n",
       "      <td>1</td>\n",
       "      <td>3</td>\n",
       "      <td>6.0</td>\n",
       "      <td>6.0</td>\n",
       "      <td>5.0</td>\n",
       "      <td>62.0</td>\n",
       "      <td>55.0</td>\n",
       "      <td>4.0</td>\n",
       "      <td>5.0</td>\n",
       "      <td>4.0</td>\n",
       "      <td>...</td>\n",
       "      <td>1</td>\n",
       "      <td>3</td>\n",
       "      <td>5</td>\n",
       "      <td>0</td>\n",
       "      <td>0</td>\n",
       "      <td>0</td>\n",
       "      <td>0</td>\n",
       "      <td>3</td>\n",
       "      <td>0.0</td>\n",
       "      <td>0.455829</td>\n",
       "    </tr>\n",
       "    <tr>\n",
       "      <th>8309</th>\n",
       "      <td>2</td>\n",
       "      <td>3</td>\n",
       "      <td>3.0</td>\n",
       "      <td>4.0</td>\n",
       "      <td>2.0</td>\n",
       "      <td>49.0</td>\n",
       "      <td>37.0</td>\n",
       "      <td>NaN</td>\n",
       "      <td>4.0</td>\n",
       "      <td>3.0</td>\n",
       "      <td>...</td>\n",
       "      <td>1</td>\n",
       "      <td>3</td>\n",
       "      <td>5</td>\n",
       "      <td>0</td>\n",
       "      <td>0</td>\n",
       "      <td>0</td>\n",
       "      <td>0</td>\n",
       "      <td>1</td>\n",
       "      <td>0.0</td>\n",
       "      <td>0.597089</td>\n",
       "    </tr>\n",
       "    <tr>\n",
       "      <th>...</th>\n",
       "      <td>...</td>\n",
       "      <td>...</td>\n",
       "      <td>...</td>\n",
       "      <td>...</td>\n",
       "      <td>...</td>\n",
       "      <td>...</td>\n",
       "      <td>...</td>\n",
       "      <td>...</td>\n",
       "      <td>...</td>\n",
       "      <td>...</td>\n",
       "      <td>...</td>\n",
       "      <td>...</td>\n",
       "      <td>...</td>\n",
       "      <td>...</td>\n",
       "      <td>...</td>\n",
       "      <td>...</td>\n",
       "      <td>...</td>\n",
       "      <td>...</td>\n",
       "      <td>...</td>\n",
       "      <td>...</td>\n",
       "      <td>...</td>\n",
       "    </tr>\n",
       "    <tr>\n",
       "      <th>13222</th>\n",
       "      <td>3</td>\n",
       "      <td>2</td>\n",
       "      <td>7.0</td>\n",
       "      <td>7.0</td>\n",
       "      <td>7.0</td>\n",
       "      <td>40.0</td>\n",
       "      <td>45.0</td>\n",
       "      <td>4.0</td>\n",
       "      <td>3.0</td>\n",
       "      <td>2.0</td>\n",
       "      <td>...</td>\n",
       "      <td>1</td>\n",
       "      <td>3</td>\n",
       "      <td>7</td>\n",
       "      <td>0</td>\n",
       "      <td>0</td>\n",
       "      <td>0</td>\n",
       "      <td>0</td>\n",
       "      <td>4</td>\n",
       "      <td>0.0</td>\n",
       "      <td>1.232251</td>\n",
       "    </tr>\n",
       "    <tr>\n",
       "      <th>11078</th>\n",
       "      <td>3</td>\n",
       "      <td>1</td>\n",
       "      <td>3.0</td>\n",
       "      <td>4.0</td>\n",
       "      <td>5.0</td>\n",
       "      <td>26.0</td>\n",
       "      <td>44.0</td>\n",
       "      <td>4.0</td>\n",
       "      <td>3.0</td>\n",
       "      <td>3.0</td>\n",
       "      <td>...</td>\n",
       "      <td>1</td>\n",
       "      <td>2</td>\n",
       "      <td>3</td>\n",
       "      <td>0</td>\n",
       "      <td>1</td>\n",
       "      <td>0</td>\n",
       "      <td>0</td>\n",
       "      <td>1</td>\n",
       "      <td>0.0</td>\n",
       "      <td>1.379959</td>\n",
       "    </tr>\n",
       "    <tr>\n",
       "      <th>12353</th>\n",
       "      <td>1</td>\n",
       "      <td>3</td>\n",
       "      <td>5.0</td>\n",
       "      <td>7.0</td>\n",
       "      <td>3.0</td>\n",
       "      <td>62.0</td>\n",
       "      <td>26.0</td>\n",
       "      <td>4.0</td>\n",
       "      <td>3.0</td>\n",
       "      <td>3.0</td>\n",
       "      <td>...</td>\n",
       "      <td>1</td>\n",
       "      <td>3</td>\n",
       "      <td>5</td>\n",
       "      <td>0</td>\n",
       "      <td>0</td>\n",
       "      <td>0</td>\n",
       "      <td>0</td>\n",
       "      <td>2</td>\n",
       "      <td>0.0</td>\n",
       "      <td>1.745759</td>\n",
       "    </tr>\n",
       "    <tr>\n",
       "      <th>13085</th>\n",
       "      <td>3</td>\n",
       "      <td>2</td>\n",
       "      <td>7.0</td>\n",
       "      <td>7.0</td>\n",
       "      <td>7.0</td>\n",
       "      <td>50.0</td>\n",
       "      <td>66.0</td>\n",
       "      <td>6.0</td>\n",
       "      <td>1.0</td>\n",
       "      <td>5.0</td>\n",
       "      <td>...</td>\n",
       "      <td>1</td>\n",
       "      <td>3</td>\n",
       "      <td>7</td>\n",
       "      <td>0</td>\n",
       "      <td>0</td>\n",
       "      <td>0</td>\n",
       "      <td>0</td>\n",
       "      <td>1</td>\n",
       "      <td>1.0</td>\n",
       "      <td>2.518084</td>\n",
       "    </tr>\n",
       "    <tr>\n",
       "      <th>13118</th>\n",
       "      <td>3</td>\n",
       "      <td>2</td>\n",
       "      <td>7.0</td>\n",
       "      <td>7.0</td>\n",
       "      <td>7.0</td>\n",
       "      <td>59.0</td>\n",
       "      <td>59.0</td>\n",
       "      <td>6.0</td>\n",
       "      <td>4.0</td>\n",
       "      <td>4.0</td>\n",
       "      <td>...</td>\n",
       "      <td>1</td>\n",
       "      <td>3</td>\n",
       "      <td>6</td>\n",
       "      <td>0</td>\n",
       "      <td>0</td>\n",
       "      <td>0</td>\n",
       "      <td>0</td>\n",
       "      <td>3</td>\n",
       "      <td>1.0</td>\n",
       "      <td>1.015219</td>\n",
       "    </tr>\n",
       "  </tbody>\n",
       "</table>\n",
       "<p>338 rows × 171 columns</p>\n",
       "</div>"
      ],
      "text/plain": [
       "        sample  fpl  SWB_1  SWB_2  SWB_3  FWBscore  FSscore  SUBKNOWL1  \\\n",
       "PUF_ID                                                                   \n",
       "7267         1    3    6.0    6.0    6.0      49.0     42.0        NaN   \n",
       "8303         1    3    7.0    7.0    7.0      43.0     58.0        4.0   \n",
       "9182         1    3    6.0    NaN    NaN      50.0     43.0        4.0   \n",
       "11082        1    3    6.0    6.0    5.0      62.0     55.0        4.0   \n",
       "8309         2    3    3.0    4.0    2.0      49.0     37.0        NaN   \n",
       "...        ...  ...    ...    ...    ...       ...      ...        ...   \n",
       "13222        3    2    7.0    7.0    7.0      40.0     45.0        4.0   \n",
       "11078        3    1    3.0    4.0    5.0      26.0     44.0        4.0   \n",
       "12353        1    3    5.0    7.0    3.0      62.0     26.0        4.0   \n",
       "13085        3    2    7.0    7.0    7.0      50.0     66.0        6.0   \n",
       "13118        3    2    7.0    7.0    7.0      59.0     59.0        6.0   \n",
       "\n",
       "        ACT1_1  ACT1_2  ...  PPMSACAT  PPREG4  PPREG9  PPT01  PPT25  PPT612  \\\n",
       "PUF_ID                  ...                                                   \n",
       "7267       NaN     NaN  ...         1       3       7      0      0       0   \n",
       "8303       3.0     3.0  ...         1       3       7      0      0       0   \n",
       "9182       4.0     3.0  ...         1       4       9      0      0       0   \n",
       "11082      5.0     4.0  ...         1       3       5      0      0       0   \n",
       "8309       4.0     3.0  ...         1       3       5      0      0       0   \n",
       "...        ...     ...  ...       ...     ...     ...    ...    ...     ...   \n",
       "13222      3.0     2.0  ...         1       3       7      0      0       0   \n",
       "11078      3.0     3.0  ...         1       2       3      0      1       0   \n",
       "12353      3.0     3.0  ...         1       3       5      0      0       0   \n",
       "13085      1.0     5.0  ...         1       3       7      0      0       0   \n",
       "13118      4.0     4.0  ...         1       3       6      0      0       0   \n",
       "\n",
       "        PPT1317  PPT18OV  PCTLT200FPL   finalwt  \n",
       "PUF_ID                                           \n",
       "7267          0        1          0.0  1.410871  \n",
       "8303          1        3          0.0  2.497838  \n",
       "9182          0        2          0.0  0.647301  \n",
       "11082         0        3          0.0  0.455829  \n",
       "8309          0        1          0.0  0.597089  \n",
       "...         ...      ...          ...       ...  \n",
       "13222         0        4          0.0  1.232251  \n",
       "11078         0        1          0.0  1.379959  \n",
       "12353         0        2          0.0  1.745759  \n",
       "13085         0        1          1.0  2.518084  \n",
       "13118         0        3          1.0  1.015219  \n",
       "\n",
       "[338 rows x 171 columns]"
      ]
     },
     "execution_count": 271,
     "metadata": {},
     "output_type": "execute_result"
    }
   ],
   "source": [
    "data[data.isna().sum(axis = 1) >= 5]"
   ]
  },
  {
   "attachments": {},
   "cell_type": "markdown",
   "metadata": {},
   "source": [
    "Now let's drop the rows with more than 5 missing values"
   ]
  },
  {
   "cell_type": "code",
   "execution_count": 272,
   "metadata": {},
   "outputs": [],
   "source": [
    "data.drop(data[data.isna().sum(axis = 1) >= 5].index, axis = 0, inplace = True)"
   ]
  },
  {
   "cell_type": "code",
   "execution_count": 273,
   "metadata": {},
   "outputs": [
    {
     "data": {
      "text/plain": [
       "(6054, 171)"
      ]
     },
     "execution_count": 273,
     "metadata": {},
     "output_type": "execute_result"
    }
   ],
   "source": [
    "data.shape"
   ]
  },
  {
   "attachments": {},
   "cell_type": "markdown",
   "metadata": {},
   "source": [
    "Now, let's see which columns have missing values"
   ]
  },
  {
   "cell_type": "code",
   "execution_count": 274,
   "metadata": {},
   "outputs": [
    {
     "data": {
      "text/plain": [
       "Index(['sample', 'fpl', 'SWB_1', 'SWB_2', 'SWB_3', 'FWBscore', 'FSscore',\n",
       "       'SUBKNOWL1', 'ACT1_1', 'ACT1_2',\n",
       "       ...\n",
       "       'PPMSACAT', 'PPREG4', 'PPREG9', 'PPT01', 'PPT25', 'PPT612', 'PPT1317',\n",
       "       'PPT18OV', 'PCTLT200FPL', 'finalwt'],\n",
       "      dtype='object', length=171)"
      ]
     },
     "execution_count": 274,
     "metadata": {},
     "output_type": "execute_result"
    }
   ],
   "source": [
    "data.isna().sum(axis = 0).index"
   ]
  },
  {
   "attachments": {},
   "cell_type": "markdown",
   "metadata": {},
   "source": [
    "And how many missing values per column"
   ]
  },
  {
   "cell_type": "code",
   "execution_count": 275,
   "metadata": {},
   "outputs": [
    {
     "data": {
      "text/plain": [
       "SWB_1              13\n",
       "SWB_2              37\n",
       "SWB_3              39\n",
       "SUBKNOWL1          34\n",
       "ACT1_1             14\n",
       "                   ..\n",
       "KIDS_3              1\n",
       "KIDS_4              7\n",
       "RETIRE              2\n",
       "MILITARY           16\n",
       "Military_Status    32\n",
       "Length: 78, dtype: int64"
      ]
     },
     "execution_count": 275,
     "metadata": {},
     "output_type": "execute_result"
    }
   ],
   "source": [
    "# how many missing values per column that has missing values\n",
    "data.isna().sum(axis = 0)[data.isna().sum(axis = 0) > 0]"
   ]
  },
  {
   "attachments": {},
   "cell_type": "markdown",
   "metadata": {},
   "source": [
    "Get all columns with less than 100 missing values"
   ]
  },
  {
   "cell_type": "code",
   "execution_count": 276,
   "metadata": {},
   "outputs": [
    {
     "data": {
      "text/plain": [
       "Index(['SWB_1', 'SWB_2', 'SWB_3', 'SUBKNOWL1', 'ACT1_1', 'ACT1_2', 'FINGOALS',\n",
       "       'SAVEHABIT', 'FRUGALITY', 'AUTOMATED_1', 'AUTOMATED_2', 'ASK1_1',\n",
       "       'ASK1_2', 'SUBNUMERACY2', 'SUBNUMERACY1', 'CHANGEABLE', 'GOALCONF',\n",
       "       'ENDSMEET', 'HOUSING', 'LIVINGARRANGEMENT', 'CONSPROTECT1',\n",
       "       'CONSPROTECT2', 'CONSPROTECT3', 'EARNERS', 'VOLATILITY', 'SNAP',\n",
       "       'MATHARDSHIP_6', 'COLLECT', 'REJECTED_1', 'REJECTED_2', 'ABSORBSHOCK',\n",
       "       'BENEFITS_3', 'BENEFITS_4', 'BENEFITS_5', 'FRAUD2', 'COVERCOSTS',\n",
       "       'MANAGE2', 'PAIDHELP', 'PAREDUC', 'FINSOC2_3', 'FINSOC2_5', 'FINSOC2_6',\n",
       "       'MATERIALISM_1', 'MATERIALISM_2', 'MATERIALISM_3', 'HEALTH',\n",
       "       'SCFHORIZON', 'DISCOUNT', 'MEMLOSS', 'DISTRESS', 'SELFCONTROL_1',\n",
       "       'SELFCONTROL_2', 'SELFCONTROL_3', 'OUTLOOK_1', 'OUTLOOK_2', 'PEM',\n",
       "       'HOUSESAT', 'SOCSEC1', 'SOCSEC2', 'SOCSEC3', 'LIFEEXPECT', 'HHEDUC',\n",
       "       'KIDS_1', 'KIDS_2', 'KIDS_3', 'KIDS_4', 'RETIRE', 'MILITARY',\n",
       "       'Military_Status'],\n",
       "      dtype='object')"
      ]
     },
     "execution_count": 276,
     "metadata": {},
     "output_type": "execute_result"
    }
   ],
   "source": [
    "# get all columns with less than 100 missing values\n",
    "\n",
    "data.isna().sum(axis = 0)[(data.isna().sum(axis = 0) > 0) & (data.isna().sum(axis = 0) < 100)].index"
   ]
  },
  {
   "cell_type": "code",
   "execution_count": 277,
   "metadata": {},
   "outputs": [
    {
     "data": {
      "text/plain": [
       "Index(['HOUSERANGES', 'VALUERANGES', 'MORTGAGE', 'SAVINGSRANGES', 'BORROW_1',\n",
       "       'BORROW_2', 'HSLOC', 'CONNECT', 'KIDS_NoChildren'],\n",
       "      dtype='object')"
      ]
     },
     "execution_count": 277,
     "metadata": {},
     "output_type": "execute_result"
    }
   ],
   "source": [
    "data.isna().sum(axis = 0)[data.isna().sum(axis = 0) > 100].index"
   ]
  },
  {
   "attachments": {},
   "cell_type": "markdown",
   "metadata": {},
   "source": [
    "__Central tendency imputations__\n",
    "\n",
    "Given the large size of the dataset, for columns with less than 100 missing values we will use measures of central tendency:\n",
    "\n",
    "__Ordinal__\n",
    "\n",
    "SWB_1, SWB_2, SUBKNOWL1, ACT1_2, ASK1_1, SUBNUMERACY1, LIVINGARRANGEMENT, CONSPROTECT1, ABSORBSHOCK, PAREDUC, MATERIALISM_3, HEALTH, SELFCONTROL_1, SELFCONTROL_2, SELFCONTROL_3, OUTLOOK_1, OUTLOOK_2, PEM: skewed -> median\n",
    "\n",
    "SWB_3, ACT1_1, SAVEHABIT, FRUGALITY, ENDSMEET, CONSPROTECT2, MATHARDSHIP_6, HOUSESAT: staricase -> mode\n",
    "\n",
    "AUTOMATED_1, AUTOMATED_2, ASK1_2, SUBNUMERACY2, CHANGEABLE, GOALCONF, EARNERS, MATERIALISM,_1, MATERIALISM_2, SCFHORIZON, DISTRESS, HHEDUC, EMPLOY, RETIRE (cuidado com -2): gaussian distribution -> mode\n",
    "\n",
    "__Categorical__\n",
    "\n",
    "FINGOALS, AUTOMATED_2, HOUSING, CONSPROTECT3, VOLATILITY, SNAP, COLLECT, REJECTED_1, REJECTED_2, BENEFITS_3, BENEFITS_4, BENEFITS_5, FRAUD2, COVERCOSTS, MANAGE2, PAIDHELP (cuidado com -2), FINSOC2_3, FINSOC2_5, FINSOC2_6, DISCOUNT, MEMLOSS, SOCSEC1, SOCSEC2, SOCSEC3 (cuidado com -3 e -2), KIDS_1, KIDS_2, KIDS_3, KIDS_4, EMPLOY, MILITARY, Military_Status: mode"
   ]
  },
  {
   "cell_type": "code",
   "execution_count": 278,
   "metadata": {},
   "outputs": [
    {
     "data": {
      "text/html": [
       "<div>\n",
       "<style scoped>\n",
       "    .dataframe tbody tr th:only-of-type {\n",
       "        vertical-align: middle;\n",
       "    }\n",
       "\n",
       "    .dataframe tbody tr th {\n",
       "        vertical-align: top;\n",
       "    }\n",
       "\n",
       "    .dataframe thead th {\n",
       "        text-align: right;\n",
       "    }\n",
       "</style>\n",
       "<table border=\"1\" class=\"dataframe\">\n",
       "  <thead>\n",
       "    <tr style=\"text-align: right;\">\n",
       "      <th></th>\n",
       "      <th>SOCSEC1</th>\n",
       "      <th>SOCSEC2</th>\n",
       "      <th>SOCSEC3</th>\n",
       "    </tr>\n",
       "    <tr>\n",
       "      <th>PUF_ID</th>\n",
       "      <th></th>\n",
       "      <th></th>\n",
       "      <th></th>\n",
       "    </tr>\n",
       "  </thead>\n",
       "  <tbody>\n",
       "    <tr>\n",
       "      <th>10357</th>\n",
       "      <td>NaN</td>\n",
       "      <td>-2.0</td>\n",
       "      <td>-2.0</td>\n",
       "    </tr>\n",
       "    <tr>\n",
       "      <th>11275</th>\n",
       "      <td>NaN</td>\n",
       "      <td>-2.0</td>\n",
       "      <td>-2.0</td>\n",
       "    </tr>\n",
       "    <tr>\n",
       "      <th>13281</th>\n",
       "      <td>NaN</td>\n",
       "      <td>-2.0</td>\n",
       "      <td>-2.0</td>\n",
       "    </tr>\n",
       "  </tbody>\n",
       "</table>\n",
       "</div>"
      ],
      "text/plain": [
       "        SOCSEC1  SOCSEC2  SOCSEC3\n",
       "PUF_ID                           \n",
       "10357       NaN     -2.0     -2.0\n",
       "11275       NaN     -2.0     -2.0\n",
       "13281       NaN     -2.0     -2.0"
      ]
     },
     "execution_count": 278,
     "metadata": {},
     "output_type": "execute_result"
    }
   ],
   "source": [
    "data.loc[data['SOCSEC1'].isna(), ['SOCSEC1', 'SOCSEC2', 'SOCSEC3']] # just drop because is almost impossible to know and has implications on two more answers"
   ]
  },
  {
   "cell_type": "code",
   "execution_count": 279,
   "metadata": {},
   "outputs": [],
   "source": [
    "data.drop(data[data['SOCSEC1'].isna()].index, axis = 0, inplace = True)"
   ]
  },
  {
   "cell_type": "code",
   "execution_count": 280,
   "metadata": {},
   "outputs": [
    {
     "data": {
      "text/html": [
       "<div>\n",
       "<style scoped>\n",
       "    .dataframe tbody tr th:only-of-type {\n",
       "        vertical-align: middle;\n",
       "    }\n",
       "\n",
       "    .dataframe tbody tr th {\n",
       "        vertical-align: top;\n",
       "    }\n",
       "\n",
       "    .dataframe thead th {\n",
       "        text-align: right;\n",
       "    }\n",
       "</style>\n",
       "<table border=\"1\" class=\"dataframe\">\n",
       "  <thead>\n",
       "    <tr style=\"text-align: right;\">\n",
       "      <th></th>\n",
       "      <th>SOCSEC1</th>\n",
       "      <th>SOCSEC2</th>\n",
       "      <th>SOCSEC3</th>\n",
       "    </tr>\n",
       "    <tr>\n",
       "      <th>PUF_ID</th>\n",
       "      <th></th>\n",
       "      <th></th>\n",
       "      <th></th>\n",
       "    </tr>\n",
       "  </thead>\n",
       "  <tbody>\n",
       "    <tr>\n",
       "      <th>14093</th>\n",
       "      <td>1.0</td>\n",
       "      <td>NaN</td>\n",
       "      <td>-2.0</td>\n",
       "    </tr>\n",
       "    <tr>\n",
       "      <th>13330</th>\n",
       "      <td>1.0</td>\n",
       "      <td>NaN</td>\n",
       "      <td>-2.0</td>\n",
       "    </tr>\n",
       "    <tr>\n",
       "      <th>13604</th>\n",
       "      <td>1.0</td>\n",
       "      <td>NaN</td>\n",
       "      <td>-2.0</td>\n",
       "    </tr>\n",
       "    <tr>\n",
       "      <th>13728</th>\n",
       "      <td>1.0</td>\n",
       "      <td>NaN</td>\n",
       "      <td>-2.0</td>\n",
       "    </tr>\n",
       "    <tr>\n",
       "      <th>12982</th>\n",
       "      <td>1.0</td>\n",
       "      <td>NaN</td>\n",
       "      <td>-2.0</td>\n",
       "    </tr>\n",
       "    <tr>\n",
       "      <th>12470</th>\n",
       "      <td>1.0</td>\n",
       "      <td>NaN</td>\n",
       "      <td>-2.0</td>\n",
       "    </tr>\n",
       "    <tr>\n",
       "      <th>11348</th>\n",
       "      <td>1.0</td>\n",
       "      <td>NaN</td>\n",
       "      <td>-2.0</td>\n",
       "    </tr>\n",
       "  </tbody>\n",
       "</table>\n",
       "</div>"
      ],
      "text/plain": [
       "        SOCSEC1  SOCSEC2  SOCSEC3\n",
       "PUF_ID                           \n",
       "14093       1.0      NaN     -2.0\n",
       "13330       1.0      NaN     -2.0\n",
       "13604       1.0      NaN     -2.0\n",
       "13728       1.0      NaN     -2.0\n",
       "12982       1.0      NaN     -2.0\n",
       "12470       1.0      NaN     -2.0\n",
       "11348       1.0      NaN     -2.0"
      ]
     },
     "execution_count": 280,
     "metadata": {},
     "output_type": "execute_result"
    }
   ],
   "source": [
    "data.loc[data['SOCSEC2'].isna(), ['SOCSEC1', 'SOCSEC2', 'SOCSEC3']] # take only into consideration"
   ]
  },
  {
   "cell_type": "code",
   "execution_count": 281,
   "metadata": {},
   "outputs": [
    {
     "data": {
      "text/html": [
       "<div>\n",
       "<style scoped>\n",
       "    .dataframe tbody tr th:only-of-type {\n",
       "        vertical-align: middle;\n",
       "    }\n",
       "\n",
       "    .dataframe tbody tr th {\n",
       "        vertical-align: top;\n",
       "    }\n",
       "\n",
       "    .dataframe thead th {\n",
       "        text-align: right;\n",
       "    }\n",
       "</style>\n",
       "<table border=\"1\" class=\"dataframe\">\n",
       "  <thead>\n",
       "    <tr style=\"text-align: right;\">\n",
       "      <th></th>\n",
       "      <th>SOCSEC1</th>\n",
       "      <th>SOCSEC2</th>\n",
       "      <th>SOCSEC3</th>\n",
       "    </tr>\n",
       "    <tr>\n",
       "      <th>PUF_ID</th>\n",
       "      <th></th>\n",
       "      <th></th>\n",
       "      <th></th>\n",
       "    </tr>\n",
       "  </thead>\n",
       "  <tbody>\n",
       "    <tr>\n",
       "      <th>12163</th>\n",
       "      <td>-2.0</td>\n",
       "      <td>-2.0</td>\n",
       "      <td>NaN</td>\n",
       "    </tr>\n",
       "    <tr>\n",
       "      <th>8956</th>\n",
       "      <td>-2.0</td>\n",
       "      <td>-2.0</td>\n",
       "      <td>NaN</td>\n",
       "    </tr>\n",
       "    <tr>\n",
       "      <th>11503</th>\n",
       "      <td>-2.0</td>\n",
       "      <td>-2.0</td>\n",
       "      <td>NaN</td>\n",
       "    </tr>\n",
       "    <tr>\n",
       "      <th>9207</th>\n",
       "      <td>-2.0</td>\n",
       "      <td>-2.0</td>\n",
       "      <td>NaN</td>\n",
       "    </tr>\n",
       "    <tr>\n",
       "      <th>8009</th>\n",
       "      <td>-2.0</td>\n",
       "      <td>-2.0</td>\n",
       "      <td>NaN</td>\n",
       "    </tr>\n",
       "    <tr>\n",
       "      <th>7323</th>\n",
       "      <td>-2.0</td>\n",
       "      <td>-2.0</td>\n",
       "      <td>NaN</td>\n",
       "    </tr>\n",
       "    <tr>\n",
       "      <th>8135</th>\n",
       "      <td>-2.0</td>\n",
       "      <td>-2.0</td>\n",
       "      <td>NaN</td>\n",
       "    </tr>\n",
       "    <tr>\n",
       "      <th>7407</th>\n",
       "      <td>-2.0</td>\n",
       "      <td>-2.0</td>\n",
       "      <td>NaN</td>\n",
       "    </tr>\n",
       "    <tr>\n",
       "      <th>13641</th>\n",
       "      <td>-2.0</td>\n",
       "      <td>-2.0</td>\n",
       "      <td>NaN</td>\n",
       "    </tr>\n",
       "    <tr>\n",
       "      <th>7408</th>\n",
       "      <td>-2.0</td>\n",
       "      <td>-2.0</td>\n",
       "      <td>NaN</td>\n",
       "    </tr>\n",
       "    <tr>\n",
       "      <th>7410</th>\n",
       "      <td>-2.0</td>\n",
       "      <td>-2.0</td>\n",
       "      <td>NaN</td>\n",
       "    </tr>\n",
       "    <tr>\n",
       "      <th>10388</th>\n",
       "      <td>-2.0</td>\n",
       "      <td>-2.0</td>\n",
       "      <td>NaN</td>\n",
       "    </tr>\n",
       "    <tr>\n",
       "      <th>7328</th>\n",
       "      <td>-2.0</td>\n",
       "      <td>-2.0</td>\n",
       "      <td>NaN</td>\n",
       "    </tr>\n",
       "    <tr>\n",
       "      <th>13846</th>\n",
       "      <td>-2.0</td>\n",
       "      <td>-2.0</td>\n",
       "      <td>NaN</td>\n",
       "    </tr>\n",
       "    <tr>\n",
       "      <th>9504</th>\n",
       "      <td>-2.0</td>\n",
       "      <td>-2.0</td>\n",
       "      <td>NaN</td>\n",
       "    </tr>\n",
       "    <tr>\n",
       "      <th>13285</th>\n",
       "      <td>-2.0</td>\n",
       "      <td>-2.0</td>\n",
       "      <td>NaN</td>\n",
       "    </tr>\n",
       "    <tr>\n",
       "      <th>12437</th>\n",
       "      <td>-2.0</td>\n",
       "      <td>-2.0</td>\n",
       "      <td>NaN</td>\n",
       "    </tr>\n",
       "    <tr>\n",
       "      <th>10409</th>\n",
       "      <td>-2.0</td>\n",
       "      <td>-2.0</td>\n",
       "      <td>NaN</td>\n",
       "    </tr>\n",
       "    <tr>\n",
       "      <th>7284</th>\n",
       "      <td>-2.0</td>\n",
       "      <td>-2.0</td>\n",
       "      <td>NaN</td>\n",
       "    </tr>\n",
       "    <tr>\n",
       "      <th>9265</th>\n",
       "      <td>-2.0</td>\n",
       "      <td>-2.0</td>\n",
       "      <td>NaN</td>\n",
       "    </tr>\n",
       "    <tr>\n",
       "      <th>13163</th>\n",
       "      <td>-2.0</td>\n",
       "      <td>-2.0</td>\n",
       "      <td>NaN</td>\n",
       "    </tr>\n",
       "    <tr>\n",
       "      <th>12535</th>\n",
       "      <td>-2.0</td>\n",
       "      <td>-2.0</td>\n",
       "      <td>NaN</td>\n",
       "    </tr>\n",
       "    <tr>\n",
       "      <th>8582</th>\n",
       "      <td>-2.0</td>\n",
       "      <td>-2.0</td>\n",
       "      <td>NaN</td>\n",
       "    </tr>\n",
       "    <tr>\n",
       "      <th>8050</th>\n",
       "      <td>-2.0</td>\n",
       "      <td>-2.0</td>\n",
       "      <td>NaN</td>\n",
       "    </tr>\n",
       "    <tr>\n",
       "      <th>7243</th>\n",
       "      <td>-2.0</td>\n",
       "      <td>-2.0</td>\n",
       "      <td>NaN</td>\n",
       "    </tr>\n",
       "    <tr>\n",
       "      <th>10636</th>\n",
       "      <td>-2.0</td>\n",
       "      <td>-2.0</td>\n",
       "      <td>NaN</td>\n",
       "    </tr>\n",
       "    <tr>\n",
       "      <th>11974</th>\n",
       "      <td>-2.0</td>\n",
       "      <td>-2.0</td>\n",
       "      <td>NaN</td>\n",
       "    </tr>\n",
       "    <tr>\n",
       "      <th>9316</th>\n",
       "      <td>-2.0</td>\n",
       "      <td>-2.0</td>\n",
       "      <td>NaN</td>\n",
       "    </tr>\n",
       "    <tr>\n",
       "      <th>13486</th>\n",
       "      <td>-2.0</td>\n",
       "      <td>-2.0</td>\n",
       "      <td>NaN</td>\n",
       "    </tr>\n",
       "    <tr>\n",
       "      <th>11680</th>\n",
       "      <td>-2.0</td>\n",
       "      <td>-2.0</td>\n",
       "      <td>NaN</td>\n",
       "    </tr>\n",
       "    <tr>\n",
       "      <th>13783</th>\n",
       "      <td>-2.0</td>\n",
       "      <td>-2.0</td>\n",
       "      <td>NaN</td>\n",
       "    </tr>\n",
       "    <tr>\n",
       "      <th>8225</th>\n",
       "      <td>-2.0</td>\n",
       "      <td>-2.0</td>\n",
       "      <td>NaN</td>\n",
       "    </tr>\n",
       "    <tr>\n",
       "      <th>13295</th>\n",
       "      <td>-2.0</td>\n",
       "      <td>-2.0</td>\n",
       "      <td>NaN</td>\n",
       "    </tr>\n",
       "    <tr>\n",
       "      <th>9085</th>\n",
       "      <td>-2.0</td>\n",
       "      <td>-2.0</td>\n",
       "      <td>NaN</td>\n",
       "    </tr>\n",
       "    <tr>\n",
       "      <th>12883</th>\n",
       "      <td>-2.0</td>\n",
       "      <td>-2.0</td>\n",
       "      <td>NaN</td>\n",
       "    </tr>\n",
       "    <tr>\n",
       "      <th>14130</th>\n",
       "      <td>-2.0</td>\n",
       "      <td>-2.0</td>\n",
       "      <td>NaN</td>\n",
       "    </tr>\n",
       "    <tr>\n",
       "      <th>8238</th>\n",
       "      <td>-2.0</td>\n",
       "      <td>-2.0</td>\n",
       "      <td>NaN</td>\n",
       "    </tr>\n",
       "    <tr>\n",
       "      <th>8645</th>\n",
       "      <td>-2.0</td>\n",
       "      <td>-2.0</td>\n",
       "      <td>NaN</td>\n",
       "    </tr>\n",
       "    <tr>\n",
       "      <th>13858</th>\n",
       "      <td>-2.0</td>\n",
       "      <td>-2.0</td>\n",
       "      <td>NaN</td>\n",
       "    </tr>\n",
       "    <tr>\n",
       "      <th>9115</th>\n",
       "      <td>-2.0</td>\n",
       "      <td>-2.0</td>\n",
       "      <td>NaN</td>\n",
       "    </tr>\n",
       "    <tr>\n",
       "      <th>7257</th>\n",
       "      <td>-2.0</td>\n",
       "      <td>-2.0</td>\n",
       "      <td>NaN</td>\n",
       "    </tr>\n",
       "    <tr>\n",
       "      <th>11312</th>\n",
       "      <td>-2.0</td>\n",
       "      <td>-2.0</td>\n",
       "      <td>NaN</td>\n",
       "    </tr>\n",
       "    <tr>\n",
       "      <th>8663</th>\n",
       "      <td>-2.0</td>\n",
       "      <td>-2.0</td>\n",
       "      <td>NaN</td>\n",
       "    </tr>\n",
       "    <tr>\n",
       "      <th>12070</th>\n",
       "      <td>-2.0</td>\n",
       "      <td>-2.0</td>\n",
       "      <td>NaN</td>\n",
       "    </tr>\n",
       "    <tr>\n",
       "      <th>9628</th>\n",
       "      <td>-2.0</td>\n",
       "      <td>-2.0</td>\n",
       "      <td>NaN</td>\n",
       "    </tr>\n",
       "    <tr>\n",
       "      <th>12286</th>\n",
       "      <td>-2.0</td>\n",
       "      <td>-2.0</td>\n",
       "      <td>NaN</td>\n",
       "    </tr>\n",
       "    <tr>\n",
       "      <th>7358</th>\n",
       "      <td>-2.0</td>\n",
       "      <td>-2.0</td>\n",
       "      <td>NaN</td>\n",
       "    </tr>\n",
       "    <tr>\n",
       "      <th>10515</th>\n",
       "      <td>-2.0</td>\n",
       "      <td>-2.0</td>\n",
       "      <td>NaN</td>\n",
       "    </tr>\n",
       "    <tr>\n",
       "      <th>10095</th>\n",
       "      <td>-2.0</td>\n",
       "      <td>-2.0</td>\n",
       "      <td>NaN</td>\n",
       "    </tr>\n",
       "    <tr>\n",
       "      <th>10518</th>\n",
       "      <td>-2.0</td>\n",
       "      <td>-2.0</td>\n",
       "      <td>NaN</td>\n",
       "    </tr>\n",
       "    <tr>\n",
       "      <th>12078</th>\n",
       "      <td>-2.0</td>\n",
       "      <td>-2.0</td>\n",
       "      <td>NaN</td>\n",
       "    </tr>\n",
       "    <tr>\n",
       "      <th>8692</th>\n",
       "      <td>-2.0</td>\n",
       "      <td>-2.0</td>\n",
       "      <td>NaN</td>\n",
       "    </tr>\n",
       "    <tr>\n",
       "      <th>7977</th>\n",
       "      <td>-2.0</td>\n",
       "      <td>-2.0</td>\n",
       "      <td>NaN</td>\n",
       "    </tr>\n",
       "    <tr>\n",
       "      <th>13397</th>\n",
       "      <td>-2.0</td>\n",
       "      <td>-2.0</td>\n",
       "      <td>NaN</td>\n",
       "    </tr>\n",
       "    <tr>\n",
       "      <th>7196</th>\n",
       "      <td>-2.0</td>\n",
       "      <td>-2.0</td>\n",
       "      <td>NaN</td>\n",
       "    </tr>\n",
       "    <tr>\n",
       "      <th>13282</th>\n",
       "      <td>-2.0</td>\n",
       "      <td>-2.0</td>\n",
       "      <td>NaN</td>\n",
       "    </tr>\n",
       "    <tr>\n",
       "      <th>14060</th>\n",
       "      <td>-2.0</td>\n",
       "      <td>-2.0</td>\n",
       "      <td>NaN</td>\n",
       "    </tr>\n",
       "    <tr>\n",
       "      <th>12231</th>\n",
       "      <td>-2.0</td>\n",
       "      <td>-2.0</td>\n",
       "      <td>NaN</td>\n",
       "    </tr>\n",
       "    <tr>\n",
       "      <th>13997</th>\n",
       "      <td>-2.0</td>\n",
       "      <td>-2.0</td>\n",
       "      <td>NaN</td>\n",
       "    </tr>\n",
       "  </tbody>\n",
       "</table>\n",
       "</div>"
      ],
      "text/plain": [
       "        SOCSEC1  SOCSEC2  SOCSEC3\n",
       "PUF_ID                           \n",
       "12163      -2.0     -2.0      NaN\n",
       "8956       -2.0     -2.0      NaN\n",
       "11503      -2.0     -2.0      NaN\n",
       "9207       -2.0     -2.0      NaN\n",
       "8009       -2.0     -2.0      NaN\n",
       "7323       -2.0     -2.0      NaN\n",
       "8135       -2.0     -2.0      NaN\n",
       "7407       -2.0     -2.0      NaN\n",
       "13641      -2.0     -2.0      NaN\n",
       "7408       -2.0     -2.0      NaN\n",
       "7410       -2.0     -2.0      NaN\n",
       "10388      -2.0     -2.0      NaN\n",
       "7328       -2.0     -2.0      NaN\n",
       "13846      -2.0     -2.0      NaN\n",
       "9504       -2.0     -2.0      NaN\n",
       "13285      -2.0     -2.0      NaN\n",
       "12437      -2.0     -2.0      NaN\n",
       "10409      -2.0     -2.0      NaN\n",
       "7284       -2.0     -2.0      NaN\n",
       "9265       -2.0     -2.0      NaN\n",
       "13163      -2.0     -2.0      NaN\n",
       "12535      -2.0     -2.0      NaN\n",
       "8582       -2.0     -2.0      NaN\n",
       "8050       -2.0     -2.0      NaN\n",
       "7243       -2.0     -2.0      NaN\n",
       "10636      -2.0     -2.0      NaN\n",
       "11974      -2.0     -2.0      NaN\n",
       "9316       -2.0     -2.0      NaN\n",
       "13486      -2.0     -2.0      NaN\n",
       "11680      -2.0     -2.0      NaN\n",
       "13783      -2.0     -2.0      NaN\n",
       "8225       -2.0     -2.0      NaN\n",
       "13295      -2.0     -2.0      NaN\n",
       "9085       -2.0     -2.0      NaN\n",
       "12883      -2.0     -2.0      NaN\n",
       "14130      -2.0     -2.0      NaN\n",
       "8238       -2.0     -2.0      NaN\n",
       "8645       -2.0     -2.0      NaN\n",
       "13858      -2.0     -2.0      NaN\n",
       "9115       -2.0     -2.0      NaN\n",
       "7257       -2.0     -2.0      NaN\n",
       "11312      -2.0     -2.0      NaN\n",
       "8663       -2.0     -2.0      NaN\n",
       "12070      -2.0     -2.0      NaN\n",
       "9628       -2.0     -2.0      NaN\n",
       "12286      -2.0     -2.0      NaN\n",
       "7358       -2.0     -2.0      NaN\n",
       "10515      -2.0     -2.0      NaN\n",
       "10095      -2.0     -2.0      NaN\n",
       "10518      -2.0     -2.0      NaN\n",
       "12078      -2.0     -2.0      NaN\n",
       "8692       -2.0     -2.0      NaN\n",
       "7977       -2.0     -2.0      NaN\n",
       "13397      -2.0     -2.0      NaN\n",
       "7196       -2.0     -2.0      NaN\n",
       "13282      -2.0     -2.0      NaN\n",
       "14060      -2.0     -2.0      NaN\n",
       "12231      -2.0     -2.0      NaN\n",
       "13997      -2.0     -2.0      NaN"
      ]
     },
     "execution_count": 281,
     "metadata": {},
     "output_type": "execute_result"
    }
   ],
   "source": [
    "data.loc[data['SOCSEC3'].isna(), ['SOCSEC1', 'SOCSEC2', 'SOCSEC3']] # take only into consideration"
   ]
  },
  {
   "cell_type": "code",
   "execution_count": 282,
   "metadata": {},
   "outputs": [
    {
     "data": {
      "text/plain": [
       "65.0    1261\n",
       "70.0     714\n",
       "67.0     442\n",
       "61.0     388\n",
       "71.0     355\n",
       "62.0     354\n",
       "68.0     158\n",
       "66.0     117\n",
       "63.0      48\n",
       "69.0      41\n",
       "64.0      24\n",
       "Name: SOCSEC3, dtype: int64"
      ]
     },
     "execution_count": 282,
     "metadata": {},
     "output_type": "execute_result"
    }
   ],
   "source": [
    "data.loc[data['SOCSEC3'] != -2, 'SOCSEC3'].value_counts()"
   ]
  },
  {
   "cell_type": "code",
   "execution_count": 283,
   "metadata": {},
   "outputs": [
    {
     "data": {
      "text/plain": [
       "PUF_ID\n",
       "13604    8\n",
       "14063    8\n",
       "Name: EMPLOY, dtype: int64"
      ]
     },
     "execution_count": 283,
     "metadata": {},
     "output_type": "execute_result"
    }
   ],
   "source": [
    "data.loc[data['RETIRE'].isna(), 'EMPLOY']"
   ]
  },
  {
   "cell_type": "code",
   "execution_count": 284,
   "metadata": {},
   "outputs": [
    {
     "data": {
      "text/plain": [
       "1    1759\n",
       "Name: EMPLOY1_8, dtype: int64"
      ]
     },
     "execution_count": 284,
     "metadata": {},
     "output_type": "execute_result"
    }
   ],
   "source": [
    "data.loc[(data['RETIRE'] >= 1) , 'EMPLOY1_8'].value_counts()"
   ]
  },
  {
   "cell_type": "code",
   "execution_count": 285,
   "metadata": {},
   "outputs": [
    {
     "data": {
      "text/html": [
       "<div>\n",
       "<style scoped>\n",
       "    .dataframe tbody tr th:only-of-type {\n",
       "        vertical-align: middle;\n",
       "    }\n",
       "\n",
       "    .dataframe tbody tr th {\n",
       "        vertical-align: top;\n",
       "    }\n",
       "\n",
       "    .dataframe thead th {\n",
       "        text-align: right;\n",
       "    }\n",
       "</style>\n",
       "<table border=\"1\" class=\"dataframe\">\n",
       "  <thead>\n",
       "    <tr style=\"text-align: right;\">\n",
       "      <th></th>\n",
       "      <th>HOUSING</th>\n",
       "      <th>VALUERANGES</th>\n",
       "      <th>MORTGAGE</th>\n",
       "    </tr>\n",
       "    <tr>\n",
       "      <th>PUF_ID</th>\n",
       "      <th></th>\n",
       "      <th></th>\n",
       "      <th></th>\n",
       "    </tr>\n",
       "  </thead>\n",
       "  <tbody>\n",
       "    <tr>\n",
       "      <th>13223</th>\n",
       "      <td>NaN</td>\n",
       "      <td>-2.0</td>\n",
       "      <td>-2.0</td>\n",
       "    </tr>\n",
       "    <tr>\n",
       "      <th>12313</th>\n",
       "      <td>NaN</td>\n",
       "      <td>-2.0</td>\n",
       "      <td>-2.0</td>\n",
       "    </tr>\n",
       "    <tr>\n",
       "      <th>9224</th>\n",
       "      <td>NaN</td>\n",
       "      <td>-2.0</td>\n",
       "      <td>-2.0</td>\n",
       "    </tr>\n",
       "    <tr>\n",
       "      <th>12108</th>\n",
       "      <td>NaN</td>\n",
       "      <td>-2.0</td>\n",
       "      <td>-2.0</td>\n",
       "    </tr>\n",
       "    <tr>\n",
       "      <th>12606</th>\n",
       "      <td>NaN</td>\n",
       "      <td>-2.0</td>\n",
       "      <td>-2.0</td>\n",
       "    </tr>\n",
       "    <tr>\n",
       "      <th>11559</th>\n",
       "      <td>NaN</td>\n",
       "      <td>-2.0</td>\n",
       "      <td>-2.0</td>\n",
       "    </tr>\n",
       "    <tr>\n",
       "      <th>13717</th>\n",
       "      <td>NaN</td>\n",
       "      <td>-2.0</td>\n",
       "      <td>-2.0</td>\n",
       "    </tr>\n",
       "    <tr>\n",
       "      <th>10458</th>\n",
       "      <td>NaN</td>\n",
       "      <td>-2.0</td>\n",
       "      <td>-2.0</td>\n",
       "    </tr>\n",
       "    <tr>\n",
       "      <th>10660</th>\n",
       "      <td>NaN</td>\n",
       "      <td>-2.0</td>\n",
       "      <td>-2.0</td>\n",
       "    </tr>\n",
       "    <tr>\n",
       "      <th>11444</th>\n",
       "      <td>NaN</td>\n",
       "      <td>-2.0</td>\n",
       "      <td>-2.0</td>\n",
       "    </tr>\n",
       "    <tr>\n",
       "      <th>13965</th>\n",
       "      <td>NaN</td>\n",
       "      <td>-2.0</td>\n",
       "      <td>-2.0</td>\n",
       "    </tr>\n",
       "    <tr>\n",
       "      <th>11304</th>\n",
       "      <td>NaN</td>\n",
       "      <td>-2.0</td>\n",
       "      <td>-2.0</td>\n",
       "    </tr>\n",
       "    <tr>\n",
       "      <th>11321</th>\n",
       "      <td>NaN</td>\n",
       "      <td>-2.0</td>\n",
       "      <td>-2.0</td>\n",
       "    </tr>\n",
       "  </tbody>\n",
       "</table>\n",
       "</div>"
      ],
      "text/plain": [
       "        HOUSING  VALUERANGES  MORTGAGE\n",
       "PUF_ID                                \n",
       "13223       NaN         -2.0      -2.0\n",
       "12313       NaN         -2.0      -2.0\n",
       "9224        NaN         -2.0      -2.0\n",
       "12108       NaN         -2.0      -2.0\n",
       "12606       NaN         -2.0      -2.0\n",
       "11559       NaN         -2.0      -2.0\n",
       "13717       NaN         -2.0      -2.0\n",
       "10458       NaN         -2.0      -2.0\n",
       "10660       NaN         -2.0      -2.0\n",
       "11444       NaN         -2.0      -2.0\n",
       "13965       NaN         -2.0      -2.0\n",
       "11304       NaN         -2.0      -2.0\n",
       "11321       NaN         -2.0      -2.0"
      ]
     },
     "execution_count": 285,
     "metadata": {},
     "output_type": "execute_result"
    }
   ],
   "source": [
    "data.loc[data['HOUSING'].isna(), ['HOUSING', 'VALUERANGES', 'MORTGAGE']] # 12 observations with no infor about housing\n",
    "\n",
    "# better to drop because VALUERANGES and MORTGAGE depend on this one"
   ]
  },
  {
   "cell_type": "code",
   "execution_count": 286,
   "metadata": {},
   "outputs": [],
   "source": [
    "data.drop(data[data['HOUSING'].isna()].index, axis = 0, inplace = True)"
   ]
  },
  {
   "cell_type": "code",
   "execution_count": 287,
   "metadata": {},
   "outputs": [],
   "source": [
    "skewed_ordinal = ['SWB_1', 'SWB_2', 'SUBKNOWL1', 'ACT1_2', 'ASK1_1', 'SUBNUMERACY1', 'CONSPROTECT1', 'ABSORBSHOCK', 'PAREDUC', 'MATERIALISM_3', 'HEALTH', 'SELFCONTROL_1', 'SELFCONTROL_2', 'SELFCONTROL_3', 'OUTLOOK_1', 'OUTLOOK_2', 'PEM']\n",
    "\n",
    "for feat in skewed_ordinal:\n",
    "    data.loc[data[feat].isna(), feat] = data[feat].median()\n",
    "\n",
    "staircase_ordinal = ['SWB_3', 'ACT1_1', 'SAVEHABIT', 'FRUGALITY', 'ENDSMEET', 'CONSPROTECT2', 'MATHARDSHIP_6', 'HOUSESAT']\n",
    "\n",
    "for feat in staircase_ordinal:\n",
    "    data.loc[data[feat].isna(), feat] = data[feat].mode()[0]\n",
    "\n",
    "# excluding RETIRE, SOCSEC2 and SOCSEC3 because it has -2 values\n",
    "gaussian_ordinal = ['ASK1_2', 'SUBNUMERACY2', 'CHANGEABLE', 'GOALCONF', 'EARNERS', 'MATERIALISM_1', 'MATERIALISM_2', 'SCFHORIZON', 'DISTRESS', 'HHEDUC', 'EMPLOY']\n",
    "\n",
    "for feat in gaussian_ordinal:\n",
    "    data.loc[data[feat].isna(), feat] = data[feat].mode()[0]\n",
    "\n",
    "valid_data = data[data['RETIRE'] >= 1].copy()\n",
    "data.loc[data['RETIRE'].isna(), 'RETIRE'] = valid_data['RETIRE'].mode()[0]\n",
    "\n",
    "valid_data = data[data['SOCSEC2'] != -2].copy()\n",
    "data.loc[data['SOCSEC2'].isna(), 'SOCSEC2'] = valid_data['SOCSEC2'].mode()[0]\n",
    "\n",
    "valid_data = data[data['SOCSEC3'] != -2].copy()\n",
    "data.loc[data['SOCSEC3'].isna(), 'SOCSEC3'] = valid_data['SOCSEC3'].mode()[0]\n",
    "\n",
    "# excluding PAIDHELP, SOCSEC2 and SOCSEC3 because they have -2 values\n",
    "categorical = ['FINGOALS', 'AUTOMATED_1', 'AUTOMATED_2', 'LIVINGARRANGEMENT','AUTOMATED_2', 'CONSPROTECT3', 'VOLATILITY', 'SNAP', 'COLLECT', 'REJECTED_1', 'REJECTED_2', 'BENEFITS_3', 'BENEFITS_4', 'BENEFITS_5', 'FRAUD2', 'COVERCOSTS', 'MANAGE2', 'FINSOC2_3', 'FINSOC2_5', 'FINSOC2_6', 'DISCOUNT', 'MEMLOSS', 'KIDS_1', 'KIDS_2', 'KIDS_3', 'KIDS_4', 'EMPLOY', 'MILITARY', 'Military_Status']\n",
    "\n",
    "for feat in categorical:\n",
    "    data.loc[data[feat].isna(), feat] = data[feat].mode()[0]\n",
    "\n",
    "valid_data = data[data['PAIDHELP'] != -2].copy()\n",
    "data.loc[data['PAIDHELP'].isna(), 'PAIDHELP'] = valid_data['PAIDHELP'].mode()[0]\n"
   ]
  },
  {
   "cell_type": "code",
   "execution_count": 288,
   "metadata": {},
   "outputs": [
    {
     "data": {
      "text/plain": [
       "0"
      ]
     },
     "execution_count": 288,
     "metadata": {},
     "output_type": "execute_result"
    }
   ],
   "source": [
    "data[skewed_ordinal + gaussian_ordinal + staircase_ordinal + categorical].isna().sum().sum()"
   ]
  },
  {
   "attachments": {},
   "cell_type": "markdown",
   "metadata": {},
   "source": [
    "__Other imputation approaches__\n",
    "\n",
    "['HOUSERANGES', 'VALUERANGES', 'MORTGAGE', 'SAVINGSRANGES', 'BORROW_1',\n",
    "       'BORROW_2', 'HSLOC', 'CONNECT', 'LIFEEXPECT', 'KIDS_NoChildren']"
   ]
  },
  {
   "attachments": {},
   "cell_type": "markdown",
   "metadata": {},
   "source": [
    "__HOUSERANGES__\n",
    "\n",
    "'About how much do you pay for your home each month?'\n",
    "\n",
    "Impute with KNNImputer:\n",
    "\n",
    "FWBscore: numerical\n",
    "<br>\n",
    "COLLECT: binary\n",
    "<br>\n",
    "ABSORBSHOCK: ordinal\n",
    "<br>\n",
    "HOUSING: categorical\n",
    "<br>\n",
    "GOALCONF: ordinal\n",
    "<br>\n",
    "MANAGE1_3: ordinal\n",
    "<br>\n",
    "ENDSMEET: ordinal\n",
    "<br>\n",
    "SAVEHABIT: ordinal\n",
    "<br>\n",
    "HOUSESAT: ordinal\n",
    "<br>\n",
    "PPINCIMP: ordinal\n",
    "\n",
    "TODO: try age, sex, race, nr of household members"
   ]
  },
  {
   "cell_type": "code",
   "execution_count": 289,
   "metadata": {},
   "outputs": [
    {
     "data": {
      "text/plain": [
       "742"
      ]
     },
     "execution_count": 289,
     "metadata": {},
     "output_type": "execute_result"
    }
   ],
   "source": [
    "data[data['HOUSERANGES'].isna()].shape[0]"
   ]
  },
  {
   "cell_type": "code",
   "execution_count": 290,
   "metadata": {},
   "outputs": [],
   "source": [
    "def distance(X, Y, missing_values = np.nan):\n",
    "    X[np.isnan(X)] = 0\n",
    "    Y[np.isnan(Y)] = 0\n",
    "\n",
    "    eucl_dist = euclidean(X[[1, 2, 3, 4, 5, 6, 7, 8, 9]], Y[[1, 2, 3, 4, 5, 6, 7, 8, 9]])\n",
    "\n",
    "    return eucl_dist + (X[0] != Y[0])"
   ]
  },
  {
   "cell_type": "code",
   "execution_count": 291,
   "metadata": {},
   "outputs": [],
   "source": [
    "imputer = KNNImputerMode(n_neighbors = 5, metric = distance)\n",
    "\n",
    "cols = ['FWBscore', 'COLLECT', 'ABSORBSHOCK', 'HOUSING', 'GOALCONF', 'MANAGE1_3', 'ENDSMEET', 'SAVEHABIT', 'HOUSESAT', 'PPINCIMP', 'HOUSERANGES']\n",
    "\n",
    "new_data = imputer.fit_transform(data[cols])\n",
    "\n",
    "new_data = pd.DataFrame(new_data, columns = cols, index = data.index)"
   ]
  },
  {
   "cell_type": "code",
   "execution_count": 292,
   "metadata": {},
   "outputs": [],
   "source": [
    "data.loc[data['HOUSERANGES'].isna(), 'HOUSERANGES'] = new_data.loc[data['HOUSERANGES'].isna(), 'HOUSERANGES'].copy()"
   ]
  },
  {
   "cell_type": "code",
   "execution_count": 293,
   "metadata": {},
   "outputs": [
    {
     "data": {
      "text/plain": [
       "<AxesSubplot:xlabel='HOUSERANGES', ylabel='count'>"
      ]
     },
     "execution_count": 293,
     "metadata": {},
     "output_type": "execute_result"
    },
    {
     "data": {
      "image/png": "[encoded data removed]",
      "text/plain": [
       "<Figure size 640x480 with 1 Axes>"
      ]
     },
     "metadata": {},
     "output_type": "display_data"
    }
   ],
   "source": [
    "sns.countplot(x = 'HOUSERANGES', data = data)\n",
    "\n",
    "# the distribution remains similar to the original one before imputation"
   ]
  },
  {
   "cell_type": "code",
   "execution_count": 294,
   "metadata": {},
   "outputs": [
    {
     "data": {
      "text/plain": [
       "1.0    1361\n",
       "5.0    1144\n",
       "3.0     988\n",
       "4.0     894\n",
       "7.0     579\n",
       "6.0     554\n",
       "2.0     518\n",
       "Name: HOUSERANGES, dtype: int64"
      ]
     },
     "execution_count": 294,
     "metadata": {},
     "output_type": "execute_result"
    }
   ],
   "source": [
    "data['HOUSERANGES'].value_counts()"
   ]
  },
  {
   "attachments": {},
   "cell_type": "markdown",
   "metadata": {},
   "source": [
    "__VALUERANGES__\n",
    "\n",
    "'If you were to sell your home today, what do you think it would be worth?'\n",
    "\n",
    "Impute using KNN:\n",
    "\n",
    "HOUSERANGES: ordinal\n",
    "<br>\n",
    "HOUSESAT: ordinal\n",
    "<br>\n",
    "PPINCIMP: ordinal\n",
    "\n",
    "distance: euclidean"
   ]
  },
  {
   "cell_type": "code",
   "execution_count": 295,
   "metadata": {},
   "outputs": [
    {
     "data": {
      "text/plain": [
       "175"
      ]
     },
     "execution_count": 295,
     "metadata": {},
     "output_type": "execute_result"
    }
   ],
   "source": [
    "data[data['VALUERANGES'].isna()].shape[0]"
   ]
  },
  {
   "cell_type": "code",
   "execution_count": 296,
   "metadata": {},
   "outputs": [
    {
     "data": {
      "text/plain": [
       "2.0    1017\n",
       "1.0    1002\n",
       "3.0     963\n",
       "4.0     792\n",
       "Name: VALUERANGES, dtype: int64"
      ]
     },
     "execution_count": 296,
     "metadata": {},
     "output_type": "execute_result"
    }
   ],
   "source": [
    "data.loc[data['HOUSING'] == 1, 'VALUERANGES'].value_counts()"
   ]
  },
  {
   "cell_type": "code",
   "execution_count": 297,
   "metadata": {},
   "outputs": [],
   "source": [
    "valid_data = data[data['VALUERANGES'] != -2]"
   ]
  },
  {
   "cell_type": "code",
   "execution_count": 298,
   "metadata": {},
   "outputs": [],
   "source": [
    "imputer = KNNImputerMode(n_neighbors = 5)\n",
    "\n",
    "cols = ['HOUSERANGES', 'HOUSESAT', 'PPINCIMP', 'MORTGAGE', 'VALUERANGES']\n",
    "\n",
    "new_data = imputer.fit_transform(valid_data[cols])\n",
    "\n",
    "new_data = pd.DataFrame(new_data, columns = cols, index = valid_data.index)"
   ]
  },
  {
   "cell_type": "code",
   "execution_count": 299,
   "metadata": {},
   "outputs": [],
   "source": [
    "data.loc[data['VALUERANGES'].isna(), 'VALUERANGES'] = new_data.loc[data['VALUERANGES'].isna(), 'VALUERANGES'].copy()"
   ]
  },
  {
   "cell_type": "code",
   "execution_count": 300,
   "metadata": {},
   "outputs": [
    {
     "data": {
      "text/plain": [
       "0"
      ]
     },
     "execution_count": 300,
     "metadata": {},
     "output_type": "execute_result"
    }
   ],
   "source": [
    "data['VALUERANGES'].isna().sum()"
   ]
  },
  {
   "cell_type": "code",
   "execution_count": 301,
   "metadata": {},
   "outputs": [
    {
     "data": {
      "text/plain": [
       "<AxesSubplot:xlabel='VALUERANGES', ylabel='count'>"
      ]
     },
     "execution_count": 301,
     "metadata": {},
     "output_type": "execute_result"
    },
    {
     "data": {
      "image/png": "[encoded data removed]",
      "text/plain": [
       "<Figure size 640x480 with 1 Axes>"
      ]
     },
     "metadata": {},
     "output_type": "display_data"
    }
   ],
   "source": [
    "sns.countplot(x = 'VALUERANGES', data = data[data['VALUERANGES'] != -2])"
   ]
  },
  {
   "attachments": {},
   "cell_type": "markdown",
   "metadata": {},
   "source": [
    "Again, the distribution remains really similar to the original one"
   ]
  },
  {
   "attachments": {},
   "cell_type": "markdown",
   "metadata": {},
   "source": [
    "__MORTGAGE__\n",
    "\n",
    "'What do you owe on your home today?'"
   ]
  },
  {
   "cell_type": "code",
   "execution_count": 302,
   "metadata": {},
   "outputs": [
    {
     "data": {
      "text/plain": [
       "526"
      ]
     },
     "execution_count": 302,
     "metadata": {},
     "output_type": "execute_result"
    }
   ],
   "source": [
    "data[data['MORTGAGE'].isna()].shape[0]"
   ]
  },
  {
   "cell_type": "code",
   "execution_count": 303,
   "metadata": {},
   "outputs": [],
   "source": [
    "valid_data = data[data['MORTGAGE'] != -2]"
   ]
  },
  {
   "cell_type": "code",
   "execution_count": 304,
   "metadata": {},
   "outputs": [],
   "source": [
    "imputer = KNNImputerMode(n_neighbors = 5)\n",
    "\n",
    "cols = ['HOUSERANGES', 'PPHHSIZE', 'PPINCIMP', 'VALUERANGES', 'MORTGAGE']\n",
    "\n",
    "new_data = imputer.fit_transform(valid_data[cols])\n",
    "\n",
    "new_data = pd.DataFrame(new_data, columns = cols, index = valid_data.index)"
   ]
  },
  {
   "cell_type": "code",
   "execution_count": 305,
   "metadata": {},
   "outputs": [],
   "source": [
    "data.loc[data['MORTGAGE'].isna(), 'MORTGAGE'] = new_data.loc[data['MORTGAGE'].isna(), 'MORTGAGE'].copy()"
   ]
  },
  {
   "cell_type": "code",
   "execution_count": 306,
   "metadata": {},
   "outputs": [
    {
     "data": {
      "text/plain": [
       "<AxesSubplot:xlabel='MORTGAGE', ylabel='count'>"
      ]
     },
     "execution_count": 306,
     "metadata": {},
     "output_type": "execute_result"
    },
    {
     "data": {
      "image/png": "[encoded data removed]",
      "text/plain": [
       "<Figure size 640x480 with 1 Axes>"
      ]
     },
     "metadata": {},
     "output_type": "display_data"
    }
   ],
   "source": [
    "sns.countplot(x = 'MORTGAGE', data = data[data['MORTGAGE'] != -2])"
   ]
  },
  {
   "attachments": {},
   "cell_type": "markdown",
   "metadata": {},
   "source": [
    "__SAVINGSRANGES__\n",
    "\n",
    "'How much money do you have in savings today?'\n",
    "\n",
    "KNN imputation using:\n",
    "\n",
    "SAVEHABIT: ordinal\n",
    "<br>\n",
    "PRODHAVE_1: binary\n",
    "<br>\n",
    "MATHARDSHIP_1: ordinal\n",
    "<br>\n",
    "COLLECT: ordinal\n",
    "<br>\n",
    "PPINCIMP: ordinal\n",
    "\n",
    "distance: euclidean + hamming"
   ]
  },
  {
   "cell_type": "code",
   "execution_count": 307,
   "metadata": {},
   "outputs": [
    {
     "data": {
      "text/plain": [
       "947"
      ]
     },
     "execution_count": 307,
     "metadata": {},
     "output_type": "execute_result"
    }
   ],
   "source": [
    "data[data['SAVINGSRANGES'].isna()].shape[0]"
   ]
  },
  {
   "cell_type": "code",
   "execution_count": 308,
   "metadata": {},
   "outputs": [],
   "source": [
    "def distance(X, Y, missing_values = np.nan):\n",
    "    X[np.isnan(X)] = 0\n",
    "    Y[np.isnan(Y)] = 0\n",
    "\n",
    "    eucl_dist = euclidean(X[[0, 2, 3, 4]], Y[[0, 2, 3, 4]])\n",
    "\n",
    "    return eucl_dist + (X[1] != Y[1])"
   ]
  },
  {
   "cell_type": "code",
   "execution_count": 309,
   "metadata": {},
   "outputs": [],
   "source": [
    "imputer = KNNImputerMode(n_neighbors = 5, metric = distance)\n",
    "\n",
    "cols = ['SAVEHABIT', 'PRODHAVE_1', 'MATHARDSHIP_1', 'COLLECT', 'PPINCIMP', 'SAVINGSRANGES']\n",
    "\n",
    "new_data = imputer.fit_transform(data[cols])\n",
    "\n",
    "new_data = pd.DataFrame(new_data, columns = cols, index = data.index)"
   ]
  },
  {
   "cell_type": "code",
   "execution_count": 310,
   "metadata": {},
   "outputs": [],
   "source": [
    "data.loc[data['SAVINGSRANGES'].isna(), 'SAVINGSRANGES'] = new_data.loc[data['SAVINGSRANGES'].isna(), 'SAVINGSRANGES'].copy()"
   ]
  },
  {
   "attachments": {},
   "cell_type": "markdown",
   "metadata": {},
   "source": [
    "__BORROW_1__\n",
    "\n",
    "'My friends or family would lend me the money and expect me to repay them'"
   ]
  },
  {
   "cell_type": "code",
   "execution_count": 311,
   "metadata": {},
   "outputs": [
    {
     "data": {
      "text/plain": [
       "111"
      ]
     },
     "execution_count": 311,
     "metadata": {},
     "output_type": "execute_result"
    }
   ],
   "source": [
    "data[data['BORROW_1'].isna()].shape[0]"
   ]
  },
  {
   "cell_type": "code",
   "execution_count": 312,
   "metadata": {},
   "outputs": [],
   "source": [
    "data.loc[data['BORROW_1'].isna(), 'BORROW_1'] = data['BORROW_1'].mode()[0]"
   ]
  },
  {
   "attachments": {},
   "cell_type": "markdown",
   "metadata": {},
   "source": [
    "__BORROW_2__\n",
    "\n",
    "'My friends or family would give me the money with no expectation of'"
   ]
  },
  {
   "cell_type": "code",
   "execution_count": 313,
   "metadata": {},
   "outputs": [
    {
     "data": {
      "text/plain": [
       "207"
      ]
     },
     "execution_count": 313,
     "metadata": {},
     "output_type": "execute_result"
    }
   ],
   "source": [
    "data[data['BORROW_2'].isna()].shape[0]"
   ]
  },
  {
   "cell_type": "code",
   "execution_count": 314,
   "metadata": {},
   "outputs": [],
   "source": [
    "data.loc[data['BORROW_2'].isna(), 'BORROW_2'] = data['BORROW_2'].mode()[0]"
   ]
  },
  {
   "attachments": {},
   "cell_type": "markdown",
   "metadata": {},
   "source": [
    "__HSLOC__\n",
    "\n",
    "'Where did you live at age 17?'"
   ]
  },
  {
   "cell_type": "code",
   "execution_count": 315,
   "metadata": {},
   "outputs": [
    {
     "data": {
      "text/plain": [
       "519"
      ]
     },
     "execution_count": 315,
     "metadata": {},
     "output_type": "execute_result"
    }
   ],
   "source": [
    "data[data['HSLOC'].isna()].shape[0]"
   ]
  },
  {
   "cell_type": "code",
   "execution_count": 316,
   "metadata": {},
   "outputs": [],
   "source": [
    "data.loc[data['HSLOC'].isna(), 'HSLOC'] = data['HSLOC'].mode()[0]"
   ]
  },
  {
   "attachments": {},
   "cell_type": "markdown",
   "metadata": {},
   "source": [
    "__CONNECT__\n",
    "\n",
    "Psychological connectedness\n",
    "\n",
    "KNN imputation using:\n",
    "\n",
    "PPINCIMP: ordinal\n",
    "<br>\n",
    "DISSTRESS: ordinal\n",
    "<br>\n",
    "agecat: ordinal\n",
    "<br>\n",
    "CHANGEABLE: ordinal\n",
    "\n",
    "distance: euclidean"
   ]
  },
  {
   "cell_type": "code",
   "execution_count": 317,
   "metadata": {},
   "outputs": [
    {
     "data": {
      "text/plain": [
       "142"
      ]
     },
     "execution_count": 317,
     "metadata": {},
     "output_type": "execute_result"
    }
   ],
   "source": [
    "data[data['CONNECT'].isna()].shape[0]"
   ]
  },
  {
   "cell_type": "code",
   "execution_count": 318,
   "metadata": {},
   "outputs": [
    {
     "data": {
      "text/plain": [
       "<seaborn.axisgrid.FacetGrid at 0x7f35f04637c0>"
      ]
     },
     "execution_count": 318,
     "metadata": {},
     "output_type": "execute_result"
    },
    {
     "data": {
      "image/png": "[encoded data removed]",
      "text/plain": [
       "<Figure size 500x500 with 1 Axes>"
      ]
     },
     "metadata": {},
     "output_type": "display_data"
    }
   ],
   "source": [
    "sns.displot(x = 'CONNECT', data = data)"
   ]
  },
  {
   "cell_type": "code",
   "execution_count": 319,
   "metadata": {},
   "outputs": [
    {
     "name": "stderr",
     "output_type": "stream",
     "text": [
      "/home/inesmcm/miniconda3/envs/functionalenv/lib/python3.9/site-packages/numpy/core/fromnumeric.py:758: UserWarning: Warning: 'partition' will ignore the 'mask' of the MaskedArray.\n",
      "  a.partition(kth, axis=axis, kind=kind, order=order)\n"
     ]
    }
   ],
   "source": [
    "imputer = KNNImputerMedian(n_neighbors = 5)\n",
    "\n",
    "cols = ['PPINCIMP', 'DISTRESS', 'agecat', 'CHANGEABLE', 'CONNECT']\n",
    "\n",
    "new_data = imputer.fit_transform(data[cols])\n",
    "\n",
    "new_data = pd.DataFrame(new_data, columns = cols, index = data.index)"
   ]
  },
  {
   "cell_type": "code",
   "execution_count": 320,
   "metadata": {},
   "outputs": [],
   "source": [
    "data.loc[data['CONNECT'].isna(), 'CONNECT'] = new_data.loc[data['CONNECT'].isna(), 'CONNECT'].copy()"
   ]
  },
  {
   "cell_type": "code",
   "execution_count": 321,
   "metadata": {},
   "outputs": [
    {
     "data": {
      "text/plain": [
       "<seaborn.axisgrid.FacetGrid at 0x7f35f0351fa0>"
      ]
     },
     "execution_count": 321,
     "metadata": {},
     "output_type": "execute_result"
    },
    {
     "data": {
      "image/png": "[encoded data removed]",
      "text/plain": [
       "<Figure size 500x500 with 1 Axes>"
      ]
     },
     "metadata": {},
     "output_type": "display_data"
    }
   ],
   "source": [
    "sns.displot(x = 'CONNECT', data = data)"
   ]
  },
  {
   "attachments": {},
   "cell_type": "markdown",
   "metadata": {},
   "source": [
    "__LIFEEXPECT__\n",
    "\n",
    "\n",
    "'How likely do you believe it is that you will live beyond age 75?'\n",
    "\n",
    "KNN Imputation usign variables:\n",
    "\n",
    "HEALTH: ordinal\n",
    "<br>\n",
    "SWB_2: ordinal\n",
    "<br>\n",
    "DISTRESS: ordinal\n",
    "\n",
    "distance: euclidean\n"
   ]
  },
  {
   "cell_type": "code",
   "execution_count": 322,
   "metadata": {},
   "outputs": [
    {
     "data": {
      "text/plain": [
       "42"
      ]
     },
     "execution_count": 322,
     "metadata": {},
     "output_type": "execute_result"
    }
   ],
   "source": [
    "data[data['LIFEEXPECT'].isna()].shape[0]"
   ]
  },
  {
   "cell_type": "code",
   "execution_count": 323,
   "metadata": {},
   "outputs": [
    {
     "data": {
      "text/plain": [
       "2    1052\n",
       "4    1025\n",
       "6     945\n",
       "3     788\n",
       "5     672\n",
       "7     459\n",
       "1     381\n",
       "8      99\n",
       "Name: agecat, dtype: int64"
      ]
     },
     "execution_count": 323,
     "metadata": {},
     "output_type": "execute_result"
    }
   ],
   "source": [
    "data.loc[data['LIFEEXPECT'] >= 0, 'agecat'].value_counts() # 92 people with agecat == 8-> people who are exactly 75 years old"
   ]
  },
  {
   "cell_type": "code",
   "execution_count": 324,
   "metadata": {},
   "outputs": [
    {
     "data": {
      "text/plain": [
       "2    15\n",
       "3     9\n",
       "6     5\n",
       "4     5\n",
       "1     5\n",
       "5     3\n",
       "Name: agecat, dtype: int64"
      ]
     },
     "execution_count": 324,
     "metadata": {},
     "output_type": "execute_result"
    }
   ],
   "source": [
    "data.loc[data['LIFEEXPECT'].isna(), 'agecat'].value_counts()\n",
    "# when agecat == 8, age > 75, so let's set probability to the mean of people with agecat == 8"
   ]
  },
  {
   "cell_type": "code",
   "execution_count": 325,
   "metadata": {},
   "outputs": [
    {
     "data": {
      "text/plain": [
       "98"
      ]
     },
     "execution_count": 325,
     "metadata": {},
     "output_type": "execute_result"
    }
   ],
   "source": [
    "round(data.loc[(data['agecat'] == 8) & (data['LIFEEXPECT'] != -2), 'LIFEEXPECT'].mean())"
   ]
  },
  {
   "cell_type": "code",
   "execution_count": 326,
   "metadata": {},
   "outputs": [],
   "source": [
    "data.loc[(data['LIFEEXPECT'].isna()) & (data['agecat'] == 8), 'LIFEEXPECT'] = round(data.loc[(data['agecat'] == 8) & (data['LIFEEXPECT'] != -2), 'LIFEEXPECT'].mean())"
   ]
  },
  {
   "cell_type": "code",
   "execution_count": 327,
   "metadata": {},
   "outputs": [
    {
     "data": {
      "text/plain": [
       "2    15\n",
       "3     9\n",
       "6     5\n",
       "4     5\n",
       "1     5\n",
       "5     3\n",
       "Name: agecat, dtype: int64"
      ]
     },
     "execution_count": 327,
     "metadata": {},
     "output_type": "execute_result"
    }
   ],
   "source": [
    "data.loc[data['LIFEEXPECT'].isna(), 'agecat'].value_counts()"
   ]
  },
  {
   "cell_type": "code",
   "execution_count": 328,
   "metadata": {},
   "outputs": [],
   "source": [
    "valid_data = data[data['LIFEEXPECT'] != -2]"
   ]
  },
  {
   "cell_type": "code",
   "execution_count": 329,
   "metadata": {},
   "outputs": [
    {
     "name": "stderr",
     "output_type": "stream",
     "text": [
      "/home/inesmcm/miniconda3/envs/functionalenv/lib/python3.9/site-packages/numpy/core/fromnumeric.py:758: UserWarning: Warning: 'partition' will ignore the 'mask' of the MaskedArray.\n",
      "  a.partition(kth, axis=axis, kind=kind, order=order)\n"
     ]
    }
   ],
   "source": [
    "imputer = KNNImputerMedian(n_neighbors = 5)\n",
    "\n",
    "cols = ['HEALTH', 'SWB_2', 'DISTRESS', 'LIFEEXPECT']\n",
    "\n",
    "new_data = imputer.fit_transform(valid_data[cols])\n",
    "\n",
    "new_data = pd.DataFrame(new_data, columns = cols, index = valid_data.index)"
   ]
  },
  {
   "cell_type": "code",
   "execution_count": 330,
   "metadata": {},
   "outputs": [],
   "source": [
    "data.loc[data['LIFEEXPECT'].isna(), 'LIFEEXPECT'] = new_data.loc[data['LIFEEXPECT'].isna(), 'LIFEEXPECT'].copy()"
   ]
  },
  {
   "cell_type": "code",
   "execution_count": 331,
   "metadata": {},
   "outputs": [
    {
     "data": {
      "text/plain": [
       "0"
      ]
     },
     "execution_count": 331,
     "metadata": {},
     "output_type": "execute_result"
    }
   ],
   "source": [
    "data[data['LIFEEXPECT'].isna()].shape[0]"
   ]
  },
  {
   "attachments": {},
   "cell_type": "markdown",
   "metadata": {},
   "source": [
    "__KIDS_NoChildren__\n",
    "\n",
    "'I have no children that I support financially'"
   ]
  },
  {
   "cell_type": "code",
   "execution_count": 332,
   "metadata": {},
   "outputs": [
    {
     "data": {
      "text/plain": [
       "474"
      ]
     },
     "execution_count": 332,
     "metadata": {},
     "output_type": "execute_result"
    }
   ],
   "source": [
    "data[data['KIDS_NoChildren'].isna()].shape[0]"
   ]
  },
  {
   "attachments": {},
   "cell_type": "markdown",
   "metadata": {},
   "source": [
    "All KIDS variables will be excluded due to probable missinterpretation and redudancy with accurate panel data"
   ]
  },
  {
   "cell_type": "code",
   "execution_count": 333,
   "metadata": {},
   "outputs": [],
   "source": [
    "data.drop(list(filter(lambda x: 'KIDS' in x, data.columns.values)), axis =1, inplace = True)"
   ]
  },
  {
   "cell_type": "code",
   "execution_count": 334,
   "metadata": {},
   "outputs": [
    {
     "data": {
      "text/plain": [
       "(6038, 166)"
      ]
     },
     "execution_count": 334,
     "metadata": {},
     "output_type": "execute_result"
    }
   ],
   "source": [
    "data.shape"
   ]
  },
  {
   "attachments": {},
   "cell_type": "markdown",
   "metadata": {},
   "source": [
    "## __8: I can't recall__\n",
    "\n",
    "HSLOC: Where respondent attended high school -> impute with mode\n",
    "- 1: US and territories\n",
    "- 2: Outside the US\n",
    "- 8: Can't recall\n",
    "\n",
    "COLLECT: Contacted by debt collector in past 12 months -> impute with KNN\n",
    "\n",
    "ABSORBSHOCK: Confidence in ability to raise $2,000 in 30 days -> impute with KNN\n",
    "\n",
    "SNAP: Any household member received SNAP benefits? -> create one more one hot\n",
    "\n",
    "FRAUD2: Victim of financial fraud or attempted financial fraud in past 5 years > create one more one hot\n"
   ]
  },
  {
   "cell_type": "code",
   "execution_count": 335,
   "metadata": {},
   "outputs": [],
   "source": [
    "data.loc[data['HSLOC'] == 8, 'HSLOC'] = data['HSLOC'].mode()[0]"
   ]
  },
  {
   "cell_type": "code",
   "execution_count": 336,
   "metadata": {},
   "outputs": [
    {
     "data": {
      "text/plain": [
       "1.0    5707\n",
       "2.0     331\n",
       "Name: HSLOC, dtype: int64"
      ]
     },
     "execution_count": 336,
     "metadata": {},
     "output_type": "execute_result"
    }
   ],
   "source": [
    "data['HSLOC'].value_counts()"
   ]
  },
  {
   "cell_type": "code",
   "execution_count": 337,
   "metadata": {},
   "outputs": [
    {
     "data": {
      "text/plain": [
       "200"
      ]
     },
     "execution_count": 337,
     "metadata": {},
     "output_type": "execute_result"
    }
   ],
   "source": [
    "data[data['COLLECT'] == 8].shape[0]"
   ]
  },
  {
   "cell_type": "code",
   "execution_count": 338,
   "metadata": {},
   "outputs": [],
   "source": [
    "# replace all entries with value 8 on column 'COLLECT' by np.nan\n",
    "data.loc[data['COLLECT'] == 8, 'COLLECT'] = np.nan"
   ]
  },
  {
   "cell_type": "code",
   "execution_count": 339,
   "metadata": {},
   "outputs": [],
   "source": [
    "imputer = KNNImputerMode(n_neighbors = 5)\n",
    "\n",
    "cols = ['FWBscore', 'SAVEHABIT', 'GOALCONF', 'SAVINGSRANGES', 'MATHARDSHIP_1', 'COLLECT'] # euclidean distnca\n",
    "\n",
    "new_data = imputer.fit_transform(data[cols])\n",
    "\n",
    "new_data = pd.DataFrame(new_data, columns = cols, index = data.index)"
   ]
  },
  {
   "cell_type": "code",
   "execution_count": 340,
   "metadata": {},
   "outputs": [],
   "source": [
    "data.loc[data['COLLECT'].isna(), 'COLLECT'] = new_data.loc[data['COLLECT'].isna(), 'COLLECT'].copy() "
   ]
  },
  {
   "cell_type": "code",
   "execution_count": 341,
   "metadata": {},
   "outputs": [],
   "source": [
    "# replace all entries with value 8 on column 'ABSORBSHOCK' by np.nan\n",
    "data.loc[data['ABSORBSHOCK'] == 8, 'ABSORBSHOCK'] = np.nan"
   ]
  },
  {
   "cell_type": "code",
   "execution_count": 342,
   "metadata": {},
   "outputs": [],
   "source": [
    "imputer = KNNImputerMode(n_neighbors = 5)\n",
    "\n",
    "cols = ['FWBscore', 'SAVEHABIT', 'MANAGE1_1', 'GOALCONF', 'SAVINGSRANGES', 'ABSORBSHOCK']\n",
    "\n",
    "new_data = imputer.fit_transform(data[cols])\n",
    "\n",
    "new_data = pd.DataFrame(new_data, columns = cols, index = data.index)"
   ]
  },
  {
   "cell_type": "code",
   "execution_count": 343,
   "metadata": {},
   "outputs": [],
   "source": [
    "data.loc[data['ABSORBSHOCK'].isna(), 'ABSORBSHOCK'] = new_data.loc[data['ABSORBSHOCK'].isna(), 'ABSORBSHOCK'].copy()"
   ]
  },
  {
   "attachments": {},
   "cell_type": "markdown",
   "metadata": {},
   "source": [
    "# Questions not asked\n",
    "\n",
    "Because respondent not in item base\n",
    "\n",
    "PAIDHELP: only for people who have help managing money matter in the household.\n",
    "\n",
    "If people don't have help, then they don't pay anyone to help them. So, PAIDHELP becomes 0 when MANAGE2 == 3\n",
    "<br>\n",
    "\n",
    "VALUERANGES: If you were to sell your home today, what do you think it would be worth?\n",
    "\n",
    "Only for people who own their own house.\n",
    "Same logic here! We could insert just 0 if a person does not own a home.\n",
    "<br>\n",
    "\n",
    "MORTGAGE: What do you owe on your home today?\n",
    "\n",
    "Same logic here! We can insert just 0 if a person does not own a home.\n",
    "<br>\n",
    "\n",
    "SOCSEC1: Have you started receiving Social Security retirement benefits?\n",
    "\n",
    "Only for people with PPAGE >= 62. If people are not equal of above 62 years old, then answer is 0.\n",
    "<br>\n",
    "\n",
    "SOCSEC2: At what age did you begin receiving benefits?\n",
    "\n",
    "Only for people with PPAGE >= 62.\n",
    "<br>\n",
    "\n",
    "SOCSEC3: Age expect to begin receiving Social Security retirement benefits\n",
    "\n",
    "Only for people with PPAGE < 62 or peope that not yest started receiving.\n",
    "<br>\n",
    "\n",
    "LIFEEXPECT: How likely do you believe it is that you will live beyond age 75?\n",
    "\n",
    "Only for people with PPAGE <= 75 probabilidade 1\n",
    "<br>\n",
    "\n",
    "RETIRE: Did you retire earlier than you planned, later than you planned, or about when you planned?"
   ]
  },
  {
   "cell_type": "code",
   "execution_count": 344,
   "metadata": {},
   "outputs": [],
   "source": [
    "data.loc[data['MANAGE2'] == 3, 'PAIDHELP'] = 0 # if does not have help, does not pay for it"
   ]
  },
  {
   "cell_type": "code",
   "execution_count": 345,
   "metadata": {},
   "outputs": [],
   "source": [
    "data.loc[data['HOUSING'] != 1, 'VALUERANGES'] = 0 # if doesn't own a house, then the value of the house is 0"
   ]
  },
  {
   "cell_type": "code",
   "execution_count": 346,
   "metadata": {},
   "outputs": [],
   "source": [
    "data.loc[data['HOUSING'] != 1, 'MORTGAGE'] = 0 # if does not own a house, mortgage is 0"
   ]
  },
  {
   "cell_type": "code",
   "execution_count": 347,
   "metadata": {},
   "outputs": [],
   "source": [
    "data.loc[data['SOCSEC1'] == -2, 'SOCSEC1'] = 0 # if age < 62, answer is no"
   ]
  },
  {
   "cell_type": "code",
   "execution_count": 348,
   "metadata": {},
   "outputs": [
    {
     "data": {
      "text/plain": [
       "-2.0    4306\n",
       "Name: SOCSEC2, dtype: int64"
      ]
     },
     "execution_count": 348,
     "metadata": {},
     "output_type": "execute_result"
    }
   ],
   "source": [
    "data.loc[data['SOCSEC1'] == 0, 'SOCSEC2'].value_counts()"
   ]
  },
  {
   "cell_type": "code",
   "execution_count": 349,
   "metadata": {},
   "outputs": [
    {
     "data": {
      "text/plain": [
       "4306"
      ]
     },
     "execution_count": 349,
     "metadata": {},
     "output_type": "execute_result"
    }
   ],
   "source": [
    "data[data['SOCSEC2'] == -2].shape[0] # what to do with this??\n",
    "\n",
    "# create another one hot for 'does not apply'?"
   ]
  },
  {
   "cell_type": "code",
   "execution_count": 350,
   "metadata": {},
   "outputs": [
    {
     "data": {
      "text/plain": [
       "1.0    1732\n",
       "0.0     351\n",
       "Name: SOCSEC1, dtype: int64"
      ]
     },
     "execution_count": 350,
     "metadata": {},
     "output_type": "execute_result"
    }
   ],
   "source": [
    "data.loc[data['SOCSEC3'] == -2, 'SOCSEC1'].value_counts()\n",
    "\n",
    "# also does not make sense. all should be 1\n",
    "\n",
    "# create another one hot for 'i don't know'?"
   ]
  },
  {
   "cell_type": "code",
   "execution_count": 351,
   "metadata": {},
   "outputs": [],
   "source": [
    "# its probably best to just drop SOCSEC2 AND SOCSEC3 and only keep SOCSEC1\n",
    "\n",
    "data.drop(['SOCSEC2', 'SOCSEC3'], axis = 1, inplace = True)"
   ]
  },
  {
   "cell_type": "code",
   "execution_count": 352,
   "metadata": {},
   "outputs": [],
   "source": [
    "data.loc[data['LIFEEXPECT'] == -2, 'LIFEEXPECT'] = 1 # 100% probability"
   ]
  },
  {
   "cell_type": "code",
   "execution_count": 353,
   "metadata": {},
   "outputs": [],
   "source": [
    "data.loc[data['RETIRE'] == -2, 'RETIRE'] = 4 # 4th option: not retired"
   ]
  },
  {
   "cell_type": "code",
   "execution_count": 354,
   "metadata": {},
   "outputs": [
    {
     "data": {
      "text/plain": [
       "0"
      ]
     },
     "execution_count": 354,
     "metadata": {},
     "output_type": "execute_result"
    }
   ],
   "source": [
    "# get all rows with -2 in any column\n",
    "data[data.isin([-2]).any(axis=1)].shape[0]"
   ]
  },
  {
   "attachments": {},
   "cell_type": "markdown",
   "metadata": {},
   "source": [
    "---------------------------------------------------------------------------------\n",
    "Here ends preprocessing\n",
    "\n",
    "- data is going to be used with all features\n",
    "- data_engineered is going to be also used\n",
    "- data_pca the same"
   ]
  },
  {
   "attachments": {},
   "cell_type": "markdown",
   "metadata": {},
   "source": [
    "# Feature engineering"
   ]
  },
  {
   "cell_type": "code",
   "execution_count": 355,
   "metadata": {},
   "outputs": [],
   "source": [
    "data_engineered = data.copy()"
   ]
  },
  {
   "attachments": {},
   "cell_type": "markdown",
   "metadata": {},
   "source": [
    "__Subjective Well Being__"
   ]
  },
  {
   "cell_type": "code",
   "execution_count": 356,
   "metadata": {},
   "outputs": [],
   "source": [
    "# new column SWB is the mean of the values int he columns SWB_1, SWB_2, SWB_3\n",
    "data_engineered['SWB'] = round((data['SWB_1'] + data['SWB_2'] + data['SWB_3']) / 3)"
   ]
  },
  {
   "cell_type": "code",
   "execution_count": 357,
   "metadata": {},
   "outputs": [],
   "source": [
    "data_engineered.drop(list(filter(lambda x: 'SWB_' in x, data_engineered.columns.values)), axis = 1, inplace = True)"
   ]
  },
  {
   "attachments": {},
   "cell_type": "markdown",
   "metadata": {},
   "source": [
    "__Acountability__"
   ]
  },
  {
   "cell_type": "code",
   "execution_count": 358,
   "metadata": {},
   "outputs": [],
   "source": [
    "# new column SWB is the mean of the values int he columns SWB_1, SWB_2, SWB_3\n",
    "data_engineered['ACT'] = round((data['ACT1_1'] + data['ACT1_2']) / 2)"
   ]
  },
  {
   "cell_type": "code",
   "execution_count": 359,
   "metadata": {},
   "outputs": [],
   "source": [
    "data_engineered.drop(list(filter(lambda x: 'ACT1' in x, data_engineered.columns.values)), axis = 1, inplace = True)"
   ]
  },
  {
   "attachments": {},
   "cell_type": "markdown",
   "metadata": {},
   "source": [
    "__Financial Planning__"
   ]
  },
  {
   "cell_type": "code",
   "execution_count": 360,
   "metadata": {},
   "outputs": [
    {
     "data": {
      "text/plain": [
       "<AxesSubplot:>"
      ]
     },
     "execution_count": 360,
     "metadata": {},
     "output_type": "execute_result"
    },
    {
     "data": {
      "image/png": "[encoded data removed]",
      "text/plain": [
       "<Figure size 640x480 with 2 Axes>"
      ]
     },
     "metadata": {},
     "output_type": "display_data"
    }
   ],
   "source": [
    "feats = list(filter(lambda x: 'PROPPLAN' in x, data.columns.values))\n",
    "# spearman correlation\n",
    "sns.heatmap(data[feats].corr(method = 'spearman'), annot = True)"
   ]
  },
  {
   "cell_type": "code",
   "execution_count": 361,
   "metadata": {},
   "outputs": [],
   "source": [
    "data_engineered['PROPPLAN'] = round((data['PROPPLAN_1'] + data['PROPPLAN_2'] + data['PROPPLAN_3']) / 3)"
   ]
  },
  {
   "cell_type": "code",
   "execution_count": 362,
   "metadata": {},
   "outputs": [],
   "source": [
    "data_engineered.drop(list(filter(lambda x: 'PROPPLAN_' in x, data_engineered.columns.values)), axis = 1, inplace = True)"
   ]
  },
  {
   "attachments": {},
   "cell_type": "markdown",
   "metadata": {},
   "source": [
    "__Financial competence__"
   ]
  },
  {
   "cell_type": "code",
   "execution_count": 363,
   "metadata": {},
   "outputs": [
    {
     "data": {
      "text/plain": [
       "<AxesSubplot:>"
      ]
     },
     "execution_count": 363,
     "metadata": {},
     "output_type": "execute_result"
    },
    {
     "data": {
      "image/png": "[encoded data removed]",
      "text/plain": [
       "<Figure size 640x480 with 2 Axes>"
      ]
     },
     "metadata": {},
     "output_type": "display_data"
    }
   ],
   "source": [
    "feats = list(filter(lambda x: 'MANAGE1' in x, data.columns.values))\n",
    "# spearman correlation\n",
    "sns.heatmap(data[feats].corr(method = 'spearman'), annot = True)"
   ]
  },
  {
   "cell_type": "code",
   "execution_count": 364,
   "metadata": {},
   "outputs": [],
   "source": [
    "data_engineered['MANAGE'] = round((data['MANAGE1_1'] + data['MANAGE1_2'] + data['MANAGE1_3'] + data['MANAGE1_4']) / 4)"
   ]
  },
  {
   "cell_type": "code",
   "execution_count": 365,
   "metadata": {},
   "outputs": [],
   "source": [
    "data_engineered.drop(list(filter(lambda x: 'MANAGE1' in x, data_engineered.columns.values)), axis = 1, inplace = True)"
   ]
  },
  {
   "attachments": {},
   "cell_type": "markdown",
   "metadata": {},
   "source": [
    "__MATHARDHSIP__"
   ]
  },
  {
   "cell_type": "code",
   "execution_count": 366,
   "metadata": {},
   "outputs": [
    {
     "data": {
      "text/plain": [
       "<AxesSubplot:>"
      ]
     },
     "execution_count": 366,
     "metadata": {},
     "output_type": "execute_result"
    },
    {
     "data": {
      "image/png": "[encoded data removed]",
      "text/plain": [
       "<Figure size 640x480 with 2 Axes>"
      ]
     },
     "metadata": {},
     "output_type": "display_data"
    }
   ],
   "source": [
    "feats = list(filter(lambda x: 'MATHARDSHIP' in x, data.columns.values))\n",
    "# spearman correlation\n",
    "sns.heatmap(data[feats].corr(method = 'spearman'), annot = True)"
   ]
  },
  {
   "cell_type": "code",
   "execution_count": 367,
   "metadata": {},
   "outputs": [],
   "source": [
    "data_engineered['MATHARDSHIP'] = round((data['MATHARDSHIP_1'] + data['MATHARDSHIP_2'] + data['MATHARDSHIP_3']\n",
    "                                    + data['MATHARDSHIP_4'] + data['MATHARDSHIP_5'] + data['MATHARDSHIP_6']) / 6)"
   ]
  },
  {
   "cell_type": "code",
   "execution_count": 368,
   "metadata": {},
   "outputs": [],
   "source": [
    "data_engineered.drop(list(filter(lambda x: 'MATHARDSHIP_' in x, data_engineered.columns.values)), axis = 1, inplace = True)"
   ]
  },
  {
   "attachments": {},
   "cell_type": "markdown",
   "metadata": {},
   "source": [
    "__SHOCKS__"
   ]
  },
  {
   "attachments": {},
   "cell_type": "markdown",
   "metadata": {},
   "source": [
    "Not changing SHOCKS features because no feature can trutly gather this information without lossing much of the original info"
   ]
  },
  {
   "attachments": {},
   "cell_type": "markdown",
   "metadata": {},
   "source": [
    "__FINANCIAL SOCIALIZATION__"
   ]
  },
  {
   "cell_type": "code",
   "execution_count": 369,
   "metadata": {},
   "outputs": [
    {
     "data": {
      "text/plain": [
       "<AxesSubplot:>"
      ]
     },
     "execution_count": 369,
     "metadata": {},
     "output_type": "execute_result"
    },
    {
     "data": {
      "image/png": "[encoded data removed]",
      "text/plain": [
       "<Figure size 640x480 with 2 Axes>"
      ]
     },
     "metadata": {},
     "output_type": "display_data"
    }
   ],
   "source": [
    "feats = list(filter(lambda x: 'FINSOC' in x, data.columns.values))\n",
    "# spearman correlation\n",
    "sns.heatmap(data[feats].corr(method = 'spearman'), annot = True)"
   ]
  },
  {
   "cell_type": "code",
   "execution_count": 370,
   "metadata": {},
   "outputs": [],
   "source": [
    "data_engineered['FINSOC'] = data['FINSOC2_1'] + data['FINSOC2_2'] + data['FINSOC2_3'] + data['FINSOC2_4'] + data['FINSOC2_5'] + data['FINSOC2_6'] + data['FINSOC2_7']"
   ]
  },
  {
   "cell_type": "code",
   "execution_count": 371,
   "metadata": {},
   "outputs": [],
   "source": [
    "data_engineered.drop(list(filter(lambda x: 'FINSOC2' in x, data_engineered.columns.values)), axis = 1, inplace = True)"
   ]
  },
  {
   "attachments": {},
   "cell_type": "markdown",
   "metadata": {},
   "source": [
    "__MATERIALISM__"
   ]
  },
  {
   "cell_type": "code",
   "execution_count": 372,
   "metadata": {},
   "outputs": [
    {
     "data": {
      "text/plain": [
       "<AxesSubplot:>"
      ]
     },
     "execution_count": 372,
     "metadata": {},
     "output_type": "execute_result"
    },
    {
     "data": {
      "image/png": "[encoded data removed]",
      "text/plain": [
       "<Figure size 640x480 with 2 Axes>"
      ]
     },
     "metadata": {},
     "output_type": "display_data"
    }
   ],
   "source": [
    "feats = list(filter(lambda x: 'MATERIALISM' in x, data.columns.values))\n",
    "# spearman correlation\n",
    "sns.heatmap(data[feats].corr(method = 'spearman'), annot = True)"
   ]
  },
  {
   "cell_type": "code",
   "execution_count": 373,
   "metadata": {},
   "outputs": [],
   "source": [
    "data_engineered['MATERIALISM'] = round((data['MATERIALISM_1'] + data['MATERIALISM_2'] + data['MATERIALISM_3']) / 3)"
   ]
  },
  {
   "cell_type": "code",
   "execution_count": 374,
   "metadata": {},
   "outputs": [],
   "source": [
    "data_engineered.drop(list(filter(lambda x: 'MATERIALISM_' in x, data_engineered.columns.values)), axis = 1, inplace = True)"
   ]
  },
  {
   "attachments": {},
   "cell_type": "markdown",
   "metadata": {},
   "source": [
    "__SELFCONTROL__"
   ]
  },
  {
   "cell_type": "code",
   "execution_count": 375,
   "metadata": {},
   "outputs": [
    {
     "data": {
      "text/plain": [
       "<AxesSubplot:>"
      ]
     },
     "execution_count": 375,
     "metadata": {},
     "output_type": "execute_result"
    },
    {
     "data": {
      "image/png": "[encoded data removed]",
      "text/plain": [
       "<Figure size 640x480 with 2 Axes>"
      ]
     },
     "metadata": {},
     "output_type": "display_data"
    }
   ],
   "source": [
    "feats = list(filter(lambda x: 'SELFCONTROL' in x, data.columns.values))\n",
    "# spearman correlation\n",
    "sns.heatmap(data[feats].corr(method = 'spearman'), annot = True)"
   ]
  },
  {
   "cell_type": "code",
   "execution_count": 376,
   "metadata": {},
   "outputs": [],
   "source": [
    "data_engineered['SELFCONTROL'] = round((data['SELFCONTROL_1'] + data['SELFCONTROL_2'] + data['SELFCONTROL_3']) / 3)"
   ]
  },
  {
   "cell_type": "code",
   "execution_count": 377,
   "metadata": {},
   "outputs": [],
   "source": [
    "data_engineered.drop(list(filter(lambda x: 'SELFCONTROL_' in x, data_engineered.columns.values)), axis = 1, inplace = True)"
   ]
  },
  {
   "attachments": {},
   "cell_type": "markdown",
   "metadata": {},
   "source": [
    "__OUTLOOK__"
   ]
  },
  {
   "cell_type": "code",
   "execution_count": 378,
   "metadata": {},
   "outputs": [
    {
     "data": {
      "text/plain": [
       "<AxesSubplot:>"
      ]
     },
     "execution_count": 378,
     "metadata": {},
     "output_type": "execute_result"
    },
    {
     "data": {
      "image/png": "[encoded data removed]",
      "text/plain": [
       "<Figure size 640x480 with 2 Axes>"
      ]
     },
     "metadata": {},
     "output_type": "display_data"
    }
   ],
   "source": [
    "feats = list(filter(lambda x: 'OUTLOOK' in x, data.columns.values))\n",
    "# spearman correlation\n",
    "sns.heatmap(data[feats].corr(method = 'spearman'), annot = True)"
   ]
  },
  {
   "cell_type": "code",
   "execution_count": 379,
   "metadata": {},
   "outputs": [],
   "source": [
    "data_engineered['OUTLOOK'] = round((data['OUTLOOK_1'] + data['OUTLOOK_2']) / 2)"
   ]
  },
  {
   "cell_type": "code",
   "execution_count": 380,
   "metadata": {},
   "outputs": [],
   "source": [
    "data_engineered.drop(list(filter(lambda x: 'OUTLOOK_' in x, data_engineered.columns.values)), axis = 1, inplace = True)"
   ]
  },
  {
   "attachments": {},
   "cell_type": "markdown",
   "metadata": {},
   "source": [
    "# One hot encoding\n",
    "\n",
    "Categorical variables: sample, AUTOMATED_1, AUTOMATED_2, HOUSING, LIVINGARRANGEMENT, COVERCOSTS, HSLOC, DISCOUNT (binary), Military_Status, generation, PPETHM, PPGENDER (binary), PPMARIT, PPREG4, PPREG9"
   ]
  },
  {
   "cell_type": "code",
   "execution_count": 381,
   "metadata": {},
   "outputs": [
    {
     "name": "stdout",
     "output_type": "stream",
     "text": [
      "(6038, 139)\n",
      "(6038, 164)\n"
     ]
    }
   ],
   "source": [
    "print(data_engineered.shape)\n",
    "print(data.shape)"
   ]
  },
  {
   "cell_type": "code",
   "execution_count": 382,
   "metadata": {},
   "outputs": [],
   "source": [
    "cat_feats = ['sample', 'FINGOALS', 'AUTOMATED_1', 'AUTOMATED_2',\n",
    "             'HOUSING', 'LIVINGARRANGEMENT', 'VOLATILITY',\n",
    "             'SNAP', 'FRAUD2', 'COVERCOSTS', 'MANAGE2',\n",
    "             'HSLOC', 'DISCOUNT', 'RETIRE', 'generation',\n",
    "             'PPETHM', 'PPGENDER', 'PPMARIT', 'PPREG4',\n",
    "             'PPREG9', ]"
   ]
  },
  {
   "cell_type": "code",
   "execution_count": 383,
   "metadata": {},
   "outputs": [],
   "source": [
    "# one hot encoding\n",
    "data = pd.get_dummies(data, columns = cat_feats, drop_first = True)\n",
    "data_engineered = pd.get_dummies(data_engineered, columns = cat_feats, drop_first = True)"
   ]
  },
  {
   "cell_type": "code",
   "execution_count": 384,
   "metadata": {},
   "outputs": [],
   "source": [
    "data.drop('EMPLOY', axis = 1, inplace = True) # drop employ because it is already one hot enconded\n",
    "data.drop('EMPLOY1_9', axis = 1, inplace = True) # drop because of perfect collinearity problem\n",
    "data.drop('Military_Status', axis = 1, inplace = True) # redundant with MILITARY\n",
    "\n",
    "data_engineered.drop('EMPLOY', axis = 1, inplace = True) # drop employ because it is already one hot enconded\n",
    "data_engineered.drop('EMPLOY1_9', axis = 1, inplace = True) # drop because of perfect collinearity problem\n",
    "data_engineered.drop('Military_Status', axis = 1, inplace = True) # redundant with MILITARY"
   ]
  },
  {
   "cell_type": "code",
   "execution_count": 385,
   "metadata": {},
   "outputs": [
    {
     "name": "stdout",
     "output_type": "stream",
     "text": [
      "(6038, 167)\n",
      "(6038, 192)\n"
     ]
    }
   ],
   "source": [
    "print(data_engineered.shape)\n",
    "print(data.shape)"
   ]
  },
  {
   "cell_type": "code",
   "execution_count": 386,
   "metadata": {},
   "outputs": [],
   "source": [
    "data.to_csv('data/preprocessed_data.csv')\n",
    "data_engineered.to_csv('data/preprocessed_data_engineered.csv')"
   ]
  },
  {
   "attachments": {},
   "cell_type": "markdown",
   "metadata": {},
   "source": [
    "# Feature selection"
   ]
  },
  {
   "cell_type": "code",
   "execution_count": 387,
   "metadata": {},
   "outputs": [],
   "source": [
    "# get all columns with more values than 0 and 1\n",
    "num_feats = list(filter(lambda x: data_engineered[x].nunique() > 2, data_engineered.columns.values))\n",
    "\n",
    "cat_feats = list(filter(lambda x: data_engineered[x].nunique() == 2, data_engineered.columns.values))"
   ]
  },
  {
   "cell_type": "code",
   "execution_count": 388,
   "metadata": {},
   "outputs": [
    {
     "data": {
      "text/plain": [
       "<AxesSubplot:>"
      ]
     },
     "execution_count": 388,
     "metadata": {},
     "output_type": "execute_result"
    },
    {
     "data": {
      "image/png": "[encoded data removed]",
      "text/plain": [
       "<Figure size 5000x3000 with 2 Axes>"
      ]
     },
     "metadata": {},
     "output_type": "display_data"
    }
   ],
   "source": [
    "# sns heatmap with annot and only on one side of the diagonal and only on correlations above 0.7\n",
    "plt.figure(figsize = (50, 30))\n",
    "sns.heatmap(data_engineered[num_feats].corr(method = 'spearman')[data_engineered[num_feats].corr(method = 'spearman') > 0.7].dropna(how = 'all').dropna(how = 'all', axis = 1), annot = True, cmap = 'coolwarm', vmin = -1, vmax = 1)"
   ]
  },
  {
   "cell_type": "code",
   "execution_count": 389,
   "metadata": {},
   "outputs": [
    {
     "data": {
      "text/plain": [
       "fpl            2\n",
       "VALUERANGES    2\n",
       "MORTGAGE       2\n",
       "HHEDUC         2\n",
       "PPEDUC         2\n",
       "PPHHSIZE       2\n",
       "PPINCIMP       2\n",
       "PPT18OV        2\n",
       "dtype: int64"
      ]
     },
     "execution_count": 389,
     "metadata": {},
     "output_type": "execute_result"
    }
   ],
   "source": [
    "# get pairs of features with correelation above 0.7\n",
    "corr = data_engineered[num_feats].corr(method = 'spearman')\n",
    "corr[corr > 0.7].notna().sum()[corr[corr > 0.7].notna().sum() > 1] # columns that are highly correlated with others"
   ]
  },
  {
   "cell_type": "code",
   "execution_count": 390,
   "metadata": {},
   "outputs": [
    {
     "data": {
      "text/plain": [
       "0.035577550171268124"
      ]
     },
     "execution_count": 390,
     "metadata": {},
     "output_type": "execute_result"
    }
   ],
   "source": [
    "data_engineered.corr(method = 'spearman')['MORTGAGE'].mean()"
   ]
  },
  {
   "cell_type": "code",
   "execution_count": 391,
   "metadata": {},
   "outputs": [
    {
     "data": {
      "text/plain": [
       "0.04101976125632419"
      ]
     },
     "execution_count": 391,
     "metadata": {},
     "output_type": "execute_result"
    }
   ],
   "source": [
    "data_engineered.corr(method = 'spearman')['VALUERANGES'].mean()"
   ]
  },
  {
   "cell_type": "code",
   "execution_count": 392,
   "metadata": {},
   "outputs": [],
   "source": [
    "data_feat_selection = data_engineered.copy()\n",
    "\n",
    "data_feat_selection.drop(['VALUERANGES', 'HHEDUC', 'PPT18OV'], axis = 1, inplace = True)"
   ]
  },
  {
   "cell_type": "code",
   "execution_count": 393,
   "metadata": {},
   "outputs": [],
   "source": [
    "data_feat_selection.to_csv('data/preprocessed_data_feat_selection.csv')"
   ]
  },
  {
   "attachments": {},
   "cell_type": "markdown",
   "metadata": {},
   "source": [
    "# PCA"
   ]
  },
  {
   "cell_type": "code",
   "execution_count": 397,
   "metadata": {},
   "outputs": [],
   "source": [
    "data_pca = data.copy()"
   ]
  },
  {
   "cell_type": "code",
   "execution_count": 398,
   "metadata": {},
   "outputs": [],
   "source": [
    "# get all columns with more values than 0 and 1\n",
    "num_feats = list(filter(lambda x: data[x].nunique() > 2, data.columns.values))\n",
    "\n",
    "cat_feats = list(filter(lambda x: data[x].nunique() == 2, data.columns.values))"
   ]
  },
  {
   "cell_type": "code",
   "execution_count": 414,
   "metadata": {},
   "outputs": [],
   "source": [
    "X = data_pca.drop(['fpl'] + cat_feats, axis = 1)"
   ]
  },
  {
   "cell_type": "code",
   "execution_count": 415,
   "metadata": {},
   "outputs": [],
   "source": [
    "from sklearn.preprocessing import StandardScaler\n",
    "X = StandardScaler().fit_transform(X)"
   ]
  },
  {
   "cell_type": "code",
   "execution_count": 416,
   "metadata": {},
   "outputs": [
    {
     "data": {
      "text/plain": [
       "array([0.19992895, 0.07090024, 0.05597695, 0.04356235, 0.0340453 ,\n",
       "       0.02948442, 0.02790797, 0.02449248, 0.02062166, 0.01940537,\n",
       "       0.01861263, 0.01745263, 0.01654039, 0.01576321, 0.01508769,\n",
       "       0.01449387, 0.01359362, 0.01310037, 0.0130622 , 0.01278125,\n",
       "       0.01260481, 0.0123874 , 0.01209428, 0.01193339, 0.01155228,\n",
       "       0.01120705, 0.01106146, 0.01075227, 0.01047941, 0.01020495,\n",
       "       0.00948376])"
      ]
     },
     "execution_count": 416,
     "metadata": {},
     "output_type": "execute_result"
    }
   ],
   "source": [
    "# https://towardsdatascience.com/5-must-know-dimensionality-reduction-techniques-via-prince-e6ffb27e55d1\n",
    "\n",
    "pca = PCA(n_components=0.8)\n",
    "\n",
    "principal_components = pca.fit_transform(X)\n",
    "\n",
    "pca.explained_variance_ratio_"
   ]
  },
  {
   "cell_type": "code",
   "execution_count": 417,
   "metadata": {},
   "outputs": [
    {
     "data": {
      "text/plain": [
       "31"
      ]
     },
     "execution_count": 417,
     "metadata": {},
     "output_type": "execute_result"
    }
   ],
   "source": [
    "len(pca.explained_variance_ratio_) # 31 principal components to keep 80% of the variance"
   ]
  },
  {
   "cell_type": "code",
   "execution_count": null,
   "metadata": {},
   "outputs": [],
   "source": [
    "# df = pd.DataFrame(data = principal_components, columns = ['PC1', 'PC2', 'PC3', 'PC4', 'PC5'])\n",
    "\n",
    "# TODO"
   ]
  },
  {
   "cell_type": "code",
   "execution_count": 411,
   "metadata": {},
   "outputs": [
    {
     "data": {
      "text/plain": [
       "149"
      ]
     },
     "execution_count": 411,
     "metadata": {},
     "output_type": "execute_result"
    }
   ],
   "source": [
    "# OU\n",
    "\n",
    "X = data_pca.drop('fpl', axis = 1)\n",
    "X = StandardScaler().fit_transform(X)\n",
    "\n",
    "pca = PCA(n_components=0.95)\n",
    "\n",
    "principal_components = pca.fit_transform(X)\n",
    "\n",
    "len(pca.explained_variance_ratio_) # 149 PCs to keep 95% of variance"
   ]
  }
 ],
 "metadata": {
  "kernelspec": {
   "display_name": "functionalenv",
   "language": "python",
   "name": "python3"
  },
  "language_info": {
   "codemirror_mode": {
    "name": "ipython",
    "version": 3
   },
   "file_extension": ".py",
   "mimetype": "text/x-python",
   "name": "python",
   "nbconvert_exporter": "python",
   "pygments_lexer": "ipython3",
   "version": "3.9.13"
  },
  "orig_nbformat": 4,
  "vscode": {
   "interpreter": {
    "hash": "c3e1b914758c0064768d5b7ded7793eb93afcfd32fe458b7f56104c45072a0c5"
   }
  }
 },
 "nbformat": 4,
 "nbformat_minor": 2
}
